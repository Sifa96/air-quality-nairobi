{
  "cells": [
    {
      "cell_type": "code",
      "execution_count": 187,
      "id": "0e52ebcb",
      "metadata": {
        "id": "0e52ebcb"
      },
      "outputs": [],
      "source": [
        "# import packages\n",
        "import pandas as pd\n",
        "import numpy as np\n",
        "from numpy import array\n",
        "import pickle\n",
        "import seaborn as sns\n",
        "import matplotlib.pyplot as plt\n",
        "import tensorflow as tf\n",
        "from scalecast.Forecaster import Forecaster\n",
        "from tensorflow.keras.preprocessing import timeseries_dataset_from_array\n",
        "from tensorflow.keras.callbacks import Callback\n",
        "from tensorflow.keras.callbacks import EarlyStopping\n",
        "from tensorflow.keras.callbacks import ModelCheckpoint\n",
        "from keras.models import load_model\n",
        "from keras.models import Sequential\n",
        "from tensorflow.keras.layers import Dense, LSTM, Dropout, Lambda, Bidirectional\n",
        "from tensorflow.keras.optimizers import Adam\n",
        "from tensorflow.keras.losses import Huber\n",
        "import statsmodels.api as sm\n",
        "from statsmodels.tsa.seasonal import seasonal_decompose\n",
        "import matplotlib.pyplot as plt\n",
        "from sklearn.preprocessing import MinMaxScaler\n",
        "scaler = MinMaxScaler()\n",
        "from keras.preprocessing.sequence import TimeseriesGenerator\n",
        "from tensorflow.keras.metrics import mean_squared_error\n",
        "from math import sqrt"
      ]
    },
    {
      "cell_type": "code",
      "execution_count": 188,
      "id": "b8aec83f",
      "metadata": {},
      "outputs": [],
      "source": [
        "# load the datasets\n",
        "%store -r sensor_data\n",
        "%store -r data_hum\n",
        "%store -r data_pm10\n",
        "%store -r data_pm2_5\n",
        "%store -r data_temp"
      ]
    },
    {
      "cell_type": "code",
      "execution_count": 189,
      "id": "bc089a69",
      "metadata": {},
      "outputs": [
        {
          "data": {
            "text/html": [
              "<div>\n",
              "<style scoped>\n",
              "    .dataframe tbody tr th:only-of-type {\n",
              "        vertical-align: middle;\n",
              "    }\n",
              "\n",
              "    .dataframe tbody tr th {\n",
              "        vertical-align: top;\n",
              "    }\n",
              "\n",
              "    .dataframe thead th {\n",
              "        text-align: right;\n",
              "    }\n",
              "</style>\n",
              "<table border=\"1\" class=\"dataframe\">\n",
              "  <thead>\n",
              "    <tr style=\"text-align: right;\">\n",
              "      <th></th>\n",
              "      <th>index</th>\n",
              "      <th>sensor_id</th>\n",
              "      <th>sensor_type</th>\n",
              "      <th>location</th>\n",
              "      <th>lat</th>\n",
              "      <th>lon</th>\n",
              "      <th>timestamp</th>\n",
              "      <th>value_type</th>\n",
              "      <th>value</th>\n",
              "      <th>day</th>\n",
              "      <th>hour</th>\n",
              "      <th>time</th>\n",
              "      <th>quality</th>\n",
              "    </tr>\n",
              "  </thead>\n",
              "  <tbody>\n",
              "    <tr>\n",
              "      <th>0</th>\n",
              "      <td>1</td>\n",
              "      <td>71</td>\n",
              "      <td>pms5003</td>\n",
              "      <td>riruta</td>\n",
              "      <td>-1.297</td>\n",
              "      <td>36.743</td>\n",
              "      <td>2021-11-01 00:00:16.023904</td>\n",
              "      <td>PM2.5</td>\n",
              "      <td>13.6</td>\n",
              "      <td>Monday</td>\n",
              "      <td>0</td>\n",
              "      <td>Late Night</td>\n",
              "      <td>moderate</td>\n",
              "    </tr>\n",
              "    <tr>\n",
              "      <th>1</th>\n",
              "      <td>4</td>\n",
              "      <td>158</td>\n",
              "      <td>pms5003</td>\n",
              "      <td>kinoo</td>\n",
              "      <td>-1.255</td>\n",
              "      <td>36.693</td>\n",
              "      <td>2021-11-01 00:00:16.320020</td>\n",
              "      <td>PM2.5</td>\n",
              "      <td>87.2</td>\n",
              "      <td>Monday</td>\n",
              "      <td>0</td>\n",
              "      <td>Late Night</td>\n",
              "      <td>unhealthy</td>\n",
              "    </tr>\n",
              "    <tr>\n",
              "      <th>2</th>\n",
              "      <td>9</td>\n",
              "      <td>93</td>\n",
              "      <td>pms5003</td>\n",
              "      <td>haile_sellasie</td>\n",
              "      <td>-1.292</td>\n",
              "      <td>36.821</td>\n",
              "      <td>2021-11-01 00:00:21.263951</td>\n",
              "      <td>PM2.5</td>\n",
              "      <td>9.6</td>\n",
              "      <td>Monday</td>\n",
              "      <td>0</td>\n",
              "      <td>Late Night</td>\n",
              "      <td>good</td>\n",
              "    </tr>\n",
              "    <tr>\n",
              "      <th>3</th>\n",
              "      <td>16</td>\n",
              "      <td>844</td>\n",
              "      <td>pms5003</td>\n",
              "      <td>roysambu</td>\n",
              "      <td>-1.218</td>\n",
              "      <td>36.887</td>\n",
              "      <td>2021-11-01 00:00:24.731908</td>\n",
              "      <td>PM2.5</td>\n",
              "      <td>14.0</td>\n",
              "      <td>Monday</td>\n",
              "      <td>0</td>\n",
              "      <td>Late Night</td>\n",
              "      <td>moderate</td>\n",
              "    </tr>\n",
              "    <tr>\n",
              "      <th>4</th>\n",
              "      <td>21</td>\n",
              "      <td>174</td>\n",
              "      <td>pms5003</td>\n",
              "      <td>muthangari</td>\n",
              "      <td>-1.261</td>\n",
              "      <td>36.782</td>\n",
              "      <td>2021-11-01 00:00:26.807988</td>\n",
              "      <td>PM2.5</td>\n",
              "      <td>11.25</td>\n",
              "      <td>Monday</td>\n",
              "      <td>0</td>\n",
              "      <td>Late Night</td>\n",
              "      <td>good</td>\n",
              "    </tr>\n",
              "  </tbody>\n",
              "</table>\n",
              "</div>"
            ],
            "text/plain": [
              "   index  sensor_id sensor_type        location    lat     lon  \\\n",
              "0      1         71     pms5003          riruta -1.297  36.743   \n",
              "1      4        158     pms5003           kinoo -1.255  36.693   \n",
              "2      9         93     pms5003  haile_sellasie -1.292  36.821   \n",
              "3     16        844     pms5003        roysambu -1.218  36.887   \n",
              "4     21        174     pms5003      muthangari -1.261  36.782   \n",
              "\n",
              "                   timestamp value_type  value     day  hour        time  \\\n",
              "0 2021-11-01 00:00:16.023904      PM2.5   13.6  Monday     0  Late Night   \n",
              "1 2021-11-01 00:00:16.320020      PM2.5   87.2  Monday     0  Late Night   \n",
              "2 2021-11-01 00:00:21.263951      PM2.5    9.6  Monday     0  Late Night   \n",
              "3 2021-11-01 00:00:24.731908      PM2.5   14.0  Monday     0  Late Night   \n",
              "4 2021-11-01 00:00:26.807988      PM2.5  11.25  Monday     0  Late Night   \n",
              "\n",
              "     quality  \n",
              "0   moderate  \n",
              "1  unhealthy  \n",
              "2       good  \n",
              "3   moderate  \n",
              "4       good  "
            ]
          },
          "execution_count": 189,
          "metadata": {},
          "output_type": "execute_result"
        }
      ],
      "source": [
        "data_pm2_5.head()"
      ]
    },
    {
      "cell_type": "code",
      "execution_count": 190,
      "id": "57aa6a9b",
      "metadata": {
        "id": "57aa6a9b"
      },
      "outputs": [],
      "source": [
        "# filter to work with riruta data\n",
        "riruta = data_pm2_5.loc[data_pm2_5['location'] == 'riruta']\n",
        "#drop irrelevant columns\n",
        "riruta_data = riruta.drop(['sensor_type', 'sensor_id', 'location', 'lat', 'lon', 'value_type', 'day', 'time', 'hour', 'quality'], axis = 1)\n",
        "# cut shape\n",
        "riruta_data = riruta_data.iloc[:50000]"
      ]
    },
    {
      "cell_type": "code",
      "execution_count": 191,
      "id": "4ae05eH9TnuM",
      "metadata": {
        "id": "4ae05eH9TnuM"
      },
      "outputs": [],
      "source": [
        "# set datetime as index\n",
        "riruta_data.timestamp = pd.to_datetime(riruta_data['timestamp'])\n",
        "riruta_data = riruta_data.set_index(pd.DatetimeIndex(riruta_data['timestamp']))\n",
        "# drop extra columns\n",
        "riruta_data = riruta_data.drop(['index', 'timestamp'], axis=1)"
      ]
    },
    {
      "cell_type": "code",
      "execution_count": 192,
      "id": "OKfNzj9lqEl5",
      "metadata": {
        "colab": {
          "base_uri": "https://localhost:8080/"
        },
        "id": "OKfNzj9lqEl5",
        "outputId": "899d02cb-167a-434b-84e0-43c4200bc411"
      },
      "outputs": [
        {
          "name": "stdout",
          "output_type": "stream",
          "text": [
            "index null 0\n",
            "values null 0\n"
          ]
        }
      ],
      "source": [
        "# resample and set freq\n",
        "riruta_data = riruta_data.resample('10T').nearest()\n",
        "riruta_data = riruta_data.asfreq('10T')\n",
        "riruta_data.index.freq = '10T'\n",
        "riruta_data.index=riruta_data.index.dropna()\n",
        "print('index null', riruta_data.index.isna().sum())\n",
        "print('values null', riruta_data['value'].isnull().sum())"
      ]
    },
    {
      "cell_type": "code",
      "execution_count": 193,
      "id": "c80db7cb",
      "metadata": {},
      "outputs": [
        {
          "name": "stdout",
          "output_type": "stream",
          "text": [
            "frequency  10T\n"
          ]
        }
      ],
      "source": [
        "# confirm frequency\n",
        "print('frequency ',pd.infer_freq(riruta_data.index))"
      ]
    },
    {
      "cell_type": "code",
      "execution_count": 194,
      "id": "82IpSGY5Ulzn",
      "metadata": {
        "id": "82IpSGY5Ulzn"
      },
      "outputs": [
        {
          "name": "stdout",
          "output_type": "stream",
          "text": [
            "<class 'pandas.core.frame.DataFrame'>\n",
            "DatetimeIndex: 13501 entries, 2021-11-01 00:00:00 to 2022-02-02 18:00:00\n",
            "Freq: 10T\n",
            "Data columns (total 1 columns):\n",
            " #   Column  Non-Null Count  Dtype \n",
            "---  ------  --------------  ----- \n",
            " 0   value   13501 non-null  object\n",
            "dtypes: object(1)\n",
            "memory usage: 211.0+ KB\n"
          ]
        }
      ],
      "source": [
        "#check data info\n",
        "riruta_data.info()"
      ]
    },
    {
      "cell_type": "code",
      "execution_count": 195,
      "id": "47933f0c",
      "metadata": {},
      "outputs": [
        {
          "data": {
            "text/html": [
              "<div>\n",
              "<style scoped>\n",
              "    .dataframe tbody tr th:only-of-type {\n",
              "        vertical-align: middle;\n",
              "    }\n",
              "\n",
              "    .dataframe tbody tr th {\n",
              "        vertical-align: top;\n",
              "    }\n",
              "\n",
              "    .dataframe thead th {\n",
              "        text-align: right;\n",
              "    }\n",
              "</style>\n",
              "<table border=\"1\" class=\"dataframe\">\n",
              "  <thead>\n",
              "    <tr style=\"text-align: right;\">\n",
              "      <th></th>\n",
              "      <th>value</th>\n",
              "    </tr>\n",
              "    <tr>\n",
              "      <th>timestamp</th>\n",
              "      <th></th>\n",
              "    </tr>\n",
              "  </thead>\n",
              "  <tbody>\n",
              "    <tr>\n",
              "      <th>2021-11-01 00:00:00</th>\n",
              "      <td>13.6</td>\n",
              "    </tr>\n",
              "    <tr>\n",
              "      <th>2021-11-01 00:10:00</th>\n",
              "      <td>19.0</td>\n",
              "    </tr>\n",
              "    <tr>\n",
              "      <th>2021-11-01 00:20:00</th>\n",
              "      <td>12.5</td>\n",
              "    </tr>\n",
              "    <tr>\n",
              "      <th>2021-11-01 00:30:00</th>\n",
              "      <td>13.0</td>\n",
              "    </tr>\n",
              "    <tr>\n",
              "      <th>2021-11-01 00:40:00</th>\n",
              "      <td>19.0</td>\n",
              "    </tr>\n",
              "    <tr>\n",
              "      <th>2021-11-01 00:50:00</th>\n",
              "      <td>20.0</td>\n",
              "    </tr>\n",
              "    <tr>\n",
              "      <th>2021-11-01 01:00:00</th>\n",
              "      <td>17.0</td>\n",
              "    </tr>\n",
              "    <tr>\n",
              "      <th>2021-11-01 01:10:00</th>\n",
              "      <td>18.0</td>\n",
              "    </tr>\n",
              "    <tr>\n",
              "      <th>2021-11-01 01:20:00</th>\n",
              "      <td>17.2</td>\n",
              "    </tr>\n",
              "    <tr>\n",
              "      <th>2021-11-01 01:30:00</th>\n",
              "      <td>15.6</td>\n",
              "    </tr>\n",
              "    <tr>\n",
              "      <th>2021-11-01 01:40:00</th>\n",
              "      <td>20.75</td>\n",
              "    </tr>\n",
              "    <tr>\n",
              "      <th>2021-11-01 01:50:00</th>\n",
              "      <td>17.8</td>\n",
              "    </tr>\n",
              "    <tr>\n",
              "      <th>2021-11-01 02:00:00</th>\n",
              "      <td>18.4</td>\n",
              "    </tr>\n",
              "    <tr>\n",
              "      <th>2021-11-01 02:10:00</th>\n",
              "      <td>26.33</td>\n",
              "    </tr>\n",
              "    <tr>\n",
              "      <th>2021-11-01 02:20:00</th>\n",
              "      <td>25.0</td>\n",
              "    </tr>\n",
              "  </tbody>\n",
              "</table>\n",
              "</div>"
            ],
            "text/plain": [
              "                     value\n",
              "timestamp                 \n",
              "2021-11-01 00:00:00   13.6\n",
              "2021-11-01 00:10:00   19.0\n",
              "2021-11-01 00:20:00   12.5\n",
              "2021-11-01 00:30:00   13.0\n",
              "2021-11-01 00:40:00   19.0\n",
              "2021-11-01 00:50:00   20.0\n",
              "2021-11-01 01:00:00   17.0\n",
              "2021-11-01 01:10:00   18.0\n",
              "2021-11-01 01:20:00   17.2\n",
              "2021-11-01 01:30:00   15.6\n",
              "2021-11-01 01:40:00  20.75\n",
              "2021-11-01 01:50:00   17.8\n",
              "2021-11-01 02:00:00   18.4\n",
              "2021-11-01 02:10:00  26.33\n",
              "2021-11-01 02:20:00   25.0"
            ]
          },
          "execution_count": 195,
          "metadata": {},
          "output_type": "execute_result"
        }
      ],
      "source": [
        "riruta_data.head(15)"
      ]
    },
    {
      "cell_type": "code",
      "execution_count": 103,
      "id": "fe5f72b3",
      "metadata": {},
      "outputs": [
        {
          "data": {
            "text/html": [
              "<div>\n",
              "<style scoped>\n",
              "    .dataframe tbody tr th:only-of-type {\n",
              "        vertical-align: middle;\n",
              "    }\n",
              "\n",
              "    .dataframe tbody tr th {\n",
              "        vertical-align: top;\n",
              "    }\n",
              "\n",
              "    .dataframe thead th {\n",
              "        text-align: right;\n",
              "    }\n",
              "</style>\n",
              "<table border=\"1\" class=\"dataframe\">\n",
              "  <thead>\n",
              "    <tr style=\"text-align: right;\">\n",
              "      <th></th>\n",
              "      <th>value</th>\n",
              "    </tr>\n",
              "    <tr>\n",
              "      <th>timestamp</th>\n",
              "      <th></th>\n",
              "    </tr>\n",
              "  </thead>\n",
              "  <tbody>\n",
              "    <tr>\n",
              "      <th>2022-02-02 17:20:00</th>\n",
              "      <td>36.2</td>\n",
              "    </tr>\n",
              "    <tr>\n",
              "      <th>2022-02-02 17:30:00</th>\n",
              "      <td>30.0</td>\n",
              "    </tr>\n",
              "    <tr>\n",
              "      <th>2022-02-02 17:40:00</th>\n",
              "      <td>18.8</td>\n",
              "    </tr>\n",
              "    <tr>\n",
              "      <th>2022-02-02 17:50:00</th>\n",
              "      <td>24.6</td>\n",
              "    </tr>\n",
              "    <tr>\n",
              "      <th>2022-02-02 18:00:00</th>\n",
              "      <td>45.0</td>\n",
              "    </tr>\n",
              "  </tbody>\n",
              "</table>\n",
              "</div>"
            ],
            "text/plain": [
              "                    value\n",
              "timestamp                \n",
              "2022-02-02 17:20:00  36.2\n",
              "2022-02-02 17:30:00  30.0\n",
              "2022-02-02 17:40:00  18.8\n",
              "2022-02-02 17:50:00  24.6\n",
              "2022-02-02 18:00:00  45.0"
            ]
          },
          "execution_count": 103,
          "metadata": {},
          "output_type": "execute_result"
        }
      ],
      "source": [
        "riruta_data.tail()"
      ]
    },
    {
      "cell_type": "code",
      "execution_count": 211,
      "id": "455ab541",
      "metadata": {},
      "outputs": [
        {
          "name": "stdout",
          "output_type": "stream",
          "text": [
            "mean 1 = 24.455274074074072\n",
            "mean 2 = 22.1251429417864\n",
            "var 1 = 190.81018904177844\n",
            "var 2 = 218.39762255363888\n"
          ]
        }
      ],
      "source": [
        "# check for stationarity\n",
        "split = int(len(riruta_data) / 2)\n",
        "X1, X2 = riruta_data['value'][0:split], riruta_data['value'][split:]\n",
        "X2 = pd.to_numeric(X2, errors='coerce')\n",
        "mean1, mean2 = X1.mean(), X2.mean()\n",
        "var1, var2 = X1.var(), X2.var()\n",
        "print('mean 1 =', mean1)\n",
        "print('mean 2 =', mean2)\n",
        "print('var 1 =', var1)\n",
        "print('var 2 =', var2)"
      ]
    },
    {
      "cell_type": "code",
      "execution_count": 13,
      "id": "b9b7f82d",
      "metadata": {},
      "outputs": [
        {
          "data": {
            "image/png": "[encoded data removed]",
            "text/plain": [
              "<Figure size 640x480 with 4 Axes>"
            ]
          },
          "metadata": {},
          "output_type": "display_data"
        }
      ],
      "source": [
        "# additional stationarity, cyclic check\n",
        "%matplotlib inline\n",
        "decomposition = sm.tsa.seasonal_decompose(riruta_data, model='additive', period = 7)\n",
        "fig = decomposition.plot()\n",
        "plt.show()"
      ]
    },
    {
      "cell_type": "code",
      "execution_count": 196,
      "id": "658d0d70",
      "metadata": {},
      "outputs": [
        {
          "name": "stdout",
          "output_type": "stream",
          "text": [
            "(9451, 1)\n",
            "(4050, 1)\n"
          ]
        }
      ],
      "source": [
        "# split into test and train\n",
        "train = riruta_data.iloc[:round(len(riruta_data)*0.7)]\n",
        "test = riruta_data.iloc[round(len(riruta_data)*0.7):]\n",
        "print(train.shape)\n",
        "print(test.shape)"
      ]
    },
    {
      "cell_type": "code",
      "execution_count": 197,
      "id": "e386096d",
      "metadata": {},
      "outputs": [],
      "source": [
        "# perform min max scaler\n",
        "scaled_train = scaler.fit_transform(train)\n",
        "scaled_test = scaler.fit_transform(test)"
      ]
    },
    {
      "cell_type": "code",
      "execution_count": 198,
      "id": "905435cd",
      "metadata": {},
      "outputs": [
        {
          "name": "stdout",
          "output_type": "stream",
          "text": [
            "(8951, 500, 1) (8951, 1)\n",
            "(3550, 500, 1) (3550, 1)\n"
          ]
        }
      ],
      "source": [
        "# transform univariate time series to supervised learning problem\n",
        " \n",
        "# split a univariate sequence into samples\n",
        "def split_sequence(sequence, n_steps):\n",
        "    X,y = list(), list()\n",
        "    for i in range(len(sequence)):\n",
        "        # find the end of this pattern\n",
        "        end_ix= i + n_steps\n",
        "        # check if we are beyond the sequence\n",
        "        if end_ix > len(sequence)-1:\n",
        "            break\n",
        "        # gather input and output parts of the pattern\n",
        "        seq_x,seq_y = sequence[i:end_ix], sequence[end_ix]\n",
        "        X.append(seq_x)\n",
        "        y.append(seq_y)        \n",
        "    return array(X), array(y)\n",
        "\n",
        "# transform training data to a supervised learning problem\n",
        "X, y = split_sequence(scaled_train, 500)\n",
        "print(X.shape, y.shape)\n",
        "\n",
        "# transform testing data to a supervised learning problem\n",
        "x_test, y_test = split_sequence(scaled_test, 500)\n",
        "print(x_test.shape, y_test.shape)\n"
      ]
    },
    {
      "cell_type": "code",
      "execution_count": 199,
      "id": "d9ef4d48",
      "metadata": {},
      "outputs": [
        {
          "name": "stdout",
          "output_type": "stream",
          "text": [
            "(8951, 1, 1) (3550, 1, 1)\n"
          ]
        }
      ],
      "source": [
        "# transform input from [samples, features] to [samples, timesteps, features]\n",
        "y = y.reshape((y.shape[0], y.shape[1], 1))\n",
        "\n",
        "y_test = y_test.reshape((y_test.shape[0], y_test.shape[1], 1))\n",
        "print(y.shape, y_test.shape)"
      ]
    },
    {
      "cell_type": "code",
      "execution_count": 200,
      "id": "ByfzWA9aTTlK",
      "metadata": {
        "id": "ByfzWA9aTTlK"
      },
      "outputs": [],
      "source": [
        "# define model\n",
        "model = Sequential()\n",
        "model.add(LSTM(20, activation='relu', input_shape=(500,1)))\n",
        "model.add(Dense(1))\n",
        "model.compile(optimizer='adam', loss='mse')"
      ]
    },
    {
      "cell_type": "code",
      "execution_count": 201,
      "id": "756163fc",
      "metadata": {},
      "outputs": [],
      "source": [
        "# create one test dataset\n",
        "dataset_test = timeseries_dataset_from_array(\n",
        "    x_test,\n",
        "    y_test,\n",
        "    sequence_length=500,\n",
        "    # sampling_rate=,\n",
        "    # batch_size=,\n",
        ")"
      ]
    },
    {
      "cell_type": "code",
      "execution_count": 202,
      "id": "ae314236",
      "metadata": {},
      "outputs": [
        {
          "name": "stdout",
          "output_type": "stream",
          "text": [
            "Epoch 1/10\n",
            "280/280 [==============================] - ETA: 0s - loss: 0.0044\n",
            "Epoch 1: val_loss improved from inf to 0.00226, saving model to lstm_model.h5\n",
            "280/280 [==============================] - 73s 244ms/step - loss: 0.0044 - val_loss: 0.0023\n",
            "Epoch 2/10\n",
            "280/280 [==============================] - ETA: 0s - loss: 0.0026\n",
            "Epoch 2: val_loss improved from 0.00226 to 0.00193, saving model to lstm_model.h5\n",
            "280/280 [==============================] - 65s 234ms/step - loss: 0.0026 - val_loss: 0.0019\n",
            "Epoch 3/10\n",
            "280/280 [==============================] - ETA: 0s - loss: 0.0025\n",
            "Epoch 3: val_loss improved from 0.00193 to 0.00184, saving model to lstm_model.h5\n",
            "280/280 [==============================] - 71s 254ms/step - loss: 0.0025 - val_loss: 0.0018\n",
            "Epoch 4/10\n",
            "280/280 [==============================] - ETA: 0s - loss: 0.0024\n",
            "Epoch 4: val_loss improved from 0.00184 to 0.00178, saving model to lstm_model.h5\n",
            "280/280 [==============================] - 69s 245ms/step - loss: 0.0024 - val_loss: 0.0018\n",
            "Epoch 5/10\n",
            "280/280 [==============================] - ETA: 0s - loss: 0.0024\n",
            "Epoch 5: val_loss did not improve from 0.00178\n",
            "280/280 [==============================] - 72s 257ms/step - loss: 0.0024 - val_loss: 0.0018\n",
            "Epoch 6/10\n",
            "280/280 [==============================] - ETA: 0s - loss: 0.0024\n",
            "Epoch 6: val_loss improved from 0.00178 to 0.00176, saving model to lstm_model.h5\n",
            "280/280 [==============================] - 75s 268ms/step - loss: 0.0024 - val_loss: 0.0018\n",
            "Epoch 7/10\n",
            "280/280 [==============================] - ETA: 0s - loss: 0.0023\n",
            "Epoch 7: val_loss improved from 0.00176 to 0.00174, saving model to lstm_model.h5\n",
            "280/280 [==============================] - 60s 216ms/step - loss: 0.0023 - val_loss: 0.0017\n",
            "Epoch 8/10\n",
            "280/280 [==============================] - ETA: 0s - loss: 0.0023\n",
            "Epoch 8: val_loss improved from 0.00174 to 0.00172, saving model to lstm_model.h5\n",
            "280/280 [==============================] - 57s 205ms/step - loss: 0.0023 - val_loss: 0.0017\n",
            "Epoch 9/10\n",
            "280/280 [==============================] - ETA: 0s - loss: 0.0023\n",
            "Epoch 9: val_loss improved from 0.00172 to 0.00172, saving model to lstm_model.h5\n",
            "280/280 [==============================] - 62s 221ms/step - loss: 0.0023 - val_loss: 0.0017\n",
            "Epoch 10/10\n",
            "280/280 [==============================] - ETA: 0s - loss: 0.0023\n",
            "Epoch 10: val_loss improved from 0.00172 to 0.00168, saving model to lstm_model.h5\n",
            "280/280 [==============================] - 56s 200ms/step - loss: 0.0023 - val_loss: 0.0017\n"
          ]
        }
      ],
      "source": [
        "# save model\n",
        "path_checkpoint = \"lstm_model.h5\"\n",
        "\n",
        "# define early stopping callback\n",
        "es_callback = EarlyStopping(monitor=\"val_loss\", min_delta=0, patience=5)\n",
        "\n",
        "modelckpt_callback = ModelCheckpoint(\n",
        "    monitor=\"val_loss\",\n",
        "    filepath=path_checkpoint,\n",
        "    verbose=1,\n",
        "    save_weights_only=True,\n",
        "    save_best_only=True,\n",
        ")\n",
        "\n",
        "# fit model\n",
        "history = model.fit(X, \n",
        "                    y, \n",
        "                    epochs=10,\n",
        "    validation_data=[x_test,y_test],\n",
        "    callbacks=[es_callback, modelckpt_callback]\n",
        ")"
      ]
    },
    {
      "cell_type": "code",
      "execution_count": 203,
      "id": "33a0f25a",
      "metadata": {},
      "outputs": [
        {
          "data": {
            "image/png": "[encoded data removed]",
            "text/plain": [
              "<Figure size 640x480 with 1 Axes>"
            ]
          },
          "metadata": {},
          "output_type": "display_data"
        }
      ],
      "source": [
        "# visualize loss\n",
        "def visualize_loss(history, title):\n",
        "    loss = history.history[\"loss\"]\n",
        "    val_loss = history.history[\"val_loss\"]\n",
        "    epochs = range(len(loss))\n",
        "    plt.figure()\n",
        "    plt.plot(epochs, loss, \"b\", label=\"Training loss\")\n",
        "    plt.plot(epochs, val_loss, \"r\", label=\"Validation loss\")\n",
        "    plt.title(title)\n",
        "    plt.xlabel(\"Epochs\")\n",
        "    plt.ylabel(\"Loss\")\n",
        "    plt.legend()\n",
        "    plt.show()\n",
        "\n",
        "\n",
        "visualize_loss(history, \"Training and Validation Loss\")"
      ]
    },
    {
      "cell_type": "code",
      "execution_count": 204,
      "id": "bd9c4df6",
      "metadata": {},
      "outputs": [
        {
          "name": "stdout",
          "output_type": "stream",
          "text": [
            "111/111 [==============================] - 8s 67ms/step\n"
          ]
        },
        {
          "data": {
            "text/plain": [
              "array([[0.04046806],\n",
              "       [0.04908637],\n",
              "       [0.04740526],\n",
              "       ...,\n",
              "       [0.13289532],\n",
              "       [0.10514444],\n",
              "       [0.10374002]], dtype=float32)"
            ]
          },
          "execution_count": 204,
          "metadata": {},
          "output_type": "execute_result"
        }
      ],
      "source": [
        "# predict the test set\n",
        "test_predictions = model.predict(x_test)\n",
        "test_predictions"
      ]
    },
    {
      "cell_type": "code",
      "execution_count": 205,
      "id": "245bf047",
      "metadata": {},
      "outputs": [
        {
          "name": "stdout",
          "output_type": "stream",
          "text": [
            "3550\n"
          ]
        }
      ],
      "source": [
        "# confirm length of predictions\n",
        "print(len(test_predictions))\n",
        "\n",
        "# invert the min max scaler to get the true predictions\n",
        "# obj = scaler.fit(test_predictions)\n",
        "true_predictions = scaler.inverse_transform(test_predictions)"
      ]
    },
    {
      "cell_type": "code",
      "execution_count": 206,
      "id": "d4cf93d3",
      "metadata": {},
      "outputs": [
        {
          "name": "stderr",
          "output_type": "stream",
          "text": [
            "C:\\Users\\a\\AppData\\Local\\Temp\\ipykernel_22300\\1872209753.py:6: SettingWithCopyWarning: \n",
            "A value is trying to be set on a copy of a slice from a DataFrame.\n",
            "Try using .loc[row_indexer,col_indexer] = value instead\n",
            "\n",
            "See the caveats in the documentation: https://pandas.pydata.org/pandas-docs/stable/user_guide/indexing.html#returning-a-view-versus-a-copy\n",
            "  full_test['predictions']=predicted\n"
          ]
        },
        {
          "data": {
            "text/html": [
              "<div>\n",
              "<style scoped>\n",
              "    .dataframe tbody tr th:only-of-type {\n",
              "        vertical-align: middle;\n",
              "    }\n",
              "\n",
              "    .dataframe tbody tr th {\n",
              "        vertical-align: top;\n",
              "    }\n",
              "\n",
              "    .dataframe thead th {\n",
              "        text-align: right;\n",
              "    }\n",
              "</style>\n",
              "<table border=\"1\" class=\"dataframe\">\n",
              "  <thead>\n",
              "    <tr style=\"text-align: right;\">\n",
              "      <th></th>\n",
              "      <th>value</th>\n",
              "      <th>predictions</th>\n",
              "    </tr>\n",
              "    <tr>\n",
              "      <th>timestamp</th>\n",
              "      <th></th>\n",
              "      <th></th>\n",
              "    </tr>\n",
              "  </thead>\n",
              "  <tbody>\n",
              "    <tr>\n",
              "      <th>2022-01-09 02:30:00</th>\n",
              "      <td>14.25</td>\n",
              "      <td>11.267186</td>\n",
              "    </tr>\n",
              "    <tr>\n",
              "      <th>2022-01-09 02:40:00</th>\n",
              "      <td>11.6</td>\n",
              "      <td>13.240777</td>\n",
              "    </tr>\n",
              "    <tr>\n",
              "      <th>2022-01-09 02:50:00</th>\n",
              "      <td>15.2</td>\n",
              "      <td>12.855804</td>\n",
              "    </tr>\n",
              "    <tr>\n",
              "      <th>2022-01-09 03:00:00</th>\n",
              "      <td>16.6</td>\n",
              "      <td>14.473936</td>\n",
              "    </tr>\n",
              "    <tr>\n",
              "      <th>2022-01-09 03:10:00</th>\n",
              "      <td>19.2</td>\n",
              "      <td>15.914989</td>\n",
              "    </tr>\n",
              "    <tr>\n",
              "      <th>...</th>\n",
              "      <td>...</td>\n",
              "      <td>...</td>\n",
              "    </tr>\n",
              "    <tr>\n",
              "      <th>2022-02-02 17:20:00</th>\n",
              "      <td>36.2</td>\n",
              "      <td>32.456516</td>\n",
              "    </tr>\n",
              "    <tr>\n",
              "      <th>2022-02-02 17:30:00</th>\n",
              "      <td>30.0</td>\n",
              "      <td>34.623154</td>\n",
              "    </tr>\n",
              "    <tr>\n",
              "      <th>2022-02-02 17:40:00</th>\n",
              "      <td>18.8</td>\n",
              "      <td>32.433029</td>\n",
              "    </tr>\n",
              "    <tr>\n",
              "      <th>2022-02-02 17:50:00</th>\n",
              "      <td>24.6</td>\n",
              "      <td>26.078077</td>\n",
              "    </tr>\n",
              "    <tr>\n",
              "      <th>2022-02-02 18:00:00</th>\n",
              "      <td>45.0</td>\n",
              "      <td>25.756464</td>\n",
              "    </tr>\n",
              "  </tbody>\n",
              "</table>\n",
              "<p>3550 rows × 2 columns</p>\n",
              "</div>"
            ],
            "text/plain": [
              "                     value  predictions\n",
              "timestamp                              \n",
              "2022-01-09 02:30:00  14.25    11.267186\n",
              "2022-01-09 02:40:00   11.6    13.240777\n",
              "2022-01-09 02:50:00   15.2    12.855804\n",
              "2022-01-09 03:00:00   16.6    14.473936\n",
              "2022-01-09 03:10:00   19.2    15.914989\n",
              "...                    ...          ...\n",
              "2022-02-02 17:20:00   36.2    32.456516\n",
              "2022-02-02 17:30:00   30.0    34.623154\n",
              "2022-02-02 17:40:00   18.8    32.433029\n",
              "2022-02-02 17:50:00   24.6    26.078077\n",
              "2022-02-02 18:00:00   45.0    25.756464\n",
              "\n",
              "[3550 rows x 2 columns]"
            ]
          },
          "execution_count": 206,
          "metadata": {},
          "output_type": "execute_result"
        }
      ],
      "source": [
        "# create one dataframe with the true and predicted values\n",
        "predicted = pd.DataFrame(true_predictions)\n",
        "test_plot = test.iloc[500:]\n",
        "predicted = predicted.set_index(test_plot.index)\n",
        "full_test = test_plot\n",
        "full_test['predictions']=predicted\n",
        "full_test"
      ]
    },
    {
      "cell_type": "code",
      "execution_count": 207,
      "id": "f802791d",
      "metadata": {},
      "outputs": [
        {
          "data": {
            "image/png": "[encoded data removed]",
            "text/plain": [
              "<Figure size 640x480 with 1 Axes>"
            ]
          },
          "metadata": {},
          "output_type": "display_data"
        }
      ],
      "source": [
        "# visualize prediction\n",
        "plt.plot(full_test['value'], color = 'red', label = 'actual')\n",
        "plt.plot(full_test['predictions'], color = 'blue', label = 'predictions')\n",
        "plt.legend()\n",
        "plt.show()"
      ]
    },
    {
      "cell_type": "code",
      "execution_count": 210,
      "id": "cb675472",
      "metadata": {},
      "outputs": [
        {
          "name": "stdout",
          "output_type": "stream",
          "text": [
            "Root Mean Square Error:\n",
            "\n",
            "9.394218429479025\n"
          ]
        }
      ],
      "source": [
        "# evaluate model\n",
        "MSE = np.square(np.subtract(full_test['value'],full_test['predictions'])).mean() \n",
        " \n",
        "RMSE = sqrt(MSE)\n",
        "print(\"Root Mean Square Error:\\n\")\n",
        "print(RMSE)"
      ]
    }
  ],
  "metadata": {
    "colab": {
      "provenance": []
    },
    "kernelspec": {
      "display_name": "Python 3 (ipykernel)",
      "language": "python",
      "name": "python3"
    },
    "language_info": {
      "codemirror_mode": {
        "name": "ipython",
        "version": 3
      },
      "file_extension": ".py",
      "mimetype": "text/x-python",
      "name": "python",
      "nbconvert_exporter": "python",
      "pygments_lexer": "ipython3",
      "version": "3.10.9"
    }
  },
  "nbformat": 4,
  "nbformat_minor": 5
}

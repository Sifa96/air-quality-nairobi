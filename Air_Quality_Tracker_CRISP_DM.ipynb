{
  "cells": [
    {
      "cell_type": "markdown",
      "id": "e0958fa6",
      "metadata": {
        "id": "e0958fa6"
      },
      "source": [
        "# JENGA SCHOOL OF DATA SCIENCE AND AI\n",
        "\n",
        "\n",
        "\n",
        "### CRISP-DM METHODOLODY FOR AIR QUALITY TRACKING IN NAIROBI, KENYA\n",
        "\n",
        "\n",
        "### SIFA KINOTI\n",
        "\n",
        "\n",
        "### SUPERVISOR: DR. LAWRENCE NDERU\n",
        "\n",
        "\n",
        "\n",
        "\n",
        "\n",
        "\n",
        "\n",
        "#### AUGUST 2022 \n"
      ]
    },
    {
      "cell_type": "markdown",
      "id": "818ee950",
      "metadata": {
        "id": "818ee950"
      },
      "source": [
        "### Table of Contents\n",
        "\n",
        "* [1. Overview](#Overview)\n",
        "\n",
        "* [2. CRISP-DM Methodology](#CRISP_DM_Methodology)\n",
        "    \n",
        "* [3. Business Understanding](#Business_Understanding)\n",
        "    * [3.1 Business Objectives](#Business_Objectives)\n",
        "    * [3.2 Resources availability](#Resources_availability)\n",
        "    * [3.3 Risks and contingencies](#Risks_and_contingencies)\n",
        "    * [3.4 Data mining goals](#Data_mining_goals)\n",
        "    * [3.5 Project plan](#Project_plan)\n",
        "    \n",
        "* [4. Data Understanding](#Data_Understanding)\n",
        "    * [4.1 Collect initial data](#Collect_initial_data)\n",
        "    * [4.2 Describe data](#Describe_data)\n",
        "    * [4.3 Explore data](#Explore_data)\n",
        "    * [4.4 Verify data quality](#Verify_data_quality)\n",
        "    \n",
        "* [5. Data Preparation](#Data_Preparation)\n",
        "    * [5.1 Data cleaning](#Data_cleaning)\n",
        "    * [5.2 Data construction](#Data_construction)\n",
        "    * [5.3 Data integration](#Data_integration)\n",
        "    \n",
        "* [6. Preparing the model](#Preparing_the_model)\n",
        "    * [6.1 Selecting the modelling technique](#Selecting_the_modelling_technique)\n",
        "    * [6.2 Generating the test design](#Generating_the_test_design)\n",
        "    * [6.3 Building the model](#Building_the_model)\n",
        "    * [6.4 Assessing the model](#Assessing_the_model)\n",
        "\n",
        "* [7. Model Evaluation](#Model_Evaluation)\n",
        "    * [7.1 Evaluating the results](#Evaluating_the_results)\n",
        "    * [7.2 Reviewing the process](#Reviewing_the_process)\n",
        "    * [7.3 Determining the next steps](#Determining_the_next_steps)\n",
        "    * [7.4 Assessing the model](#Assessing_the_model)\n",
        "\n",
        "* [8. Model deployment](#Model_deployment)\n",
        "    * [8.1 Planning the deployment](#Planning_the_deployment)\n",
        "    * [8.2 Planning the monitoring and maintenance](#Planning_the_monitoring_and_maintenance)\n",
        "    * [8.3 Producing the final report](#Producing_the_final_report)\n",
        "    * [8.4 Presenting the project](#Presenting_the_project)\n",
        " "
      ]
    },
    {
      "cell_type": "markdown",
      "id": "222f9a05",
      "metadata": {
        "id": "222f9a05"
      },
      "source": [
        "### 1. Overview <a class=\"anchor\" id=\"Overview\"></a>\n",
        "\n",
        "Clean air is essential to the wellbeing of our planet and its inhabitants as all living beings require it for survival. Unfortunately, over the years, our air has become dirtier through human activities, consequently negatively affecting the environment, global health and economy. The World Health Organization (WHO) reports on six major air pollutants, namely particle pollution/ particulate matter (PM), ground-level ozone, carbon monoxide, sulphur oxides, nitrogen oxides, and lead. These pollutants majorly emanate from transport related emmissions (cars, planes, ships), burning of fossil fuels in industrial plants and homesteads, wastewaters and metals, agriculture and chemical reactions between the different pollutants. Other significant sources of pollution include Volatile Organic Compounds (VOCs), methane, dust and aerosols.\n",
        "\n",
        "Air pollution is the major cause of climate change, which according to the World Economic Forum, is the biggest challenge of the 21st century. The Global Risks Report of 2022 reports that climate-change related risks account for three of the top risks by severity in the next 10 years. Clearly, climate change is a real threat to the global economy, and scaling down, it is also a major threat to the Kenyan economy. Furthermore, the WHO reports that an average of 7 million people a year die from air pollution complications. Exposure to high levels of air pollution increases the risk of heart diseases, neurological disorders, lung cancer and respiratory infections. It has also been related to excessive premature mortality. It has been found that exposure to air pollution also negatively affects our cognitive ability, decision making, risk attitude and dementia.\n",
        "\n",
        "In order to combat air pollution, we need to understand the pollutants in the air at a given time, where they come from and their long term effects. With such knowledge, we should be able to give suggestions to improve the situation. However, without knowing which pollutants are present, in which quantities and locations, one may not be able to suggest a proper solution. In the developed world, most of the solutions to beating air pollution revolve around cutting down on fossil fuel consumption. They do this by switching to greener forms of energy for their transport and electricity needs. This comes after the realization that most of the pollution present comes from coal plantations. (on biases add on indoor pollution, assumption of switching to greener sources of energy, assumption of zones of high pollution, areas of construction pollution) In Nairobi, Kenya, however, data on air pollution is scarse, therefore we are not in the best poisiton to draw the most useful insights. Through this project, we hope to raise awareness and scale up efforts in air pollution tracking in the city.\n",
        "\n",
        "This data science project, therefore, seeks to analyse the air pollution in Nairobi, Kenya. We will analyse previous data containing the level of pollutants as well as mapping air quality in the city. We will be able to identify the major pollutants and where most of the pollution comes from. We will also build a predictive model, to be able to predict the air quality. This project can be applied by law and policy making bodies when making decisions related to air quality management as well as curious citizens who are interested to know the state of the air they breathe. Through deeper analysis we should be able to recommend solutions to air pollution in Nairobi. We should also be able to track the effects of air pollution in the city eventally.\n",
        "\n",
        "We will source our data from the following websites: first is sensor Africa. They provide open source sensor data on air quality, specifically measuring PM2.5 values across Africa. We also have OpenAq, which is also an open source sensor data on air quality across the world measuring different pollutants. Finally we have the World Development Indicators databank developed by World Bank. Eventually, we will incorporate Sentinel 5P data from Copernicus, which is open sourse satellite data on air pollution."
      ]
    },
    {
      "cell_type": "markdown",
      "id": "36e597e2",
      "metadata": {
        "id": "36e597e2"
      },
      "source": [
        "## 2. CRISP-DM Methodology  <a class=\"anchor\" id=\"CRISP_DM_Methodology\"></a>\n",
        "\n",
        "\n",
        "Crisp–DM is a widely used framework that stands for Cross Industry Standard Process for Data Mining. As the name suggests, it is a standard process for managing data science projects. It is a uniform framework that can be implemented in any data science project and allows for project replication. CRISP-DM is organized into six tasks, as you will see in this document. \n",
        "\n",
        "The first is business understanding, where the business goals and data mining goals are underlined. Second is data understanding where the data needed for the project is collected, described and explored in order to understand it and verify its quality to be used in the project. Third is data preparation where the data is prepared for modelling through cleaning, merging and other techniques. Fourth is preparing the model, where a suitable alorithm is chosen, built and tested. Fifth is evaluation where the results of the model are evaluated and the process is reviewed. Finally we have deployment where the model is prapared to be deployed in the industry. \n",
        "\n",
        "The benefits of using this framework is that it organizes one's workflow by breaking down the objectives into smaller and more specific and time bound tasks. CRISP-DM is cost effective and thus recommended as best practice."
      ]
    },
    {
      "cell_type": "markdown",
      "id": "b081cbf8",
      "metadata": {
        "id": "b081cbf8"
      },
      "source": [
        "## 3. Business Understanding <a class=\"anchor\" id=\"Business_Understanding\"></a>\n",
        "\n",
        "\n",
        "### 3.1 Business Objectives <a class=\"anchor\" id=\"Business_Objectives\"></a>\n",
        "\n",
        "This project aims to map and track air quality in Nairobi, Kenya. Through this project, a user should be able to identify and track various pollutants in the city. They should also be able to see how air quality in the city has changed over time. The user will be able to identify zones of high pollution and draw conclusion on how to combat pollution within the city. This will be enabled through an interactive web app. The project is part of air quality management process as it will visualize data that concerned citizens and policy makers can draw useful insights for in the fight against air pollution. With time, the project will be made open-source so as to invite collaborators to make the tracker more insightful.\n",
        "\n",
        "### 3.2 Resources availability <a class=\"anchor\" id=\"Resources_availability\"></a>\n",
        "\n",
        "The biggest resource needed is data. We will incorporate different kinds of data in this project including but not limited to: open source sensor data, world air quality tracking data, Sentinel 5P data, geodata in order to locate features such as transport systems, industries, homesteads and global air quality indices.\n",
        "\n",
        "### 3.3 Risks and contingencies <a class=\"anchor\" id=\"Risks_and_contingencies\"></a>\n",
        "\n",
        "The risks present in conducting this project include not getting sufficient data. This is especially likely for real time data across different locations in Nairobi. There is also a risk of not getting all pollutant data as PM 2.5 and CO2 data is more available than other pollutant data. This can lead to biased conclusions. The project, being long-term, presents a risk of being too advanced for my level of expertise. To curb these risks the project will be made open source afrer the presentation. \n",
        "\n",
        "### 3.4\tData mining goals <a class=\"anchor\" id=\"Data_mining_goals\"></a>\n",
        "\n",
        "The goal of the project is to develop a web app that will visualise, analyze and predict air quality in Nairobi. We will develop a map of Nairobi that will identify the different pollutants in the air at a given time. We will conduct analysis through linear regression models so as to understand the trend of air pollution in the city. We will also predict the air quality status of the next day, given certain parameters. On the webiste we shall give the comparison between the accepted air quality index and the real time index. Through the website, law and policy makers can draw useful insights on how to mitigate air pollution in the city.\n",
        "\n",
        "###  3.5 Project plan <a class=\"anchor\" id=\"Project_Plan\"></a>\n",
        "    \n",
        "| OBJECTIVES                                 | TASKS                                                                                                                                                                                                                                                                                                                                                                                                                                   | TIMELINE |   |   |\n",
        "|--------------------------------------------|-----------------------------------------------------------------------------------------------------------------------------------------------------------------------------------------------------------------------------------------------------------------------------------------------------------------------------------------------------------------------------------------------------------------------------------------|----------|---|---|\n",
        "| Researching on air pollution metrics       | -Reading academic papers on air quality management to understand the different pollutants and the metrics used in gauging air quality<br>-Consulting an expert in the field on air pollution and the various ways this project could be of benefit<br>-Attending at least 1 webinar/ training on air quality management<br>-Enrol in a short online course (e.g. on coursera, udemy) in order to understand air quality mapping better* | 5 weeks  |   |   |\n",
        "| Researching on deep learning architectures | -Read articles on the various deep learning algorithms experimented with in the past<br>-Learn the various new deep learning algorithms previously not encountered<br>-Consult a specialist on the same<br>-Research on algorithms dealing with spatio-temporal mapping, satellite imagery and air pollution                                                                                                                            | 4 weeks  |   |   |\n",
        "| Data Understanding                         | -Collecting the data<br>-Exploring the data<br>-Describing the data<br>-Verifying the data quality                                                                                                                                                                                                                                                                                                                                      | 3 weeks  |   |   |\n",
        "| Data Preparation                           | -Data cleaning<br>-Data construction<br>-Data integration                                                                                                                                                                                                                                                                                                                                                                               | 3 weeks  |   |   |\n",
        "| Preparing the model                        | -Selecting the modelling technique<br>-Generating the test design<br>-Building the model<br>-Assessing the model                                                                                                                                                                                                                                                                                                                        | 6 weeks  |   |   |\n",
        "| Model Evaluation                           | -Evaluating the results<br>-Reviewing the process <br>-Determining the next steps                                                                                                                                                                                                                                                                                                                                                       | 2 weeks  |   |   |\n",
        "| Model deployment                           | -Planning the deployment<br>-Planning the monitoring and maintenance<br>-Producing the final report<br>-Presenting the project                                                                                                                                                                                                                                                                                                          | 2 weeks  |   |   |"
      ]
    },
    {
      "cell_type": "markdown",
      "id": "a35e47ad",
      "metadata": {
        "id": "a35e47ad"
      },
      "source": [
        "## 4. Data Understanding <a class=\"anchor\" id=\"Data_Understanding\"></a>\n",
        "In this sector, we are going to visualize the data, plot the coordinates, identify outliers, plot timeseries graphs, identify patterns in the data."
      ]
    },
    {
      "cell_type": "markdown",
      "id": "5cc1cb68",
      "metadata": {
        "id": "5cc1cb68"
      },
      "source": [
        "### 4.1 Collect initial data <a class=\"anchor\" id=\"Collect_initial_data\"></a>\n"
      ]
    },
    {
      "cell_type": "code",
      "source": [
        "!pip install python-aqi"
      ],
      "metadata": {
        "id": "EToN-RL60Fyn"
      },
      "id": "EToN-RL60Fyn",
      "execution_count": null,
      "outputs": []
    },
    {
      "cell_type": "code",
      "execution_count": null,
      "id": "f96f2464",
      "metadata": {
        "id": "f96f2464"
      },
      "outputs": [],
      "source": [
        "# import the necessary packages\n",
        "import pandas as pd\n",
        "import seaborn as sns\n",
        "import numpy as np\n",
        "import plotly.express as px\n",
        "import matplotlib.pyplot as plt\n",
        "%matplotlib inline\n",
        "from datetime import datetime\n",
        "import aqi\n",
        "from decimal import Decimal"
      ]
    },
    {
      "cell_type": "code",
      "source": [
        "from google.colab import drive\n",
        "drive.mount('/content/drive')"
      ],
      "metadata": {
        "colab": {
          "base_uri": "https://localhost:8080/"
        },
        "id": "3lDFzgruzzrA",
        "outputId": "cb2f5c6d-3a66-4bd6-df2a-a878a5954a35"
      },
      "id": "3lDFzgruzzrA",
      "execution_count": null,
      "outputs": [
        {
          "output_type": "stream",
          "name": "stdout",
          "text": [
            "Mounted at /content/drive\n"
          ]
        }
      ]
    },
    {
      "cell_type": "code",
      "execution_count": null,
      "id": "83788b7c",
      "metadata": {
        "id": "83788b7c"
      },
      "outputs": [],
      "source": [
        "# read November sensor data csv\n",
        "nov21 = pd.read_csv(\"/content/drive/MyDrive/sensor data/november_2021_sensor_data_archive.csv\", sep = ';')"
      ]
    },
    {
      "cell_type": "code",
      "execution_count": null,
      "id": "2991d6d8",
      "metadata": {
        "id": "2991d6d8"
      },
      "outputs": [],
      "source": [
        "# read December Sensor Data csv\n",
        "dec21 = pd.read_csv(\"/content/drive/MyDrive/sensor data/december_2021_sensor_data_archive.csv\", sep = ';')"
      ]
    },
    {
      "cell_type": "code",
      "execution_count": null,
      "id": "34e38f3c",
      "metadata": {
        "id": "34e38f3c"
      },
      "outputs": [],
      "source": [
        "# read January Sensor Data csv\n",
        "jan22 = pd.read_csv(\"/content/drive/MyDrive/sensor data/january_2022_sensor_data_archive.csv\", sep = ';')"
      ]
    },
    {
      "cell_type": "code",
      "execution_count": null,
      "id": "d7071478",
      "metadata": {
        "id": "d7071478"
      },
      "outputs": [],
      "source": [
        "# read February Sensor csv\n",
        "feb22 = pd.read_csv(\"/content/drive/MyDrive/sensor data/february_2022_sensor_data_archive.csv\", sep = ';')"
      ]
    },
    {
      "cell_type": "code",
      "execution_count": null,
      "id": "dc5ecaac",
      "metadata": {
        "id": "dc5ecaac"
      },
      "outputs": [],
      "source": [
        "# read March Sensor csv\n",
        "march22 = pd.read_csv(\"/content/drive/MyDrive/sensor data/march_2022_sensor_data_archive.csv\", sep = ';')"
      ]
    },
    {
      "cell_type": "code",
      "execution_count": null,
      "id": "6308aeb4",
      "metadata": {
        "id": "6308aeb4"
      },
      "outputs": [],
      "source": [
        "# read April Sensor csv\n",
        "april22 = pd.read_csv(\"/content/drive/MyDrive/sensor data/april_2022_sensor_data_archive.csv\", sep = ';')"
      ]
    },
    {
      "cell_type": "code",
      "execution_count": null,
      "id": "f6bf5c59",
      "metadata": {
        "id": "f6bf5c59"
      },
      "outputs": [],
      "source": [
        "# read May Sensor csv\n",
        "may22 = pd.read_csv(\"/content/drive/MyDrive/sensor data/may_2022_sensor_data_archive.csv\", sep = ';')"
      ]
    },
    {
      "cell_type": "code",
      "execution_count": null,
      "id": "2faf9669",
      "metadata": {
        "id": "2faf9669"
      },
      "outputs": [],
      "source": [
        "# read June Sensor csv\n",
        "june22 = pd.read_csv(\"/content/drive/MyDrive/sensor data/june_2022_sensor_data_archive.csv\", sep = ';')"
      ]
    },
    {
      "cell_type": "code",
      "execution_count": null,
      "id": "9b59912e",
      "metadata": {
        "id": "9b59912e"
      },
      "outputs": [],
      "source": [
        "# read July Sensor csv\n",
        "july22 = pd.read_csv(\"/content/drive/MyDrive/sensor data/july_2022_sensor_data_archive.csv\", sep = ';')"
      ]
    },
    {
      "cell_type": "code",
      "execution_count": null,
      "id": "0b89cfbb",
      "metadata": {
        "id": "0b89cfbb"
      },
      "outputs": [],
      "source": [
        "# read August Sensor csv\n",
        "aug22 = pd.read_csv(\"/content/drive/MyDrive/sensor data/august_2022_sensor_data_archive.csv\", sep = ';')"
      ]
    },
    {
      "cell_type": "code",
      "execution_count": null,
      "id": "424c729b",
      "metadata": {
        "id": "424c729b"
      },
      "outputs": [],
      "source": [
        "# read September Sensor csv\n",
        "sept22 = pd.read_csv(\"/content/drive/MyDrive/sensor data/september_2022_sensor_data_archive.csv\", sep = ';')"
      ]
    },
    {
      "cell_type": "code",
      "execution_count": null,
      "id": "14ac7a1b",
      "metadata": {
        "id": "14ac7a1b"
      },
      "outputs": [],
      "source": [
        "# read October Sensor csv\n",
        "oct22 = pd.read_csv(\"/content/drive/MyDrive/sensor data/october_2022_sensor_data_archive.csv\", sep = ';', low_memory = False)"
      ]
    },
    {
      "cell_type": "code",
      "execution_count": null,
      "id": "9452aa3c",
      "metadata": {
        "id": "9452aa3c"
      },
      "outputs": [],
      "source": [
        "# read November 2022 Sensor csv\n",
        "nov22 = pd.read_csv(\"/content/drive/MyDrive/sensor data/november_2022_sensor_data_archive.csv\", sep = ';')"
      ]
    },
    {
      "cell_type": "code",
      "execution_count": null,
      "id": "eb1a14a4",
      "metadata": {
        "id": "eb1a14a4"
      },
      "outputs": [],
      "source": [
        "sensor_data = pd.concat([nov21, dec21, jan22, feb22, march22, april22, may22, june22, july22, aug22, sept22, oct22, nov22])"
      ]
    },
    {
      "cell_type": "markdown",
      "id": "56659fcd",
      "metadata": {
        "id": "56659fcd"
      },
      "source": [
        "### 4.2 Describe data <a class=\"anchor\" id=\"Describe_data\"></a>\n",
        "In this space, we shall describe the collected data"
      ]
    },
    {
      "cell_type": "code",
      "execution_count": null,
      "id": "4c687055",
      "metadata": {
        "id": "4c687055",
        "outputId": "eeefd819-abed-45e1-e534-5676af0d8534"
      },
      "outputs": [
        {
          "data": {
            "text/html": [
              "<div>\n",
              "<style scoped>\n",
              "    .dataframe tbody tr th:only-of-type {\n",
              "        vertical-align: middle;\n",
              "    }\n",
              "\n",
              "    .dataframe tbody tr th {\n",
              "        vertical-align: top;\n",
              "    }\n",
              "\n",
              "    .dataframe thead th {\n",
              "        text-align: right;\n",
              "    }\n",
              "</style>\n",
              "<table border=\"1\" class=\"dataframe\">\n",
              "  <thead>\n",
              "    <tr style=\"text-align: right;\">\n",
              "      <th></th>\n",
              "      <th>sensor_id</th>\n",
              "      <th>sensor_type</th>\n",
              "      <th>location</th>\n",
              "      <th>lat</th>\n",
              "      <th>lon</th>\n",
              "      <th>timestamp</th>\n",
              "      <th>value_type</th>\n",
              "      <th>value</th>\n",
              "    </tr>\n",
              "  </thead>\n",
              "  <tbody>\n",
              "    <tr>\n",
              "      <th>0</th>\n",
              "      <td>71</td>\n",
              "      <td>pms5003</td>\n",
              "      <td>35</td>\n",
              "      <td>-1.297</td>\n",
              "      <td>36.743</td>\n",
              "      <td>2021-11-01T00:00:16.023904+00:00</td>\n",
              "      <td>P2</td>\n",
              "      <td>13.6</td>\n",
              "    </tr>\n",
              "    <tr>\n",
              "      <th>1</th>\n",
              "      <td>71</td>\n",
              "      <td>pms5003</td>\n",
              "      <td>35</td>\n",
              "      <td>-1.297</td>\n",
              "      <td>36.743</td>\n",
              "      <td>2021-11-01T00:00:16.023904+00:00</td>\n",
              "      <td>P1</td>\n",
              "      <td>13.6</td>\n",
              "    </tr>\n",
              "    <tr>\n",
              "      <th>2</th>\n",
              "      <td>71</td>\n",
              "      <td>pms5003</td>\n",
              "      <td>35</td>\n",
              "      <td>-1.297</td>\n",
              "      <td>36.743</td>\n",
              "      <td>2021-11-01T00:00:16.023904+00:00</td>\n",
              "      <td>P0</td>\n",
              "      <td>7.0</td>\n",
              "    </tr>\n",
              "    <tr>\n",
              "      <th>3</th>\n",
              "      <td>158</td>\n",
              "      <td>pms5003</td>\n",
              "      <td>33</td>\n",
              "      <td>-1.255</td>\n",
              "      <td>36.693</td>\n",
              "      <td>2021-11-01T00:00:16.320020+00:00</td>\n",
              "      <td>P2</td>\n",
              "      <td>72.0</td>\n",
              "    </tr>\n",
              "    <tr>\n",
              "      <th>4</th>\n",
              "      <td>158</td>\n",
              "      <td>pms5003</td>\n",
              "      <td>33</td>\n",
              "      <td>-1.255</td>\n",
              "      <td>36.693</td>\n",
              "      <td>2021-11-01T00:00:16.320020+00:00</td>\n",
              "      <td>P1</td>\n",
              "      <td>87.2</td>\n",
              "    </tr>\n",
              "    <tr>\n",
              "      <th>5</th>\n",
              "      <td>158</td>\n",
              "      <td>pms5003</td>\n",
              "      <td>33</td>\n",
              "      <td>-1.255</td>\n",
              "      <td>36.693</td>\n",
              "      <td>2021-11-01T00:00:16.320020+00:00</td>\n",
              "      <td>P0</td>\n",
              "      <td>63.2</td>\n",
              "    </tr>\n",
              "    <tr>\n",
              "      <th>6</th>\n",
              "      <td>72</td>\n",
              "      <td>DHT22</td>\n",
              "      <td>35</td>\n",
              "      <td>-1.297</td>\n",
              "      <td>36.743</td>\n",
              "      <td>2021-11-01T00:00:17.683922+00:00</td>\n",
              "      <td>humidity</td>\n",
              "      <td>99.9</td>\n",
              "    </tr>\n",
              "    <tr>\n",
              "      <th>7</th>\n",
              "      <td>72</td>\n",
              "      <td>DHT22</td>\n",
              "      <td>35</td>\n",
              "      <td>-1.297</td>\n",
              "      <td>36.743</td>\n",
              "      <td>2021-11-01T00:00:17.683922+00:00</td>\n",
              "      <td>temperature</td>\n",
              "      <td>18.6</td>\n",
              "    </tr>\n",
              "    <tr>\n",
              "      <th>8</th>\n",
              "      <td>93</td>\n",
              "      <td>pms5003</td>\n",
              "      <td>18</td>\n",
              "      <td>-1.292</td>\n",
              "      <td>36.821</td>\n",
              "      <td>2021-11-01T00:00:21.263951+00:00</td>\n",
              "      <td>P2</td>\n",
              "      <td>8.6</td>\n",
              "    </tr>\n",
              "    <tr>\n",
              "      <th>9</th>\n",
              "      <td>93</td>\n",
              "      <td>pms5003</td>\n",
              "      <td>18</td>\n",
              "      <td>-1.292</td>\n",
              "      <td>36.821</td>\n",
              "      <td>2021-11-01T00:00:21.263951+00:00</td>\n",
              "      <td>P1</td>\n",
              "      <td>9.6</td>\n",
              "    </tr>\n",
              "    <tr>\n",
              "      <th>10</th>\n",
              "      <td>93</td>\n",
              "      <td>pms5003</td>\n",
              "      <td>18</td>\n",
              "      <td>-1.292</td>\n",
              "      <td>36.821</td>\n",
              "      <td>2021-11-01T00:00:21.263951+00:00</td>\n",
              "      <td>P0</td>\n",
              "      <td>5.0</td>\n",
              "    </tr>\n",
              "    <tr>\n",
              "      <th>11</th>\n",
              "      <td>94</td>\n",
              "      <td>DHT22</td>\n",
              "      <td>18</td>\n",
              "      <td>-1.292</td>\n",
              "      <td>36.821</td>\n",
              "      <td>2021-11-01T00:00:22.075974+00:00</td>\n",
              "      <td>humidity</td>\n",
              "      <td>82.8</td>\n",
              "    </tr>\n",
              "    <tr>\n",
              "      <th>12</th>\n",
              "      <td>94</td>\n",
              "      <td>DHT22</td>\n",
              "      <td>18</td>\n",
              "      <td>-1.292</td>\n",
              "      <td>36.821</td>\n",
              "      <td>2021-11-01T00:00:22.075974+00:00</td>\n",
              "      <td>temperature</td>\n",
              "      <td>22.3</td>\n",
              "    </tr>\n",
              "    <tr>\n",
              "      <th>13</th>\n",
              "      <td>159</td>\n",
              "      <td>DHT22</td>\n",
              "      <td>33</td>\n",
              "      <td>-1.255</td>\n",
              "      <td>36.693</td>\n",
              "      <td>2021-11-01T00:00:22.119959+00:00</td>\n",
              "      <td>humidity</td>\n",
              "      <td>93.2</td>\n",
              "    </tr>\n",
              "    <tr>\n",
              "      <th>14</th>\n",
              "      <td>159</td>\n",
              "      <td>DHT22</td>\n",
              "      <td>33</td>\n",
              "      <td>-1.255</td>\n",
              "      <td>36.693</td>\n",
              "      <td>2021-11-01T00:00:22.119959+00:00</td>\n",
              "      <td>temperature</td>\n",
              "      <td>16.7</td>\n",
              "    </tr>\n",
              "    <tr>\n",
              "      <th>15</th>\n",
              "      <td>844</td>\n",
              "      <td>pms5003</td>\n",
              "      <td>46</td>\n",
              "      <td>-1.218</td>\n",
              "      <td>36.887</td>\n",
              "      <td>2021-11-01T00:00:24.731908+00:00</td>\n",
              "      <td>P2</td>\n",
              "      <td>13.5</td>\n",
              "    </tr>\n",
              "    <tr>\n",
              "      <th>16</th>\n",
              "      <td>844</td>\n",
              "      <td>pms5003</td>\n",
              "      <td>46</td>\n",
              "      <td>-1.218</td>\n",
              "      <td>36.887</td>\n",
              "      <td>2021-11-01T00:00:24.731908+00:00</td>\n",
              "      <td>P1</td>\n",
              "      <td>14.0</td>\n",
              "    </tr>\n",
              "    <tr>\n",
              "      <th>17</th>\n",
              "      <td>844</td>\n",
              "      <td>pms5003</td>\n",
              "      <td>46</td>\n",
              "      <td>-1.218</td>\n",
              "      <td>36.887</td>\n",
              "      <td>2021-11-01T00:00:24.731908+00:00</td>\n",
              "      <td>P0</td>\n",
              "      <td>9.0</td>\n",
              "    </tr>\n",
              "    <tr>\n",
              "      <th>18</th>\n",
              "      <td>845</td>\n",
              "      <td>DHT22</td>\n",
              "      <td>46</td>\n",
              "      <td>-1.218</td>\n",
              "      <td>36.887</td>\n",
              "      <td>2021-11-01T00:00:25.563912+00:00</td>\n",
              "      <td>humidity</td>\n",
              "      <td>78.5</td>\n",
              "    </tr>\n",
              "    <tr>\n",
              "      <th>19</th>\n",
              "      <td>845</td>\n",
              "      <td>DHT22</td>\n",
              "      <td>46</td>\n",
              "      <td>-1.218</td>\n",
              "      <td>36.887</td>\n",
              "      <td>2021-11-01T00:00:25.563912+00:00</td>\n",
              "      <td>temperature</td>\n",
              "      <td>21.6</td>\n",
              "    </tr>\n",
              "  </tbody>\n",
              "</table>\n",
              "</div>"
            ],
            "text/plain": [
              "    sensor_id sensor_type  location    lat     lon  \\\n",
              "0          71     pms5003        35 -1.297  36.743   \n",
              "1          71     pms5003        35 -1.297  36.743   \n",
              "2          71     pms5003        35 -1.297  36.743   \n",
              "3         158     pms5003        33 -1.255  36.693   \n",
              "4         158     pms5003        33 -1.255  36.693   \n",
              "5         158     pms5003        33 -1.255  36.693   \n",
              "6          72       DHT22        35 -1.297  36.743   \n",
              "7          72       DHT22        35 -1.297  36.743   \n",
              "8          93     pms5003        18 -1.292  36.821   \n",
              "9          93     pms5003        18 -1.292  36.821   \n",
              "10         93     pms5003        18 -1.292  36.821   \n",
              "11         94       DHT22        18 -1.292  36.821   \n",
              "12         94       DHT22        18 -1.292  36.821   \n",
              "13        159       DHT22        33 -1.255  36.693   \n",
              "14        159       DHT22        33 -1.255  36.693   \n",
              "15        844     pms5003        46 -1.218  36.887   \n",
              "16        844     pms5003        46 -1.218  36.887   \n",
              "17        844     pms5003        46 -1.218  36.887   \n",
              "18        845       DHT22        46 -1.218  36.887   \n",
              "19        845       DHT22        46 -1.218  36.887   \n",
              "\n",
              "                           timestamp   value_type value  \n",
              "0   2021-11-01T00:00:16.023904+00:00           P2  13.6  \n",
              "1   2021-11-01T00:00:16.023904+00:00           P1  13.6  \n",
              "2   2021-11-01T00:00:16.023904+00:00           P0   7.0  \n",
              "3   2021-11-01T00:00:16.320020+00:00           P2  72.0  \n",
              "4   2021-11-01T00:00:16.320020+00:00           P1  87.2  \n",
              "5   2021-11-01T00:00:16.320020+00:00           P0  63.2  \n",
              "6   2021-11-01T00:00:17.683922+00:00     humidity  99.9  \n",
              "7   2021-11-01T00:00:17.683922+00:00  temperature  18.6  \n",
              "8   2021-11-01T00:00:21.263951+00:00           P2   8.6  \n",
              "9   2021-11-01T00:00:21.263951+00:00           P1   9.6  \n",
              "10  2021-11-01T00:00:21.263951+00:00           P0   5.0  \n",
              "11  2021-11-01T00:00:22.075974+00:00     humidity  82.8  \n",
              "12  2021-11-01T00:00:22.075974+00:00  temperature  22.3  \n",
              "13  2021-11-01T00:00:22.119959+00:00     humidity  93.2  \n",
              "14  2021-11-01T00:00:22.119959+00:00  temperature  16.7  \n",
              "15  2021-11-01T00:00:24.731908+00:00           P2  13.5  \n",
              "16  2021-11-01T00:00:24.731908+00:00           P1  14.0  \n",
              "17  2021-11-01T00:00:24.731908+00:00           P0   9.0  \n",
              "18  2021-11-01T00:00:25.563912+00:00     humidity  78.5  \n",
              "19  2021-11-01T00:00:25.563912+00:00  temperature  21.6  "
            ]
          },
          "execution_count": 16,
          "metadata": {},
          "output_type": "execute_result"
        }
      ],
      "source": [
        "sensor_data.head(20)"
      ]
    },
    {
      "cell_type": "code",
      "execution_count": null,
      "id": "9517b4e2",
      "metadata": {
        "id": "9517b4e2",
        "outputId": "6fa165a9-4832-4fc6-ba4e-7338cc0abb63"
      },
      "outputs": [
        {
          "data": {
            "text/html": [
              "<div>\n",
              "<style scoped>\n",
              "    .dataframe tbody tr th:only-of-type {\n",
              "        vertical-align: middle;\n",
              "    }\n",
              "\n",
              "    .dataframe tbody tr th {\n",
              "        vertical-align: top;\n",
              "    }\n",
              "\n",
              "    .dataframe thead th {\n",
              "        text-align: right;\n",
              "    }\n",
              "</style>\n",
              "<table border=\"1\" class=\"dataframe\">\n",
              "  <thead>\n",
              "    <tr style=\"text-align: right;\">\n",
              "      <th></th>\n",
              "      <th>sensor_id</th>\n",
              "      <th>location</th>\n",
              "      <th>lat</th>\n",
              "      <th>lon</th>\n",
              "    </tr>\n",
              "  </thead>\n",
              "  <tbody>\n",
              "    <tr>\n",
              "      <th>count</th>\n",
              "      <td>1.200392e+07</td>\n",
              "      <td>1.200392e+07</td>\n",
              "      <td>1.200392e+07</td>\n",
              "      <td>1.200392e+07</td>\n",
              "    </tr>\n",
              "    <tr>\n",
              "      <th>mean</th>\n",
              "      <td>1.950063e+02</td>\n",
              "      <td>8.551839e+02</td>\n",
              "      <td>-1.309095e+00</td>\n",
              "      <td>3.684130e+01</td>\n",
              "    </tr>\n",
              "    <tr>\n",
              "      <th>std</th>\n",
              "      <td>4.187444e+02</td>\n",
              "      <td>1.488441e+03</td>\n",
              "      <td>5.229185e-02</td>\n",
              "      <td>6.688591e-02</td>\n",
              "    </tr>\n",
              "    <tr>\n",
              "      <th>min</th>\n",
              "      <td>4.900000e+01</td>\n",
              "      <td>7.000000e+00</td>\n",
              "      <td>-1.421000e+00</td>\n",
              "      <td>3.669300e+01</td>\n",
              "    </tr>\n",
              "    <tr>\n",
              "      <th>25%</th>\n",
              "      <td>8.800000e+01</td>\n",
              "      <td>1.800000e+01</td>\n",
              "      <td>-1.303000e+00</td>\n",
              "      <td>3.682100e+01</td>\n",
              "    </tr>\n",
              "    <tr>\n",
              "      <th>50%</th>\n",
              "      <td>9.400000e+01</td>\n",
              "      <td>4.600000e+01</td>\n",
              "      <td>-1.292000e+00</td>\n",
              "      <td>3.682500e+01</td>\n",
              "    </tr>\n",
              "    <tr>\n",
              "      <th>75%</th>\n",
              "      <td>1.580000e+02</td>\n",
              "      <td>7.800000e+01</td>\n",
              "      <td>-1.289000e+00</td>\n",
              "      <td>3.688700e+01</td>\n",
              "    </tr>\n",
              "    <tr>\n",
              "      <th>max</th>\n",
              "      <td>4.789000e+03</td>\n",
              "      <td>3.580000e+03</td>\n",
              "      <td>-1.206000e+00</td>\n",
              "      <td>3.695300e+01</td>\n",
              "    </tr>\n",
              "  </tbody>\n",
              "</table>\n",
              "</div>"
            ],
            "text/plain": [
              "          sensor_id      location           lat           lon\n",
              "count  1.200392e+07  1.200392e+07  1.200392e+07  1.200392e+07\n",
              "mean   1.950063e+02  8.551839e+02 -1.309095e+00  3.684130e+01\n",
              "std    4.187444e+02  1.488441e+03  5.229185e-02  6.688591e-02\n",
              "min    4.900000e+01  7.000000e+00 -1.421000e+00  3.669300e+01\n",
              "25%    8.800000e+01  1.800000e+01 -1.303000e+00  3.682100e+01\n",
              "50%    9.400000e+01  4.600000e+01 -1.292000e+00  3.682500e+01\n",
              "75%    1.580000e+02  7.800000e+01 -1.289000e+00  3.688700e+01\n",
              "max    4.789000e+03  3.580000e+03 -1.206000e+00  3.695300e+01"
            ]
          },
          "execution_count": 17,
          "metadata": {},
          "output_type": "execute_result"
        }
      ],
      "source": [
        "sensor_data.describe()"
      ]
    },
    {
      "cell_type": "code",
      "execution_count": null,
      "id": "c862c5e9",
      "metadata": {
        "id": "c862c5e9"
      },
      "outputs": [],
      "source": [
        "sensor_data.info()"
      ]
    },
    {
      "cell_type": "code",
      "execution_count": null,
      "id": "4bc91599",
      "metadata": {
        "id": "4bc91599"
      },
      "outputs": [],
      "source": [
        "# Checking the missing values\n",
        "sensor_data.isnull().sum()"
      ]
    },
    {
      "cell_type": "code",
      "execution_count": null,
      "id": "b564d88e",
      "metadata": {
        "id": "b564d88e"
      },
      "outputs": [],
      "source": [
        "# look for duplicate values\n",
        "data_duplicates = sensor_data.duplicated()\n",
        "print(\"duplicates sum \", data_duplicates.sum())"
      ]
    },
    {
      "cell_type": "code",
      "execution_count": null,
      "id": "c59c9582",
      "metadata": {
        "id": "c59c9582"
      },
      "outputs": [],
      "source": [
        "# shape\n",
        "sensor_data.shape"
      ]
    },
    {
      "cell_type": "code",
      "execution_count": null,
      "id": "f7daf63d",
      "metadata": {
        "id": "f7daf63d"
      },
      "outputs": [],
      "source": [
        "# convert data datetime\n",
        "sensor_data['timestamp'] = sensor_data['timestamp'].astype(\"datetime64\")"
      ]
    },
    {
      "cell_type": "code",
      "execution_count": null,
      "id": "512f4933",
      "metadata": {
        "id": "512f4933"
      },
      "outputs": [],
      "source": [
        "# rename the value types\n",
        "sensor_data['value_type'] = sensor_data['value_type'].replace(['P2', 'P1', 'P0'], ['PM10', 'PM2.5', 'PM1'])"
      ]
    },
    {
      "cell_type": "code",
      "execution_count": null,
      "id": "df035641",
      "metadata": {
        "id": "df035641"
      },
      "outputs": [],
      "source": [
        "# find out how many locations are in the data\n",
        "locations= sensor_data['location'].unique()\n",
        "counted= sensor_data['location'].nunique()\n",
        "print('data locations: ',locations, 'count: ', counted)"
      ]
    },
    {
      "cell_type": "code",
      "execution_count": null,
      "id": "b32e5001",
      "metadata": {
        "id": "b32e5001"
      },
      "outputs": [],
      "source": [
        "# create a dataframe with just locations to plot\n",
        "loc_df = sensor_data.groupby(['location','lat', 'lon']).agg(lambda x: ','.join(x.unique())).reset_index()\n",
        "loc_df"
      ]
    },
    {
      "cell_type": "code",
      "execution_count": null,
      "id": "db26f202",
      "metadata": {
        "id": "db26f202"
      },
      "outputs": [],
      "source": [
        "# plot and rename locations\n",
        "plot_locations = px.scatter_mapbox(loc_df, \n",
        "                                lat='lat', \n",
        "                                lon='lon', \n",
        "                                color='location',\n",
        "                                zoom=9, \n",
        "                                mapbox_style='open-street-map')\n",
        "plot_locations.show()"
      ]
    },
    {
      "cell_type": "code",
      "execution_count": null,
      "id": "515d5d43",
      "metadata": {
        "id": "515d5d43"
      },
      "outputs": [],
      "source": [
        "# rename the locations\n",
        "sensor_data['location'] = sensor_data['location'].replace([33, 18, 37, 77, 76, 46,35,7, 71, 67, 78, 40, 34, 3579, 3573, 3576, 3580], \n",
        "                                              ['kinoo','haile_sellasie','mukuru','kileleshwa', 'muthangari','roysambu', \n",
        "                                               'riruta', 'ngong_rd', 'lavington', 'syokimau', 'mlolongo', \n",
        "                                               'valley_arcade', 'ruaka', 'new_muthaiga', 'harambee_avenue', 'mathare', 'langata'])"
      ]
    },
    {
      "cell_type": "code",
      "execution_count": null,
      "id": "72cf0ed9",
      "metadata": {
        "id": "72cf0ed9"
      },
      "outputs": [],
      "source": [
        "# add day column\n",
        "sensor_data['day'] = sensor_data['timestamp'].dt.day_name()"
      ]
    },
    {
      "cell_type": "code",
      "execution_count": null,
      "id": "67b33144",
      "metadata": {
        "id": "67b33144"
      },
      "outputs": [],
      "source": [
        "# add time clasification column\n",
        "sensor_data['hour'] = sensor_data['timestamp'].dt.hour\n",
        "def time_class(x):\n",
        "    if (x > 4) and (x <= 8):\n",
        "        return 'Early Morning'\n",
        "    elif (x > 8) and (x <= 12 ):\n",
        "        return 'Morning'\n",
        "    elif (x > 12) and (x <= 16):\n",
        "        return'Noon'\n",
        "    elif (x > 16) and (x <= 20) :\n",
        "        return 'Evening'\n",
        "    elif (x > 20) and (x <= 24):\n",
        "        return'Night'\n",
        "    elif (x <= 4):\n",
        "        return'Late Night'\n",
        "    \n",
        "sensor_data['time'] = sensor_data['hour'].apply(time_class)"
      ]
    },
    {
      "cell_type": "code",
      "execution_count": null,
      "id": "f4d83629",
      "metadata": {
        "id": "f4d83629"
      },
      "outputs": [],
      "source": [
        "# match sensor id to sensor type\n",
        "\n",
        "# loc sds011\n",
        "SDS011= sensor_data.loc[(sensor_data['sensor_type'] == 'SDS011')]\n",
        "\n",
        "# count unique values in the sensor id\n",
        "print('SDS011 sensor ids: \\n', SDS011['sensor_id'].value_counts())\n",
        "\n",
        "#count unique values in value type\n",
        "print('\\n SDS011 value type: \\n', SDS011['value_type'].value_counts())\n",
        "\n",
        "# location for sds011\n",
        "print('SDS011 locations: \\n', SDS011['location'].unique())"
      ]
    },
    {
      "cell_type": "code",
      "execution_count": null,
      "id": "e319cc7f",
      "metadata": {
        "id": "e319cc7f"
      },
      "outputs": [],
      "source": [
        "# match sensor id to sensor type\n",
        "\n",
        "# loc DHT22\n",
        "DHT22= sensor_data.loc[(sensor_data['sensor_type'] == 'DHT22')]\n",
        "\n",
        "# count unique values in the sensor id\n",
        "print('DHT22 sensor ids: \\n', DHT22['sensor_id'].value_counts())\n",
        "\n",
        "#count unique values in value type\n",
        "print('\\n DHT22 value type: \\n', DHT22['value_type'].value_counts())\n",
        "\n",
        "# location for sds011\n",
        "print('DHT22 locations: \\n', DHT22['location'].unique())"
      ]
    },
    {
      "cell_type": "code",
      "execution_count": null,
      "id": "6dfa9a24",
      "metadata": {
        "id": "6dfa9a24"
      },
      "outputs": [],
      "source": [
        "# match sensor id to sensor type\n",
        "\n",
        "# loc pms5003\n",
        "pms5003= sensor_data.loc[(sensor_data['sensor_type'] == 'pms5003')]\n",
        "\n",
        "# count unique values in the sensor id\n",
        "print('pms5003 sensor ids: \\n', pms5003['sensor_id'].value_counts())\n",
        "\n",
        "#count unique values in value type\n",
        "print('\\n pms5003 value type: \\n', pms5003['value_type'].value_counts())\n",
        "\n",
        "# location for sds011\n",
        "print('pms5003 locations: \\n', pms5003['location'].unique())"
      ]
    },
    {
      "cell_type": "code",
      "source": [
        "sample = sensor_data.iloc[1:30]"
      ],
      "metadata": {
        "id": "5oaTIS6e3vND"
      },
      "id": "5oaTIS6e3vND",
      "execution_count": null,
      "outputs": []
    },
    {
      "cell_type": "code",
      "source": [
        "# loop through values to calculate aqi\n",
        "AQI = [] #create list\n",
        "for i in sample['value']:\n",
        "  i = Decimal(i) #convert each row to decimal\n",
        "  aqi_data = aqi.to_aqi([(aqi.POLLUTANT_PM25, i)]) #calculate aqi\n",
        "  aqi_data = aqi_data.to_eng_string() #convert aqi to str\n",
        "  AQI.append(aqi_data)  #append aqi to list\n",
        "# print(AQI)"
      ],
      "metadata": {
        "id": "Vr6-vy7v52am"
      },
      "id": "Vr6-vy7v52am",
      "execution_count": null,
      "outputs": []
    },
    {
      "cell_type": "code",
      "source": [
        "# convert AQI to df and add to main df\n",
        "AQI = pd.DataFrame(AQI)\n",
        "sample['AQI'] = AQI\n",
        "sample.head()"
      ],
      "metadata": {
        "id": "zPpSI2QAGCco"
      },
      "id": "zPpSI2QAGCco",
      "execution_count": null,
      "outputs": []
    },
    {
      "cell_type": "code",
      "execution_count": null,
      "id": "b954e7de",
      "metadata": {
        "id": "b954e7de"
      },
      "outputs": [],
      "source": [
        "# selecting rows based on value type \n",
        "data_pm1 = sensor_data.loc[sensor_data['value_type'] == 'PM1']\n",
        "data_pm2_5 = sensor_data.loc[sensor_data['value_type'] == 'PM2.5' ]\n",
        "data_pm10 = sensor_data.loc[sensor_data['value_type'] == 'PM10']\n",
        "data_hum = sensor_data.loc[sensor_data['value_type'] == 'humidity']\n",
        "data_temp = sensor_data.loc[sensor_data['value_type'] == 'temperature']"
      ]
    },
    {
      "cell_type": "code",
      "source": [
        "# loop through values to calculate aqi\n",
        "# sensor_data.reset_index()\n",
        "# quality_index = [] #create list\n",
        "for a in data_pm10['value']:\n",
        "  a = Decimal(a) #convert each row to decimal\n",
        "  aqi_sensor = aqi.to_aqi([(aqi.POLLUTANT_PM10, a)]) #calculate aqi\n",
        "  # aqi_sensor = aqi_sensor.to_eng_string() #convert aqi to str\n",
        "  # quality_index.append(aqi_sensor)  #append aqi to list"
      ],
      "metadata": {
        "id": "rfAmonA9bsOl"
      },
      "id": "rfAmonA9bsOl",
      "execution_count": null,
      "outputs": []
    },
    {
      "cell_type": "code",
      "execution_count": null,
      "id": "37e05992",
      "metadata": {
        "id": "37e05992",
        "colab": {
          "base_uri": "https://localhost:8080/",
          "height": 200
        },
        "outputId": "87190b1b-259a-42fb-e8c0-a1fbbad09196"
      },
      "outputs": [
        {
          "output_type": "error",
          "ename": "NameError",
          "evalue": "ignored",
          "traceback": [
            "\u001b[0;31m---------------------------------------------------------------------------\u001b[0m",
            "\u001b[0;31mNameError\u001b[0m                                 Traceback (most recent call last)",
            "\u001b[0;32m<ipython-input-24-d7e2e54741b9>\u001b[0m in \u001b[0;36m<module>\u001b[0;34m\u001b[0m\n\u001b[1;32m     15\u001b[0m       \u001b[0;32mreturn\u001b[0m\u001b[0;34m'not rated'\u001b[0m\u001b[0;34m\u001b[0m\u001b[0;34m\u001b[0m\u001b[0m\n\u001b[1;32m     16\u001b[0m \u001b[0;34m\u001b[0m\u001b[0m\n\u001b[0;32m---> 17\u001b[0;31m \u001b[0mdata_pm2_5\u001b[0m\u001b[0;34m[\u001b[0m\u001b[0;34m'quality'\u001b[0m\u001b[0;34m]\u001b[0m \u001b[0;34m=\u001b[0m \u001b[0mdata_pm2_5\u001b[0m\u001b[0;34m[\u001b[0m\u001b[0;34m'value'\u001b[0m\u001b[0;34m]\u001b[0m\u001b[0;34m.\u001b[0m\u001b[0mapply\u001b[0m\u001b[0;34m(\u001b[0m\u001b[0mpm2_class\u001b[0m\u001b[0;34m)\u001b[0m\u001b[0;34m\u001b[0m\u001b[0;34m\u001b[0m\u001b[0m\n\u001b[0m",
            "\u001b[0;31mNameError\u001b[0m: name 'data_pm2_5' is not defined"
          ]
        }
      ],
      "source": [
        "# add aqi bucket\n",
        "    \n",
        "def pm2_class(pm2):\n",
        "  if float(pm2) <= float(12):\n",
        "      return'good' #green\n",
        "  elif float(pm2) <= float(35.4):\n",
        "      return'moderate' #yellow\n",
        "  elif float(pm2) <= float(55.4):\n",
        "      return'unhealthy for sensitive group' #orange\n",
        "  elif float(pm2) <= float(150.4):\n",
        "      return'unhealthy' #red\n",
        "  elif float(pm2) >= float(150.5):\n",
        "      return'very unhealthy' #purple\n",
        "  else:\n",
        "      return'not rated'\n",
        "        \n",
        "data_pm2_5['quality'] = data_pm2_5['value'].apply(pm2_class)"
      ]
    },
    {
      "cell_type": "code",
      "source": [
        "# def value_class3(c):\n",
        "    \n",
        "#     for c in data_pm10['value']:\n",
        "#         if c < 54:\n",
        "#             return'good'\n",
        "#         elif c < 154:\n",
        "#             return'moderate'\n",
        "#         elif c < 254:\n",
        "#             return'unhealthy for sensitive group'\n",
        "#         elif c < 354:\n",
        "#             return'unhealthy'\n",
        "#         elif c >= 355:\n",
        "#             return'very unhealthy'\n",
        "#         else:\n",
        "#             return'not rated'\n",
        "\n",
        "# def value_class4(d):\n",
        "    \n",
        "#     for d in data_hum['value']:\n",
        "#         if d < 50:\n",
        "#             return'low'\n",
        "#         elif d < 80:\n",
        "#             return'high'\n",
        "#         elif d < 80:\n",
        "#             return'very high'\n",
        "#         else:\n",
        "#             return'not rated'    \n",
        "\n",
        "# def value_class5(e):    \n",
        "\n",
        "#     for e in data_temp['value']:\n",
        "#         if e < 10:\n",
        "#             return'very cold'\n",
        "#         elif e < 20:\n",
        "#             return'cold'\n",
        "#         elif e < 27:\n",
        "#             return'good'\n",
        "#         elif e < 35:\n",
        "#             return'hot'\n",
        "#         elif e > 35:\n",
        "#             return'very hot'\n",
        "#         else:\n",
        "#             return'not rated'"
      ],
      "metadata": {
        "id": "H5Z465ziS5Iz"
      },
      "id": "H5Z465ziS5Iz",
      "execution_count": null,
      "outputs": []
    },
    {
      "cell_type": "code",
      "source": [
        "data_pm2_5.sample(15)"
      ],
      "metadata": {
        "colab": {
          "base_uri": "https://localhost:8080/",
          "height": 824
        },
        "id": "go2gDlJQMky7",
        "outputId": "f631a5ea-a0c4-431c-ce41-6689de61256e"
      },
      "id": "go2gDlJQMky7",
      "execution_count": null,
      "outputs": [
        {
          "output_type": "execute_result",
          "data": {
            "text/plain": [
              "         sensor_id sensor_type         location    lat     lon  \\\n",
              "95170          174     pms5003       muthangari -1.261  36.782   \n",
              "324818         174     pms5003       muthangari -1.261  36.782   \n",
              "81884           93     pms5003   haile_sellasie -1.292  36.821   \n",
              "135773         140     pms5003         syokimau -1.383  36.939   \n",
              "303542         138     pms5003         syokimau -1.383  36.939   \n",
              "433734          71     pms5003           riruta -1.297  36.743   \n",
              "741659         138     pms5003         syokimau -1.383  36.939   \n",
              "94500           93     pms5003   haile_sellasie -1.292  36.821   \n",
              "614932          49     pms5003  harambee_avenue -1.289  36.825   \n",
              "1477638        792     pms5003          langata -1.303  36.829   \n",
              "762825          49     pms5003         syokimau -1.383  36.939   \n",
              "1721162        178     pms5003         mlolongo -1.421  36.953   \n",
              "356750          93     pms5003   haile_sellasie -1.292  36.821   \n",
              "704984          93     pms5003   haile_sellasie -1.292  36.821   \n",
              "130161         138     pms5003         syokimau -1.383  36.939   \n",
              "\n",
              "                         timestamp value_type  value        day  hour  \\\n",
              "95170   2022-03-06 03:42:27.870503      PM2.5   19.0     Sunday     3   \n",
              "324818  2021-12-11 22:00:21.936983      PM2.5   18.8   Saturday    22   \n",
              "81884   2022-01-06 23:52:48.056293      PM2.5    8.0   Thursday    23   \n",
              "135773  2022-07-03 02:02:48.627441      PM2.5    5.2     Sunday     2   \n",
              "303542  2022-06-15 12:00:12.610481      PM2.5   33.0  Wednesday    12   \n",
              "433734  2022-05-31 13:57:06.534653      PM2.5   85.0    Tuesday    13   \n",
              "741659  2022-07-12 06:29:34.094945      PM2.5    8.0    Tuesday     6   \n",
              "94500   2022-08-03 11:13:56.925254      PM2.5    8.0  Wednesday    11   \n",
              "614932  2022-09-14 17:48:04.516991      PM2.5   74.8  Wednesday    17   \n",
              "1477638 2022-09-30 10:10:33.255064      PM2.5  32.75     Friday    10   \n",
              "762825  2022-06-22 09:38:13.252129      PM2.5   16.5  Wednesday     9   \n",
              "1721162 2022-07-27 13:50:35.236538      PM2.5   12.0  Wednesday    13   \n",
              "356750  2022-10-07 20:57:29.427790      PM2.5   5.50     Friday    20   \n",
              "704984  2022-08-16 00:48:34.983400      PM2.5    3.4    Tuesday     0   \n",
              "130161  2022-07-02 23:41:28.540931      PM2.5    9.0   Saturday    23   \n",
              "\n",
              "                  time  PM2.5_SubIndex    quality  \n",
              "95170       Late Night       31.666667   moderate  \n",
              "324818           Night       31.333333   moderate  \n",
              "81884            Night       13.333333       good  \n",
              "135773      Late Night        8.666667       good  \n",
              "303542         Morning       55.000000   moderate  \n",
              "433734            Noon      183.333333  unhealthy  \n",
              "741659   Early Morning       13.333333       good  \n",
              "94500          Morning       13.333333       good  \n",
              "614932         Evening      149.333333  unhealthy  \n",
              "1477638        Morning       54.583333   moderate  \n",
              "762825         Morning       27.500000   moderate  \n",
              "1721162           Noon       20.000000       good  \n",
              "356750         Evening        9.166667       good  \n",
              "704984      Late Night        5.666667       good  \n",
              "130161           Night       15.000000       good  "
            ],
            "text/html": [
              "\n",
              "  <div id=\"df-6025eda5-de5a-46fe-9e12-6d5b516f5e4a\">\n",
              "    <div class=\"colab-df-container\">\n",
              "      <div>\n",
              "<style scoped>\n",
              "    .dataframe tbody tr th:only-of-type {\n",
              "        vertical-align: middle;\n",
              "    }\n",
              "\n",
              "    .dataframe tbody tr th {\n",
              "        vertical-align: top;\n",
              "    }\n",
              "\n",
              "    .dataframe thead th {\n",
              "        text-align: right;\n",
              "    }\n",
              "</style>\n",
              "<table border=\"1\" class=\"dataframe\">\n",
              "  <thead>\n",
              "    <tr style=\"text-align: right;\">\n",
              "      <th></th>\n",
              "      <th>sensor_id</th>\n",
              "      <th>sensor_type</th>\n",
              "      <th>location</th>\n",
              "      <th>lat</th>\n",
              "      <th>lon</th>\n",
              "      <th>timestamp</th>\n",
              "      <th>value_type</th>\n",
              "      <th>value</th>\n",
              "      <th>day</th>\n",
              "      <th>hour</th>\n",
              "      <th>time</th>\n",
              "      <th>PM2.5_SubIndex</th>\n",
              "      <th>quality</th>\n",
              "    </tr>\n",
              "  </thead>\n",
              "  <tbody>\n",
              "    <tr>\n",
              "      <th>95170</th>\n",
              "      <td>174</td>\n",
              "      <td>pms5003</td>\n",
              "      <td>muthangari</td>\n",
              "      <td>-1.261</td>\n",
              "      <td>36.782</td>\n",
              "      <td>2022-03-06 03:42:27.870503</td>\n",
              "      <td>PM2.5</td>\n",
              "      <td>19.0</td>\n",
              "      <td>Sunday</td>\n",
              "      <td>3</td>\n",
              "      <td>Late Night</td>\n",
              "      <td>31.666667</td>\n",
              "      <td>moderate</td>\n",
              "    </tr>\n",
              "    <tr>\n",
              "      <th>324818</th>\n",
              "      <td>174</td>\n",
              "      <td>pms5003</td>\n",
              "      <td>muthangari</td>\n",
              "      <td>-1.261</td>\n",
              "      <td>36.782</td>\n",
              "      <td>2021-12-11 22:00:21.936983</td>\n",
              "      <td>PM2.5</td>\n",
              "      <td>18.8</td>\n",
              "      <td>Saturday</td>\n",
              "      <td>22</td>\n",
              "      <td>Night</td>\n",
              "      <td>31.333333</td>\n",
              "      <td>moderate</td>\n",
              "    </tr>\n",
              "    <tr>\n",
              "      <th>81884</th>\n",
              "      <td>93</td>\n",
              "      <td>pms5003</td>\n",
              "      <td>haile_sellasie</td>\n",
              "      <td>-1.292</td>\n",
              "      <td>36.821</td>\n",
              "      <td>2022-01-06 23:52:48.056293</td>\n",
              "      <td>PM2.5</td>\n",
              "      <td>8.0</td>\n",
              "      <td>Thursday</td>\n",
              "      <td>23</td>\n",
              "      <td>Night</td>\n",
              "      <td>13.333333</td>\n",
              "      <td>good</td>\n",
              "    </tr>\n",
              "    <tr>\n",
              "      <th>135773</th>\n",
              "      <td>140</td>\n",
              "      <td>pms5003</td>\n",
              "      <td>syokimau</td>\n",
              "      <td>-1.383</td>\n",
              "      <td>36.939</td>\n",
              "      <td>2022-07-03 02:02:48.627441</td>\n",
              "      <td>PM2.5</td>\n",
              "      <td>5.2</td>\n",
              "      <td>Sunday</td>\n",
              "      <td>2</td>\n",
              "      <td>Late Night</td>\n",
              "      <td>8.666667</td>\n",
              "      <td>good</td>\n",
              "    </tr>\n",
              "    <tr>\n",
              "      <th>303542</th>\n",
              "      <td>138</td>\n",
              "      <td>pms5003</td>\n",
              "      <td>syokimau</td>\n",
              "      <td>-1.383</td>\n",
              "      <td>36.939</td>\n",
              "      <td>2022-06-15 12:00:12.610481</td>\n",
              "      <td>PM2.5</td>\n",
              "      <td>33.0</td>\n",
              "      <td>Wednesday</td>\n",
              "      <td>12</td>\n",
              "      <td>Morning</td>\n",
              "      <td>55.000000</td>\n",
              "      <td>moderate</td>\n",
              "    </tr>\n",
              "    <tr>\n",
              "      <th>433734</th>\n",
              "      <td>71</td>\n",
              "      <td>pms5003</td>\n",
              "      <td>riruta</td>\n",
              "      <td>-1.297</td>\n",
              "      <td>36.743</td>\n",
              "      <td>2022-05-31 13:57:06.534653</td>\n",
              "      <td>PM2.5</td>\n",
              "      <td>85.0</td>\n",
              "      <td>Tuesday</td>\n",
              "      <td>13</td>\n",
              "      <td>Noon</td>\n",
              "      <td>183.333333</td>\n",
              "      <td>unhealthy</td>\n",
              "    </tr>\n",
              "    <tr>\n",
              "      <th>741659</th>\n",
              "      <td>138</td>\n",
              "      <td>pms5003</td>\n",
              "      <td>syokimau</td>\n",
              "      <td>-1.383</td>\n",
              "      <td>36.939</td>\n",
              "      <td>2022-07-12 06:29:34.094945</td>\n",
              "      <td>PM2.5</td>\n",
              "      <td>8.0</td>\n",
              "      <td>Tuesday</td>\n",
              "      <td>6</td>\n",
              "      <td>Early Morning</td>\n",
              "      <td>13.333333</td>\n",
              "      <td>good</td>\n",
              "    </tr>\n",
              "    <tr>\n",
              "      <th>94500</th>\n",
              "      <td>93</td>\n",
              "      <td>pms5003</td>\n",
              "      <td>haile_sellasie</td>\n",
              "      <td>-1.292</td>\n",
              "      <td>36.821</td>\n",
              "      <td>2022-08-03 11:13:56.925254</td>\n",
              "      <td>PM2.5</td>\n",
              "      <td>8.0</td>\n",
              "      <td>Wednesday</td>\n",
              "      <td>11</td>\n",
              "      <td>Morning</td>\n",
              "      <td>13.333333</td>\n",
              "      <td>good</td>\n",
              "    </tr>\n",
              "    <tr>\n",
              "      <th>614932</th>\n",
              "      <td>49</td>\n",
              "      <td>pms5003</td>\n",
              "      <td>harambee_avenue</td>\n",
              "      <td>-1.289</td>\n",
              "      <td>36.825</td>\n",
              "      <td>2022-09-14 17:48:04.516991</td>\n",
              "      <td>PM2.5</td>\n",
              "      <td>74.8</td>\n",
              "      <td>Wednesday</td>\n",
              "      <td>17</td>\n",
              "      <td>Evening</td>\n",
              "      <td>149.333333</td>\n",
              "      <td>unhealthy</td>\n",
              "    </tr>\n",
              "    <tr>\n",
              "      <th>1477638</th>\n",
              "      <td>792</td>\n",
              "      <td>pms5003</td>\n",
              "      <td>langata</td>\n",
              "      <td>-1.303</td>\n",
              "      <td>36.829</td>\n",
              "      <td>2022-09-30 10:10:33.255064</td>\n",
              "      <td>PM2.5</td>\n",
              "      <td>32.75</td>\n",
              "      <td>Friday</td>\n",
              "      <td>10</td>\n",
              "      <td>Morning</td>\n",
              "      <td>54.583333</td>\n",
              "      <td>moderate</td>\n",
              "    </tr>\n",
              "    <tr>\n",
              "      <th>762825</th>\n",
              "      <td>49</td>\n",
              "      <td>pms5003</td>\n",
              "      <td>syokimau</td>\n",
              "      <td>-1.383</td>\n",
              "      <td>36.939</td>\n",
              "      <td>2022-06-22 09:38:13.252129</td>\n",
              "      <td>PM2.5</td>\n",
              "      <td>16.5</td>\n",
              "      <td>Wednesday</td>\n",
              "      <td>9</td>\n",
              "      <td>Morning</td>\n",
              "      <td>27.500000</td>\n",
              "      <td>moderate</td>\n",
              "    </tr>\n",
              "    <tr>\n",
              "      <th>1721162</th>\n",
              "      <td>178</td>\n",
              "      <td>pms5003</td>\n",
              "      <td>mlolongo</td>\n",
              "      <td>-1.421</td>\n",
              "      <td>36.953</td>\n",
              "      <td>2022-07-27 13:50:35.236538</td>\n",
              "      <td>PM2.5</td>\n",
              "      <td>12.0</td>\n",
              "      <td>Wednesday</td>\n",
              "      <td>13</td>\n",
              "      <td>Noon</td>\n",
              "      <td>20.000000</td>\n",
              "      <td>good</td>\n",
              "    </tr>\n",
              "    <tr>\n",
              "      <th>356750</th>\n",
              "      <td>93</td>\n",
              "      <td>pms5003</td>\n",
              "      <td>haile_sellasie</td>\n",
              "      <td>-1.292</td>\n",
              "      <td>36.821</td>\n",
              "      <td>2022-10-07 20:57:29.427790</td>\n",
              "      <td>PM2.5</td>\n",
              "      <td>5.50</td>\n",
              "      <td>Friday</td>\n",
              "      <td>20</td>\n",
              "      <td>Evening</td>\n",
              "      <td>9.166667</td>\n",
              "      <td>good</td>\n",
              "    </tr>\n",
              "    <tr>\n",
              "      <th>704984</th>\n",
              "      <td>93</td>\n",
              "      <td>pms5003</td>\n",
              "      <td>haile_sellasie</td>\n",
              "      <td>-1.292</td>\n",
              "      <td>36.821</td>\n",
              "      <td>2022-08-16 00:48:34.983400</td>\n",
              "      <td>PM2.5</td>\n",
              "      <td>3.4</td>\n",
              "      <td>Tuesday</td>\n",
              "      <td>0</td>\n",
              "      <td>Late Night</td>\n",
              "      <td>5.666667</td>\n",
              "      <td>good</td>\n",
              "    </tr>\n",
              "    <tr>\n",
              "      <th>130161</th>\n",
              "      <td>138</td>\n",
              "      <td>pms5003</td>\n",
              "      <td>syokimau</td>\n",
              "      <td>-1.383</td>\n",
              "      <td>36.939</td>\n",
              "      <td>2022-07-02 23:41:28.540931</td>\n",
              "      <td>PM2.5</td>\n",
              "      <td>9.0</td>\n",
              "      <td>Saturday</td>\n",
              "      <td>23</td>\n",
              "      <td>Night</td>\n",
              "      <td>15.000000</td>\n",
              "      <td>good</td>\n",
              "    </tr>\n",
              "  </tbody>\n",
              "</table>\n",
              "</div>\n",
              "      <button class=\"colab-df-convert\" onclick=\"convertToInteractive('df-6025eda5-de5a-46fe-9e12-6d5b516f5e4a')\"\n",
              "              title=\"Convert this dataframe to an interactive table.\"\n",
              "              style=\"display:none;\">\n",
              "        \n",
              "  <svg xmlns=\"http://www.w3.org/2000/svg\" height=\"24px\"viewBox=\"0 0 24 24\"\n",
              "       width=\"24px\">\n",
              "    <path d=\"M0 0h24v24H0V0z\" fill=\"none\"/>\n",
              "    <path d=\"M18.56 5.44l.94 2.06.94-2.06 2.06-.94-2.06-.94-.94-2.06-.94 2.06-2.06.94zm-11 1L8.5 8.5l.94-2.06 2.06-.94-2.06-.94L8.5 2.5l-.94 2.06-2.06.94zm10 10l.94 2.06.94-2.06 2.06-.94-2.06-.94-.94-2.06-.94 2.06-2.06.94z\"/><path d=\"M17.41 7.96l-1.37-1.37c-.4-.4-.92-.59-1.43-.59-.52 0-1.04.2-1.43.59L10.3 9.45l-7.72 7.72c-.78.78-.78 2.05 0 2.83L4 21.41c.39.39.9.59 1.41.59.51 0 1.02-.2 1.41-.59l7.78-7.78 2.81-2.81c.8-.78.8-2.07 0-2.86zM5.41 20L4 18.59l7.72-7.72 1.47 1.35L5.41 20z\"/>\n",
              "  </svg>\n",
              "      </button>\n",
              "      \n",
              "  <style>\n",
              "    .colab-df-container {\n",
              "      display:flex;\n",
              "      flex-wrap:wrap;\n",
              "      gap: 12px;\n",
              "    }\n",
              "\n",
              "    .colab-df-convert {\n",
              "      background-color: #E8F0FE;\n",
              "      border: none;\n",
              "      border-radius: 50%;\n",
              "      cursor: pointer;\n",
              "      display: none;\n",
              "      fill: #1967D2;\n",
              "      height: 32px;\n",
              "      padding: 0 0 0 0;\n",
              "      width: 32px;\n",
              "    }\n",
              "\n",
              "    .colab-df-convert:hover {\n",
              "      background-color: #E2EBFA;\n",
              "      box-shadow: 0px 1px 2px rgba(60, 64, 67, 0.3), 0px 1px 3px 1px rgba(60, 64, 67, 0.15);\n",
              "      fill: #174EA6;\n",
              "    }\n",
              "\n",
              "    [theme=dark] .colab-df-convert {\n",
              "      background-color: #3B4455;\n",
              "      fill: #D2E3FC;\n",
              "    }\n",
              "\n",
              "    [theme=dark] .colab-df-convert:hover {\n",
              "      background-color: #434B5C;\n",
              "      box-shadow: 0px 1px 3px 1px rgba(0, 0, 0, 0.15);\n",
              "      filter: drop-shadow(0px 1px 2px rgba(0, 0, 0, 0.3));\n",
              "      fill: #FFFFFF;\n",
              "    }\n",
              "  </style>\n",
              "\n",
              "      <script>\n",
              "        const buttonEl =\n",
              "          document.querySelector('#df-6025eda5-de5a-46fe-9e12-6d5b516f5e4a button.colab-df-convert');\n",
              "        buttonEl.style.display =\n",
              "          google.colab.kernel.accessAllowed ? 'block' : 'none';\n",
              "\n",
              "        async function convertToInteractive(key) {\n",
              "          const element = document.querySelector('#df-6025eda5-de5a-46fe-9e12-6d5b516f5e4a');\n",
              "          const dataTable =\n",
              "            await google.colab.kernel.invokeFunction('convertToInteractive',\n",
              "                                                     [key], {});\n",
              "          if (!dataTable) return;\n",
              "\n",
              "          const docLinkHtml = 'Like what you see? Visit the ' +\n",
              "            '<a target=\"_blank\" href=https://colab.research.google.com/notebooks/data_table.ipynb>data table notebook</a>'\n",
              "            + ' to learn more about interactive tables.';\n",
              "          element.innerHTML = '';\n",
              "          dataTable['output_type'] = 'display_data';\n",
              "          await google.colab.output.renderOutput(dataTable, element);\n",
              "          const docLink = document.createElement('div');\n",
              "          docLink.innerHTML = docLinkHtml;\n",
              "          element.appendChild(docLink);\n",
              "        }\n",
              "      </script>\n",
              "    </div>\n",
              "  </div>\n",
              "  "
            ]
          },
          "metadata": {},
          "execution_count": 40
        }
      ]
    },
    {
      "cell_type": "code",
      "execution_count": null,
      "id": "d9b4d693",
      "metadata": {
        "id": "d9b4d693",
        "colab": {
          "base_uri": "https://localhost:8080/"
        },
        "outputId": "e105b5a2-77f5-4642-b294-9a678e885240"
      },
      "outputs": [
        {
          "output_type": "stream",
          "name": "stdout",
          "text": [
            "Stored 'sensor_data' (DataFrame)\n",
            "Stored 'data_pm2_5' (DataFrame)\n"
          ]
        }
      ],
      "source": [
        "%store sensor_data\n",
        "%store data_pm2_5"
      ]
    },
    {
      "cell_type": "code",
      "source": [
        "#In this case we use fuction 'to_csv' and the filename will be what you want the name of your file to be.\n",
        "data_pm2_5.to_csv('data_pm2_5.csv', index = False)"
      ],
      "metadata": {
        "id": "lG184cGvcX3I"
      },
      "id": "lG184cGvcX3I",
      "execution_count": null,
      "outputs": []
    },
    {
      "cell_type": "code",
      "source": [
        "!cp data_pm2_5.csv \"/content/drive/MyDrive/sensor data\""
      ],
      "metadata": {
        "id": "S5WU8f-vfXu4"
      },
      "id": "S5WU8f-vfXu4",
      "execution_count": null,
      "outputs": []
    },
    {
      "cell_type": "code",
      "source": [
        "# name and store sensor data\n",
        "sensor_data.to_csv('sensor_data.csv', index = False)\n",
        "!cp sensor_data.csv '/content/drive/MyDrive/sensor data'"
      ],
      "metadata": {
        "id": "YkEH4rim30VH"
      },
      "id": "YkEH4rim30VH",
      "execution_count": null,
      "outputs": []
    }
  ],
  "metadata": {
    "celltoolbar": "Raw Cell Format",
    "kernelspec": {
      "display_name": "Python 3 (ipykernel)",
      "language": "python",
      "name": "python3"
    },
    "language_info": {
      "codemirror_mode": {
        "name": "ipython",
        "version": 3
      },
      "file_extension": ".py",
      "mimetype": "text/x-python",
      "name": "python",
      "nbconvert_exporter": "python",
      "pygments_lexer": "ipython3",
      "version": "3.9.10"
    },
    "colab": {
      "provenance": []
    },
    "gpuClass": "standard"
  },
  "nbformat": 4,
  "nbformat_minor": 5
}
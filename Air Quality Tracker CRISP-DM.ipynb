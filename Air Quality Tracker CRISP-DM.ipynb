{
 "cells": [
  {
   "attachments": {},
   "cell_type": "markdown",
   "id": "e0958fa6",
   "metadata": {},
   "source": [
    "# JENGA SCHOOL OF DATA SCIENCE AND AI\n",
    "\n",
    "\n",
    "\n",
    "### CRISP-DM METHODOLODY FOR AIR QUALITY TRACKING IN NAIROBI, KENYA\n",
    "\n",
    "\n",
    "### SIFA KINOTI\n",
    "\n",
    "\n",
    "### SUPERVISOR: DR. LAWRENCE NDERU\n",
    "\n",
    "\n",
    "\n",
    "\n",
    "\n",
    "\n",
    "\n",
    "#### AUGUST 2022 \n"
   ]
  },
  {
   "attachments": {},
   "cell_type": "markdown",
   "id": "818ee950",
   "metadata": {},
   "source": [
    "### Table of Contents\n",
    "\n",
    "* [1. Overview](#Overview)\n",
    "\n",
    "* [2. CRISP-DM Methodology](#CRISP_DM_Methodology)\n",
    "    \n",
    "* [3. Business Understanding](#Business_Understanding)\n",
    "    * [3.1 Business Objectives](#Business_Objectives)\n",
    "    * [3.2 Resources availability](#Resources_availability)\n",
    "    * [3.3 Risks and contingencies](#Risks_and_contingencies)\n",
    "    * [3.4 Data mining goals](#Data_mining_goals)\n",
    "    * [3.5 Project plan](#Project_plan)\n",
    "    \n",
    "* [4. Data Understanding](#Data_Understanding)\n",
    "    * [4.1 Collect initial data](#Collect_initial_data)\n",
    "    * [4.2 Describe data](#Describe_data)\n",
    "    * [4.3 Explore data](#Explore_data)\n",
    "    * [4.4 Verify data quality](#Verify_data_quality)\n",
    "    \n",
    "* [5. Data Preparation](#Data_Preparation)\n",
    "    * [5.1 Data cleaning](#Data_cleaning)\n",
    "    * [5.2 Data construction](#Data_construction)\n",
    "    * [5.3 Data integration](#Data_integration)\n",
    "    \n",
    "* [6. Preparing the model](#Preparing_the_model)\n",
    "    * [6.1 Selecting the modelling technique](#Selecting_the_modelling_technique)\n",
    "    * [6.2 Generating the test design](#Generating_the_test_design)\n",
    "    * [6.3 Building the model](#Building_the_model)\n",
    "    * [6.4 Assessing the model](#Assessing_the_model)\n",
    "\n",
    "* [7. Model Evaluation](#Model_Evaluation)\n",
    "    * [7.1 Evaluating the results](#Evaluating_the_results)\n",
    "    * [7.2 Reviewing the process](#Reviewing_the_process)\n",
    "    * [7.3 Determining the next steps](#Determining_the_next_steps)\n",
    "    * [7.4 Assessing the model](#Assessing_the_model)\n",
    "\n",
    "* [8. Model deployment](#Model_deployment)\n",
    "    * [8.1 Planning the deployment](#Planning_the_deployment)\n",
    "    * [8.2 Planning the monitoring and maintenance](#Planning_the_monitoring_and_maintenance)\n",
    "    * [8.3 Producing the final report](#Producing_the_final_report)\n",
    "    * [8.4 Presenting the project](#Presenting_the_project)\n",
    " "
   ]
  },
  {
   "attachments": {},
   "cell_type": "markdown",
   "id": "222f9a05",
   "metadata": {},
   "source": [
    "### 1. Overview <a class=\"anchor\" id=\"Overview\"></a>\n",
    "\n",
    "Clean air is essential to the wellbeing of our planet and its inhabitants as all living beings require it for survival. Unfortunately, over the years, our air has become dirtier through human activities, consequently negatively affecting the environment, global health and economy. The World Health Organization (WHO) reports on six major air pollutants, namely particle pollution/ particulate matter (PM), ground-level ozone, carbon monoxide, sulphur oxides, nitrogen oxides, and lead. These pollutants majorly emanate from transport related emmissions (cars, planes, ships), burning of fossil fuels in industrial plants and homesteads, wastewaters and metals, agriculture and chemical reactions between the different pollutants. Other significant sources of pollution include Volatile Organic Compounds (VOCs), methane, dust and aerosols.\n",
    "\n",
    "Air pollution is the major cause of climate change, which according to the World Economic Forum, is the biggest challenge of the 21st century. The Global Risks Report of 2022 reports that climate-change related risks account for three of the top risks by severity in the next 10 years. Clearly, climate change is a real threat to the global economy, and scaling down, it is also a major threat to the Kenyan economy. Furthermore, the WHO reports that an average of 7 million people a year die from air pollution complications. Exposure to high levels of air pollution increases the risk of heart diseases, neurological disorders, lung cancer and respiratory infections. It has also been related to excessive premature mortality. It has been found that exposure to air pollution also negatively affects our cognitive ability, decision making, risk attitude and dementia.\n",
    "\n",
    "In order to combat air pollution, we need to understand the pollutants in the air at a given time, where they come from and their long term effects. With such knowledge, we should be able to give suggestions to improve the situation. However, without knowing which pollutants are present, in which quantities and locations, one may not be able to suggest a proper solution. In the developed world, most of the solutions to beating air pollution revolve around cutting down on fossil fuel consumption. They do this by switching to greener forms of energy for their transport and electricity needs. This comes after the realization that most of the pollution present comes from coal plantations. (on biases add on indoor pollution, assumption of switching to greener sources of energy, assumption of zones of high pollution, areas of construction pollution) In Nairobi, Kenya, however, data on air pollution is scarse, therefore we are not in the best poisiton to draw the most useful insights. Through this project, we hope to raise awareness and scale up efforts in air pollution tracking in the city.\n",
    "\n",
    "This data science project, therefore, seeks to analyse the air pollution in Nairobi, Kenya. We will analyse previous data containing the level of pollutants as well as mapping air quality in the city. We will be able to identify the major pollutants and where most of the pollution comes from. We will also build a predictive model, to be able to predict the air quality. This project can be applied by law and policy making bodies when making decisions related to air quality management as well as curious citizens who are interested to know the state of the air they breathe. Through deeper analysis we should be able to recommend solutions to air pollution in Nairobi. We should also be able to track the effects of air pollution in the city eventally.\n",
    "\n",
    "We will source our data from the following websites: first is sensor Africa. They provide open source sensor data on air quality, specifically measuring PM2.5 values across Africa. We also have OpenAq, which is also an open source sensor data on air quality across the world measuring different pollutants. Finally we have the World Development Indicators databank developed by World Bank. Eventually, we will incorporate Sentinel 5P data from Copernicus, which is open sourse satellite data on air pollution."
   ]
  },
  {
   "attachments": {},
   "cell_type": "markdown",
   "id": "36e597e2",
   "metadata": {},
   "source": [
    "## 2. CRISP-DM Methodology  <a class=\"anchor\" id=\"CRISP_DM_Methodology\"></a>\n",
    "\n",
    "\n",
    "Crisp–DM is a widely used framework that stands for Cross Industry Standard Process for Data Mining. As the name suggests, it is a standard process for managing data science projects. It is a uniform framework that can be implemented in any data science project and allows for project replication. CRISP-DM is organized into six tasks, as you will see in this document. \n",
    "\n",
    "The first is business understanding, where the business goals and data mining goals are underlined. Second is data understanding where the data needed for the project is collected, described and explored in order to understand it and verify its quality to be used in the project. Third is data preparation where the data is prepared for modelling through cleaning, merging and other techniques. Fourth is preparing the model, where a suitable alorithm is chosen, built and tested. Fifth is evaluation where the results of the model are evaluated and the process is reviewed. Finally we have deployment where the model is prapared to be deployed in the industry. \n",
    "\n",
    "The benefits of using this framework is that it organizes one's workflow by breaking down the objectives into smaller and more specific and time bound tasks. CRISP-DM is cost effective and thus recommended as best practice."
   ]
  },
  {
   "attachments": {},
   "cell_type": "markdown",
   "id": "b081cbf8",
   "metadata": {},
   "source": [
    "## 3. Business Understanding <a class=\"anchor\" id=\"Business_Understanding\"></a>\n",
    "\n",
    "\n",
    "### 3.1 Business Objectives <a class=\"anchor\" id=\"Business_Objectives\"></a>\n",
    "\n",
    "This project aims to map and track air quality in Nairobi, Kenya. Through this project, a user should be able to identify and track various pollutants in the city. They should also be able to see how air quality in the city has changed over time. The user will be able to identify zones of high pollution and draw conclusion on how to combat pollution within the city. This will be enabled through an interactive web app. The project is part of air quality management process as it will visualize data that concerned citizens and policy makers can draw useful insights for in the fight against air pollution. With time, the project will be made open-source so as to invite collaborators to make the tracker more insightful.\n",
    "\n",
    "### 3.2 Resources availability <a class=\"anchor\" id=\"Resources_availability\"></a>\n",
    "\n",
    "The biggest resource needed is data. We will incorporate different kinds of data in this project including but not limited to: open source sensor data, world air quality tracking data, Sentinel 5P data, geodata in order to locate features such as transport systems, industries, homesteads and global air quality indices.\n",
    "\n",
    "### 3.3 Risks and contingencies <a class=\"anchor\" id=\"Risks_and_contingencies\"></a>\n",
    "\n",
    "The risks present in conducting this project include not getting sufficient data. This is especially likely for real time data across different locations in Nairobi. There is also a risk of not getting all pollutant data as PM 2.5 and CO2 data is more available than other pollutant data. This can lead to biased conclusions. The project, being long-term, presents a risk of being too advanced for my level of expertise. To curb these risks the project will be made open source afrer the presentation. \n",
    "\n",
    "### 3.4\tData mining goals <a class=\"anchor\" id=\"Data_mining_goals\"></a>\n",
    "\n",
    "The goal of the project is to develop a web app that will visualise, analyze and predict air quality in Nairobi. We will develop a map of Nairobi that will identify the different pollutants in the air at a given time. We will conduct analysis through linear regression models so as to understand the trend of air pollution in the city. We will also predict the air quality status of the next day, given certain parameters. On the webiste we shall give the comparison between the accepted air quality index and the real time index. Through the website, law and policy makers can draw useful insights on how to mitigate air pollution in the city.\n",
    "\n",
    "###  3.5 Project plan <a class=\"anchor\" id=\"Project_Plan\"></a>\n",
    "    \n",
    "| OBJECTIVES                                 | TASKS                                                                                                                                                                                                                                                                                                                                                                                                                                   | TIMELINE |   |   |\n",
    "|--------------------------------------------|-----------------------------------------------------------------------------------------------------------------------------------------------------------------------------------------------------------------------------------------------------------------------------------------------------------------------------------------------------------------------------------------------------------------------------------------|----------|---|---|\n",
    "| Researching on air pollution metrics       | -Reading academic papers on air quality management to understand the different pollutants and the metrics used in gauging air quality<br>-Consulting an expert in the field on air pollution and the various ways this project could be of benefit<br>-Attending at least 1 webinar/ training on air quality management<br>-Enrol in a short online course (e.g. on coursera, udemy) in order to understand air quality mapping better* | 5 weeks  |   |   |\n",
    "| Researching on deep learning architectures | -Read articles on the various deep learning algorithms experimented with in the past<br>-Learn the various new deep learning algorithms previously not encountered<br>-Consult a specialist on the same<br>-Research on algorithms dealing with spatio-temporal mapping, satellite imagery and air pollution                                                                                                                            | 4 weeks  |   |   |\n",
    "| Data Understanding                         | -Collecting the data<br>-Exploring the data<br>-Describing the data<br>-Verifying the data quality                                                                                                                                                                                                                                                                                                                                      | 3 weeks  |   |   |\n",
    "| Data Preparation                           | -Data cleaning<br>-Data construction<br>-Data integration                                                                                                                                                                                                                                                                                                                                                                               | 3 weeks  |   |   |\n",
    "| Preparing the model                        | -Selecting the modelling technique<br>-Generating the test design<br>-Building the model<br>-Assessing the model                                                                                                                                                                                                                                                                                                                        | 6 weeks  |   |   |\n",
    "| Model Evaluation                           | -Evaluating the results<br>-Reviewing the process <br>-Determining the next steps                                                                                                                                                                                                                                                                                                                                                       | 2 weeks  |   |   |\n",
    "| Model deployment                           | -Planning the deployment<br>-Planning the monitoring and maintenance<br>-Producing the final report<br>-Presenting the project                                                                                                                                                                                                                                                                                                          | 2 weeks  |   |   |"
   ]
  },
  {
   "attachments": {},
   "cell_type": "markdown",
   "id": "a35e47ad",
   "metadata": {},
   "source": [
    "## 4. Data Understanding <a class=\"anchor\" id=\"Data_Understanding\"></a>\n",
    "In this sector, we are going to visualize the data, plot the coordinates, identify outliers, plot timeseries graphs, identify patterns in the data."
   ]
  },
  {
   "attachments": {},
   "cell_type": "markdown",
   "id": "5cc1cb68",
   "metadata": {},
   "source": [
    "### 4.1 Collect initial data <a class=\"anchor\" id=\"Collect_initial_data\"></a>\n"
   ]
  },
  {
   "cell_type": "code",
   "execution_count": 1,
   "id": "f96f2464",
   "metadata": {},
   "outputs": [],
   "source": [
    "# import the necessary packages\n",
    "import pandas as pd\n",
    "import seaborn as sns\n",
    "import numpy as np\n",
    "import plotly.express as px\n",
    "import matplotlib.pyplot as plt\n",
    "%matplotlib inline\n",
    "from datetime import datetime\n",
    "#import aqi\n",
    "from decimal import Decimal"
   ]
  },
  {
   "cell_type": "code",
   "execution_count": 2,
   "id": "83788b7c",
   "metadata": {},
   "outputs": [],
   "source": [
    "# read November sensor data csv\n",
    "nov21 = pd.read_csv(\"november_2021_sensor_data_archive.csv\", sep = ';')"
   ]
  },
  {
   "cell_type": "code",
   "execution_count": 3,
   "id": "2991d6d8",
   "metadata": {},
   "outputs": [],
   "source": [
    "# read December Sensor Data csv\n",
    "dec21 = pd.read_csv(\"december_2021_sensor_data_archive.csv\", sep = ';')"
   ]
  },
  {
   "cell_type": "code",
   "execution_count": 4,
   "id": "34e38f3c",
   "metadata": {},
   "outputs": [],
   "source": [
    "# read January Sensor Data csv\n",
    "jan22 = pd.read_csv(\"january_2022_sensor_data_archive (1).csv\", sep = ';')"
   ]
  },
  {
   "cell_type": "code",
   "execution_count": 5,
   "id": "d7071478",
   "metadata": {},
   "outputs": [],
   "source": [
    "# read February Sensor csv\n",
    "feb22 = pd.read_csv(\"february_2022_sensor_data_archive.csv\", sep = ';')"
   ]
  },
  {
   "cell_type": "code",
   "execution_count": 6,
   "id": "dc5ecaac",
   "metadata": {},
   "outputs": [],
   "source": [
    "# read March Sensor csv\n",
    "march22 = pd.read_csv(\"march_2022_sensor_data_archive.csv\", sep = ';')"
   ]
  },
  {
   "cell_type": "code",
   "execution_count": 7,
   "id": "6308aeb4",
   "metadata": {},
   "outputs": [],
   "source": [
    "# read April Sensor csv\n",
    "april22 = pd.read_csv(\"april_2022_sensor_data_archive.csv\", sep = ';')"
   ]
  },
  {
   "cell_type": "code",
   "execution_count": 8,
   "id": "f6bf5c59",
   "metadata": {},
   "outputs": [],
   "source": [
    "# read May Sensor csv\n",
    "may22 = pd.read_csv(\"may_2022_sensor_data_archive.csv\", sep = ';')"
   ]
  },
  {
   "cell_type": "code",
   "execution_count": 9,
   "id": "2faf9669",
   "metadata": {},
   "outputs": [],
   "source": [
    "# read June Sensor csv\n",
    "june22 = pd.read_csv(\"june_2022_sensor_data_archive.csv\", sep = ';')"
   ]
  },
  {
   "cell_type": "code",
   "execution_count": 10,
   "id": "9b59912e",
   "metadata": {},
   "outputs": [],
   "source": [
    "# read July Sensor csv\n",
    "july22 = pd.read_csv(\"july_2022_sensor_data_archive.csv\", sep = ';')"
   ]
  },
  {
   "cell_type": "code",
   "execution_count": 11,
   "id": "0b89cfbb",
   "metadata": {},
   "outputs": [],
   "source": [
    "# read August Sensor csv\n",
    "aug22 = pd.read_csv(\"august_2022_sensor_data_archive.csv\", sep = ';')"
   ]
  },
  {
   "cell_type": "code",
   "execution_count": 12,
   "id": "424c729b",
   "metadata": {},
   "outputs": [],
   "source": [
    "# read September Sensor csv\n",
    "sept22 = pd.read_csv(\"september_2022_sensor_data_archive.csv\", sep = ';')"
   ]
  },
  {
   "cell_type": "code",
   "execution_count": 13,
   "id": "14ac7a1b",
   "metadata": {},
   "outputs": [],
   "source": [
    "# read October Sensor csv\n",
    "oct22 = pd.read_csv(\"october_2022_sensor_data_archive.csv\", sep = ';', low_memory = False)"
   ]
  },
  {
   "cell_type": "code",
   "execution_count": 14,
   "id": "9452aa3c",
   "metadata": {},
   "outputs": [],
   "source": [
    "# read November 2022 Sensor csv\n",
    "nov22 = pd.read_csv(\"november_2022_sensor_data_archive.csv\", sep = ';')"
   ]
  },
  {
   "cell_type": "code",
   "execution_count": 15,
   "id": "eb1a14a4",
   "metadata": {},
   "outputs": [],
   "source": [
    "sensor_data = pd.concat([nov21, dec21, jan22, feb22, march22, april22, may22, june22, july22, aug22, sept22, oct22, nov22])"
   ]
  },
  {
   "attachments": {},
   "cell_type": "markdown",
   "id": "56659fcd",
   "metadata": {},
   "source": [
    "### 4.2 Describe data <a class=\"anchor\" id=\"Describe_data\"></a>\n",
    "In this space, we shall describe the collected data"
   ]
  },
  {
   "cell_type": "code",
   "execution_count": 16,
   "id": "4c687055",
   "metadata": {},
   "outputs": [
    {
     "data": {
      "text/html": [
       "<div>\n",
       "<style scoped>\n",
       "    .dataframe tbody tr th:only-of-type {\n",
       "        vertical-align: middle;\n",
       "    }\n",
       "\n",
       "    .dataframe tbody tr th {\n",
       "        vertical-align: top;\n",
       "    }\n",
       "\n",
       "    .dataframe thead th {\n",
       "        text-align: right;\n",
       "    }\n",
       "</style>\n",
       "<table border=\"1\" class=\"dataframe\">\n",
       "  <thead>\n",
       "    <tr style=\"text-align: right;\">\n",
       "      <th></th>\n",
       "      <th>sensor_id</th>\n",
       "      <th>sensor_type</th>\n",
       "      <th>location</th>\n",
       "      <th>lat</th>\n",
       "      <th>lon</th>\n",
       "      <th>timestamp</th>\n",
       "      <th>value_type</th>\n",
       "      <th>value</th>\n",
       "    </tr>\n",
       "  </thead>\n",
       "  <tbody>\n",
       "    <tr>\n",
       "      <th>0</th>\n",
       "      <td>71</td>\n",
       "      <td>pms5003</td>\n",
       "      <td>35</td>\n",
       "      <td>-1.297</td>\n",
       "      <td>36.743</td>\n",
       "      <td>2021-11-01T00:00:16.023904+00:00</td>\n",
       "      <td>P2</td>\n",
       "      <td>13.6</td>\n",
       "    </tr>\n",
       "    <tr>\n",
       "      <th>1</th>\n",
       "      <td>71</td>\n",
       "      <td>pms5003</td>\n",
       "      <td>35</td>\n",
       "      <td>-1.297</td>\n",
       "      <td>36.743</td>\n",
       "      <td>2021-11-01T00:00:16.023904+00:00</td>\n",
       "      <td>P1</td>\n",
       "      <td>13.6</td>\n",
       "    </tr>\n",
       "    <tr>\n",
       "      <th>2</th>\n",
       "      <td>71</td>\n",
       "      <td>pms5003</td>\n",
       "      <td>35</td>\n",
       "      <td>-1.297</td>\n",
       "      <td>36.743</td>\n",
       "      <td>2021-11-01T00:00:16.023904+00:00</td>\n",
       "      <td>P0</td>\n",
       "      <td>7.0</td>\n",
       "    </tr>\n",
       "    <tr>\n",
       "      <th>3</th>\n",
       "      <td>158</td>\n",
       "      <td>pms5003</td>\n",
       "      <td>33</td>\n",
       "      <td>-1.255</td>\n",
       "      <td>36.693</td>\n",
       "      <td>2021-11-01T00:00:16.320020+00:00</td>\n",
       "      <td>P2</td>\n",
       "      <td>72.0</td>\n",
       "    </tr>\n",
       "    <tr>\n",
       "      <th>4</th>\n",
       "      <td>158</td>\n",
       "      <td>pms5003</td>\n",
       "      <td>33</td>\n",
       "      <td>-1.255</td>\n",
       "      <td>36.693</td>\n",
       "      <td>2021-11-01T00:00:16.320020+00:00</td>\n",
       "      <td>P1</td>\n",
       "      <td>87.2</td>\n",
       "    </tr>\n",
       "  </tbody>\n",
       "</table>\n",
       "</div>"
      ],
      "text/plain": [
       "   sensor_id sensor_type  location    lat     lon  \\\n",
       "0         71     pms5003        35 -1.297  36.743   \n",
       "1         71     pms5003        35 -1.297  36.743   \n",
       "2         71     pms5003        35 -1.297  36.743   \n",
       "3        158     pms5003        33 -1.255  36.693   \n",
       "4        158     pms5003        33 -1.255  36.693   \n",
       "\n",
       "                          timestamp value_type value  \n",
       "0  2021-11-01T00:00:16.023904+00:00         P2  13.6  \n",
       "1  2021-11-01T00:00:16.023904+00:00         P1  13.6  \n",
       "2  2021-11-01T00:00:16.023904+00:00         P0   7.0  \n",
       "3  2021-11-01T00:00:16.320020+00:00         P2  72.0  \n",
       "4  2021-11-01T00:00:16.320020+00:00         P1  87.2  "
      ]
     },
     "execution_count": 16,
     "metadata": {},
     "output_type": "execute_result"
    }
   ],
   "source": [
    "sensor_data.head()"
   ]
  },
  {
   "cell_type": "code",
   "execution_count": 20,
   "id": "9517b4e2",
   "metadata": {},
   "outputs": [
    {
     "data": {
      "text/html": [
       "<div>\n",
       "<style scoped>\n",
       "    .dataframe tbody tr th:only-of-type {\n",
       "        vertical-align: middle;\n",
       "    }\n",
       "\n",
       "    .dataframe tbody tr th {\n",
       "        vertical-align: top;\n",
       "    }\n",
       "\n",
       "    .dataframe thead th {\n",
       "        text-align: right;\n",
       "    }\n",
       "</style>\n",
       "<table border=\"1\" class=\"dataframe\">\n",
       "  <thead>\n",
       "    <tr style=\"text-align: right;\">\n",
       "      <th></th>\n",
       "      <th>sensor_id</th>\n",
       "      <th>location</th>\n",
       "      <th>lat</th>\n",
       "      <th>lon</th>\n",
       "    </tr>\n",
       "  </thead>\n",
       "  <tbody>\n",
       "    <tr>\n",
       "      <th>count</th>\n",
       "      <td>1.200392e+07</td>\n",
       "      <td>1.200392e+07</td>\n",
       "      <td>1.200392e+07</td>\n",
       "      <td>1.200392e+07</td>\n",
       "    </tr>\n",
       "    <tr>\n",
       "      <th>mean</th>\n",
       "      <td>1.950063e+02</td>\n",
       "      <td>8.551839e+02</td>\n",
       "      <td>-1.309095e+00</td>\n",
       "      <td>3.684130e+01</td>\n",
       "    </tr>\n",
       "    <tr>\n",
       "      <th>std</th>\n",
       "      <td>4.187444e+02</td>\n",
       "      <td>1.488441e+03</td>\n",
       "      <td>5.229185e-02</td>\n",
       "      <td>6.688591e-02</td>\n",
       "    </tr>\n",
       "    <tr>\n",
       "      <th>min</th>\n",
       "      <td>4.900000e+01</td>\n",
       "      <td>7.000000e+00</td>\n",
       "      <td>-1.421000e+00</td>\n",
       "      <td>3.669300e+01</td>\n",
       "    </tr>\n",
       "    <tr>\n",
       "      <th>25%</th>\n",
       "      <td>8.800000e+01</td>\n",
       "      <td>1.800000e+01</td>\n",
       "      <td>-1.303000e+00</td>\n",
       "      <td>3.682100e+01</td>\n",
       "    </tr>\n",
       "    <tr>\n",
       "      <th>50%</th>\n",
       "      <td>9.400000e+01</td>\n",
       "      <td>4.600000e+01</td>\n",
       "      <td>-1.292000e+00</td>\n",
       "      <td>3.682500e+01</td>\n",
       "    </tr>\n",
       "    <tr>\n",
       "      <th>75%</th>\n",
       "      <td>1.580000e+02</td>\n",
       "      <td>7.800000e+01</td>\n",
       "      <td>-1.289000e+00</td>\n",
       "      <td>3.688700e+01</td>\n",
       "    </tr>\n",
       "    <tr>\n",
       "      <th>max</th>\n",
       "      <td>4.789000e+03</td>\n",
       "      <td>3.580000e+03</td>\n",
       "      <td>-1.206000e+00</td>\n",
       "      <td>3.695300e+01</td>\n",
       "    </tr>\n",
       "  </tbody>\n",
       "</table>\n",
       "</div>"
      ],
      "text/plain": [
       "          sensor_id      location           lat           lon\n",
       "count  1.200392e+07  1.200392e+07  1.200392e+07  1.200392e+07\n",
       "mean   1.950063e+02  8.551839e+02 -1.309095e+00  3.684130e+01\n",
       "std    4.187444e+02  1.488441e+03  5.229185e-02  6.688591e-02\n",
       "min    4.900000e+01  7.000000e+00 -1.421000e+00  3.669300e+01\n",
       "25%    8.800000e+01  1.800000e+01 -1.303000e+00  3.682100e+01\n",
       "50%    9.400000e+01  4.600000e+01 -1.292000e+00  3.682500e+01\n",
       "75%    1.580000e+02  7.800000e+01 -1.289000e+00  3.688700e+01\n",
       "max    4.789000e+03  3.580000e+03 -1.206000e+00  3.695300e+01"
      ]
     },
     "execution_count": 20,
     "metadata": {},
     "output_type": "execute_result"
    }
   ],
   "source": [
    "sensor_data.describe()"
   ]
  },
  {
   "cell_type": "code",
   "execution_count": 21,
   "id": "c862c5e9",
   "metadata": {},
   "outputs": [
    {
     "name": "stdout",
     "output_type": "stream",
     "text": [
      "<class 'pandas.core.frame.DataFrame'>\n",
      "Int64Index: 12003919 entries, 0 to 719589\n",
      "Data columns (total 8 columns):\n",
      " #   Column       Dtype  \n",
      "---  ------       -----  \n",
      " 0   sensor_id    int64  \n",
      " 1   sensor_type  object \n",
      " 2   location     int64  \n",
      " 3   lat          float64\n",
      " 4   lon          float64\n",
      " 5   timestamp    object \n",
      " 6   value_type   object \n",
      " 7   value        object \n",
      "dtypes: float64(2), int64(2), object(4)\n",
      "memory usage: 824.2+ MB\n"
     ]
    }
   ],
   "source": [
    "sensor_data.info()"
   ]
  },
  {
   "cell_type": "code",
   "execution_count": 22,
   "id": "4bc91599",
   "metadata": {},
   "outputs": [
    {
     "data": {
      "text/plain": [
       "sensor_id      0\n",
       "sensor_type    0\n",
       "location       0\n",
       "lat            0\n",
       "lon            0\n",
       "timestamp      0\n",
       "value_type     0\n",
       "value          0\n",
       "dtype: int64"
      ]
     },
     "execution_count": 22,
     "metadata": {},
     "output_type": "execute_result"
    }
   ],
   "source": [
    "# Checking the missing values\n",
    "sensor_data.isnull().sum()"
   ]
  },
  {
   "cell_type": "code",
   "execution_count": 23,
   "id": "b564d88e",
   "metadata": {},
   "outputs": [
    {
     "name": "stdout",
     "output_type": "stream",
     "text": [
      "duplicates sum  0\n"
     ]
    }
   ],
   "source": [
    "# look for duplicate values\n",
    "data_duplicates = sensor_data.duplicated()\n",
    "print(\"duplicates sum \", data_duplicates.sum())"
   ]
  },
  {
   "cell_type": "code",
   "execution_count": 24,
   "id": "c59c9582",
   "metadata": {},
   "outputs": [
    {
     "data": {
      "text/plain": [
       "(12003919, 8)"
      ]
     },
     "execution_count": 24,
     "metadata": {},
     "output_type": "execute_result"
    }
   ],
   "source": [
    "# shape\n",
    "sensor_data.shape"
   ]
  },
  {
   "cell_type": "code",
   "execution_count": 17,
   "id": "f7daf63d",
   "metadata": {},
   "outputs": [],
   "source": [
    "# convert data datetime\n",
    "sensor_data['timestamp'] = sensor_data['timestamp'].astype(\"datetime64\")"
   ]
  },
  {
   "cell_type": "code",
   "execution_count": 18,
   "id": "512f4933",
   "metadata": {},
   "outputs": [],
   "source": [
    "# rename the value types\n",
    "sensor_data['value_type'] = sensor_data['value_type'].replace(['P2', 'P1', 'P0'], ['PM10', 'PM2.5', 'PM1'])"
   ]
  },
  {
   "cell_type": "code",
   "execution_count": 27,
   "id": "df035641",
   "metadata": {},
   "outputs": [
    {
     "name": "stdout",
     "output_type": "stream",
     "text": [
      "data locations:  [  35   33   18   46   76   37   77   71    7   67   78   40 3573 3576\n",
      " 3579 3580   34] count:  17\n"
     ]
    }
   ],
   "source": [
    "# find out how many locations are in the data\n",
    "locations= sensor_data['location'].unique()\n",
    "counted= sensor_data['location'].nunique()\n",
    "print('data locations: ',locations, 'count: ', counted)"
   ]
  },
  {
   "cell_type": "code",
   "execution_count": 28,
   "id": "b32e5001",
   "metadata": {},
   "outputs": [
    {
     "name": "stderr",
     "output_type": "stream",
     "text": [
      "C:\\Users\\a\\AppData\\Local\\Temp\\ipykernel_5324\\941262069.py:2: FutureWarning: Dropping invalid columns in DataFrameGroupBy.agg is deprecated. In a future version, a TypeError will be raised. Before calling .agg, select only columns which should be valid for the function.\n",
      "  loc_df = sensor_data.groupby(['location','lat', 'lon']).agg(lambda x: ','.join(x.unique())).reset_index()\n"
     ]
    },
    {
     "data": {
      "text/html": [
       "<div>\n",
       "<style scoped>\n",
       "    .dataframe tbody tr th:only-of-type {\n",
       "        vertical-align: middle;\n",
       "    }\n",
       "\n",
       "    .dataframe tbody tr th {\n",
       "        vertical-align: top;\n",
       "    }\n",
       "\n",
       "    .dataframe thead th {\n",
       "        text-align: right;\n",
       "    }\n",
       "</style>\n",
       "<table border=\"1\" class=\"dataframe\">\n",
       "  <thead>\n",
       "    <tr style=\"text-align: right;\">\n",
       "      <th></th>\n",
       "      <th>location</th>\n",
       "      <th>lat</th>\n",
       "      <th>lon</th>\n",
       "      <th>sensor_type</th>\n",
       "      <th>value_type</th>\n",
       "    </tr>\n",
       "  </thead>\n",
       "  <tbody>\n",
       "    <tr>\n",
       "      <th>0</th>\n",
       "      <td>7</td>\n",
       "      <td>-1.298</td>\n",
       "      <td>36.791</td>\n",
       "      <td>DHT22,pms5003,SDS011</td>\n",
       "      <td>humidity,temperature,PM10,PM2.5,PM1</td>\n",
       "    </tr>\n",
       "    <tr>\n",
       "      <th>1</th>\n",
       "      <td>18</td>\n",
       "      <td>-1.292</td>\n",
       "      <td>36.821</td>\n",
       "      <td>pms5003,DHT22</td>\n",
       "      <td>PM10,PM2.5,PM1,humidity,temperature</td>\n",
       "    </tr>\n",
       "    <tr>\n",
       "      <th>2</th>\n",
       "      <td>33</td>\n",
       "      <td>-1.255</td>\n",
       "      <td>36.693</td>\n",
       "      <td>pms5003,DHT22</td>\n",
       "      <td>PM10,PM2.5,PM1,humidity,temperature</td>\n",
       "    </tr>\n",
       "    <tr>\n",
       "      <th>3</th>\n",
       "      <td>34</td>\n",
       "      <td>-1.206</td>\n",
       "      <td>36.781</td>\n",
       "      <td>pms5003,DHT22</td>\n",
       "      <td>PM10,PM2.5,PM1,humidity,temperature</td>\n",
       "    </tr>\n",
       "    <tr>\n",
       "      <th>4</th>\n",
       "      <td>35</td>\n",
       "      <td>-1.297</td>\n",
       "      <td>36.743</td>\n",
       "      <td>pms5003,DHT22</td>\n",
       "      <td>PM10,PM2.5,PM1,humidity,temperature</td>\n",
       "    </tr>\n",
       "    <tr>\n",
       "      <th>5</th>\n",
       "      <td>37</td>\n",
       "      <td>-1.316</td>\n",
       "      <td>36.870</td>\n",
       "      <td>SDS011,DHT22,pms5003</td>\n",
       "      <td>PM10,PM2.5,humidity,temperature,PM1</td>\n",
       "    </tr>\n",
       "    <tr>\n",
       "      <th>6</th>\n",
       "      <td>40</td>\n",
       "      <td>-1.293</td>\n",
       "      <td>36.769</td>\n",
       "      <td>pms5003,DHT22</td>\n",
       "      <td>PM10,PM2.5,PM1,humidity,temperature</td>\n",
       "    </tr>\n",
       "    <tr>\n",
       "      <th>7</th>\n",
       "      <td>46</td>\n",
       "      <td>-1.218</td>\n",
       "      <td>36.887</td>\n",
       "      <td>pms5003,DHT22</td>\n",
       "      <td>PM10,PM2.5,PM1,humidity,temperature</td>\n",
       "    </tr>\n",
       "    <tr>\n",
       "      <th>8</th>\n",
       "      <td>67</td>\n",
       "      <td>-1.383</td>\n",
       "      <td>36.939</td>\n",
       "      <td>pms5003,DHT22</td>\n",
       "      <td>PM10,PM2.5,PM1,humidity,temperature</td>\n",
       "    </tr>\n",
       "    <tr>\n",
       "      <th>9</th>\n",
       "      <td>71</td>\n",
       "      <td>-1.261</td>\n",
       "      <td>36.772</td>\n",
       "      <td>DHT22,SDS011</td>\n",
       "      <td>humidity,temperature,PM10,PM2.5</td>\n",
       "    </tr>\n",
       "    <tr>\n",
       "      <th>10</th>\n",
       "      <td>76</td>\n",
       "      <td>-1.261</td>\n",
       "      <td>36.782</td>\n",
       "      <td>pms5003,DHT22</td>\n",
       "      <td>PM10,PM2.5,PM1,humidity,temperature</td>\n",
       "    </tr>\n",
       "    <tr>\n",
       "      <th>11</th>\n",
       "      <td>77</td>\n",
       "      <td>-1.270</td>\n",
       "      <td>36.801</td>\n",
       "      <td>pms5003,DHT22</td>\n",
       "      <td>PM10,PM2.5,PM1,humidity,temperature</td>\n",
       "    </tr>\n",
       "    <tr>\n",
       "      <th>12</th>\n",
       "      <td>78</td>\n",
       "      <td>-1.421</td>\n",
       "      <td>36.953</td>\n",
       "      <td>pms5003,DHT22</td>\n",
       "      <td>PM10,PM2.5,PM1,humidity,temperature</td>\n",
       "    </tr>\n",
       "    <tr>\n",
       "      <th>13</th>\n",
       "      <td>3573</td>\n",
       "      <td>-1.289</td>\n",
       "      <td>36.825</td>\n",
       "      <td>pms5003,DHT22</td>\n",
       "      <td>PM10,PM2.5,PM1,humidity,temperature</td>\n",
       "    </tr>\n",
       "    <tr>\n",
       "      <th>14</th>\n",
       "      <td>3576</td>\n",
       "      <td>-1.265</td>\n",
       "      <td>36.857</td>\n",
       "      <td>pms5003,DHT22</td>\n",
       "      <td>PM10,PM2.5,PM1,humidity,temperature</td>\n",
       "    </tr>\n",
       "    <tr>\n",
       "      <th>15</th>\n",
       "      <td>3579</td>\n",
       "      <td>-1.239</td>\n",
       "      <td>36.791</td>\n",
       "      <td>pms5003,DHT22</td>\n",
       "      <td>PM10,PM2.5,PM1,humidity,temperature</td>\n",
       "    </tr>\n",
       "    <tr>\n",
       "      <th>16</th>\n",
       "      <td>3580</td>\n",
       "      <td>-1.303</td>\n",
       "      <td>36.829</td>\n",
       "      <td>pms5003,DHT22</td>\n",
       "      <td>PM10,PM2.5,PM1,humidity,temperature</td>\n",
       "    </tr>\n",
       "  </tbody>\n",
       "</table>\n",
       "</div>"
      ],
      "text/plain": [
       "    location    lat     lon           sensor_type  \\\n",
       "0          7 -1.298  36.791  DHT22,pms5003,SDS011   \n",
       "1         18 -1.292  36.821         pms5003,DHT22   \n",
       "2         33 -1.255  36.693         pms5003,DHT22   \n",
       "3         34 -1.206  36.781         pms5003,DHT22   \n",
       "4         35 -1.297  36.743         pms5003,DHT22   \n",
       "5         37 -1.316  36.870  SDS011,DHT22,pms5003   \n",
       "6         40 -1.293  36.769         pms5003,DHT22   \n",
       "7         46 -1.218  36.887         pms5003,DHT22   \n",
       "8         67 -1.383  36.939         pms5003,DHT22   \n",
       "9         71 -1.261  36.772          DHT22,SDS011   \n",
       "10        76 -1.261  36.782         pms5003,DHT22   \n",
       "11        77 -1.270  36.801         pms5003,DHT22   \n",
       "12        78 -1.421  36.953         pms5003,DHT22   \n",
       "13      3573 -1.289  36.825         pms5003,DHT22   \n",
       "14      3576 -1.265  36.857         pms5003,DHT22   \n",
       "15      3579 -1.239  36.791         pms5003,DHT22   \n",
       "16      3580 -1.303  36.829         pms5003,DHT22   \n",
       "\n",
       "                             value_type  \n",
       "0   humidity,temperature,PM10,PM2.5,PM1  \n",
       "1   PM10,PM2.5,PM1,humidity,temperature  \n",
       "2   PM10,PM2.5,PM1,humidity,temperature  \n",
       "3   PM10,PM2.5,PM1,humidity,temperature  \n",
       "4   PM10,PM2.5,PM1,humidity,temperature  \n",
       "5   PM10,PM2.5,humidity,temperature,PM1  \n",
       "6   PM10,PM2.5,PM1,humidity,temperature  \n",
       "7   PM10,PM2.5,PM1,humidity,temperature  \n",
       "8   PM10,PM2.5,PM1,humidity,temperature  \n",
       "9       humidity,temperature,PM10,PM2.5  \n",
       "10  PM10,PM2.5,PM1,humidity,temperature  \n",
       "11  PM10,PM2.5,PM1,humidity,temperature  \n",
       "12  PM10,PM2.5,PM1,humidity,temperature  \n",
       "13  PM10,PM2.5,PM1,humidity,temperature  \n",
       "14  PM10,PM2.5,PM1,humidity,temperature  \n",
       "15  PM10,PM2.5,PM1,humidity,temperature  \n",
       "16  PM10,PM2.5,PM1,humidity,temperature  "
      ]
     },
     "execution_count": 28,
     "metadata": {},
     "output_type": "execute_result"
    }
   ],
   "source": [
    "# create a dataframe with just locations to plot\n",
    "loc_df = sensor_data.groupby(['location','lat', 'lon']).agg(lambda x: ','.join(x.unique())).reset_index()\n",
    "loc_df"
   ]
  },
  {
   "cell_type": "code",
   "execution_count": 29,
   "id": "db26f202",
   "metadata": {},
   "outputs": [
    {
     "data": {
      "application/vnd.plotly.v1+json": {
       "config": {
        "plotlyServerURL": "https://plot.ly"
       },
       "data": [
        {
         "hovertemplate": "lat=%{lat}<br>lon=%{lon}<br>location=%{marker.color}<extra></extra>",
         "lat": [
          -1.298,
          -1.292,
          -1.255,
          -1.206,
          -1.297,
          -1.316,
          -1.293,
          -1.218,
          -1.383,
          -1.261,
          -1.261,
          -1.27,
          -1.421,
          -1.289,
          -1.265,
          -1.239,
          -1.303
         ],
         "legendgroup": "",
         "lon": [
          36.791,
          36.821,
          36.693,
          36.781,
          36.743,
          36.87,
          36.769,
          36.887,
          36.939,
          36.772,
          36.782,
          36.801,
          36.953,
          36.825,
          36.857,
          36.791,
          36.829
         ],
         "marker": {
          "color": [
           7,
           18,
           33,
           34,
           35,
           37,
           40,
           46,
           67,
           71,
           76,
           77,
           78,
           3573,
           3576,
           3579,
           3580
          ],
          "coloraxis": "coloraxis"
         },
         "mode": "markers",
         "name": "",
         "showlegend": false,
         "subplot": "mapbox",
         "type": "scattermapbox"
        }
       ],
       "layout": {
        "coloraxis": {
         "colorbar": {
          "title": {
           "text": "location"
          }
         },
         "colorscale": [
          [
           0,
           "#0d0887"
          ],
          [
           0.1111111111111111,
           "#46039f"
          ],
          [
           0.2222222222222222,
           "#7201a8"
          ],
          [
           0.3333333333333333,
           "#9c179e"
          ],
          [
           0.4444444444444444,
           "#bd3786"
          ],
          [
           0.5555555555555556,
           "#d8576b"
          ],
          [
           0.6666666666666666,
           "#ed7953"
          ],
          [
           0.7777777777777778,
           "#fb9f3a"
          ],
          [
           0.8888888888888888,
           "#fdca26"
          ],
          [
           1,
           "#f0f921"
          ]
         ]
        },
        "legend": {
         "tracegroupgap": 0
        },
        "mapbox": {
         "center": {
          "lat": -1.2862941176470588,
          "lon": 36.817882352941176
         },
         "domain": {
          "x": [
           0,
           1
          ],
          "y": [
           0,
           1
          ]
         },
         "style": "open-street-map",
         "zoom": 9
        },
        "margin": {
         "t": 60
        },
        "template": {
         "data": {
          "bar": [
           {
            "error_x": {
             "color": "#2a3f5f"
            },
            "error_y": {
             "color": "#2a3f5f"
            },
            "marker": {
             "line": {
              "color": "#E5ECF6",
              "width": 0.5
             },
             "pattern": {
              "fillmode": "overlay",
              "size": 10,
              "solidity": 0.2
             }
            },
            "type": "bar"
           }
          ],
          "barpolar": [
           {
            "marker": {
             "line": {
              "color": "#E5ECF6",
              "width": 0.5
             },
             "pattern": {
              "fillmode": "overlay",
              "size": 10,
              "solidity": 0.2
             }
            },
            "type": "barpolar"
           }
          ],
          "carpet": [
           {
            "aaxis": {
             "endlinecolor": "#2a3f5f",
             "gridcolor": "white",
             "linecolor": "white",
             "minorgridcolor": "white",
             "startlinecolor": "#2a3f5f"
            },
            "baxis": {
             "endlinecolor": "#2a3f5f",
             "gridcolor": "white",
             "linecolor": "white",
             "minorgridcolor": "white",
             "startlinecolor": "#2a3f5f"
            },
            "type": "carpet"
           }
          ],
          "choropleth": [
           {
            "colorbar": {
             "outlinewidth": 0,
             "ticks": ""
            },
            "type": "choropleth"
           }
          ],
          "contour": [
           {
            "colorbar": {
             "outlinewidth": 0,
             "ticks": ""
            },
            "colorscale": [
             [
              0,
              "#0d0887"
             ],
             [
              0.1111111111111111,
              "#46039f"
             ],
             [
              0.2222222222222222,
              "#7201a8"
             ],
             [
              0.3333333333333333,
              "#9c179e"
             ],
             [
              0.4444444444444444,
              "#bd3786"
             ],
             [
              0.5555555555555556,
              "#d8576b"
             ],
             [
              0.6666666666666666,
              "#ed7953"
             ],
             [
              0.7777777777777778,
              "#fb9f3a"
             ],
             [
              0.8888888888888888,
              "#fdca26"
             ],
             [
              1,
              "#f0f921"
             ]
            ],
            "type": "contour"
           }
          ],
          "contourcarpet": [
           {
            "colorbar": {
             "outlinewidth": 0,
             "ticks": ""
            },
            "type": "contourcarpet"
           }
          ],
          "heatmap": [
           {
            "colorbar": {
             "outlinewidth": 0,
             "ticks": ""
            },
            "colorscale": [
             [
              0,
              "#0d0887"
             ],
             [
              0.1111111111111111,
              "#46039f"
             ],
             [
              0.2222222222222222,
              "#7201a8"
             ],
             [
              0.3333333333333333,
              "#9c179e"
             ],
             [
              0.4444444444444444,
              "#bd3786"
             ],
             [
              0.5555555555555556,
              "#d8576b"
             ],
             [
              0.6666666666666666,
              "#ed7953"
             ],
             [
              0.7777777777777778,
              "#fb9f3a"
             ],
             [
              0.8888888888888888,
              "#fdca26"
             ],
             [
              1,
              "#f0f921"
             ]
            ],
            "type": "heatmap"
           }
          ],
          "heatmapgl": [
           {
            "colorbar": {
             "outlinewidth": 0,
             "ticks": ""
            },
            "colorscale": [
             [
              0,
              "#0d0887"
             ],
             [
              0.1111111111111111,
              "#46039f"
             ],
             [
              0.2222222222222222,
              "#7201a8"
             ],
             [
              0.3333333333333333,
              "#9c179e"
             ],
             [
              0.4444444444444444,
              "#bd3786"
             ],
             [
              0.5555555555555556,
              "#d8576b"
             ],
             [
              0.6666666666666666,
              "#ed7953"
             ],
             [
              0.7777777777777778,
              "#fb9f3a"
             ],
             [
              0.8888888888888888,
              "#fdca26"
             ],
             [
              1,
              "#f0f921"
             ]
            ],
            "type": "heatmapgl"
           }
          ],
          "histogram": [
           {
            "marker": {
             "pattern": {
              "fillmode": "overlay",
              "size": 10,
              "solidity": 0.2
             }
            },
            "type": "histogram"
           }
          ],
          "histogram2d": [
           {
            "colorbar": {
             "outlinewidth": 0,
             "ticks": ""
            },
            "colorscale": [
             [
              0,
              "#0d0887"
             ],
             [
              0.1111111111111111,
              "#46039f"
             ],
             [
              0.2222222222222222,
              "#7201a8"
             ],
             [
              0.3333333333333333,
              "#9c179e"
             ],
             [
              0.4444444444444444,
              "#bd3786"
             ],
             [
              0.5555555555555556,
              "#d8576b"
             ],
             [
              0.6666666666666666,
              "#ed7953"
             ],
             [
              0.7777777777777778,
              "#fb9f3a"
             ],
             [
              0.8888888888888888,
              "#fdca26"
             ],
             [
              1,
              "#f0f921"
             ]
            ],
            "type": "histogram2d"
           }
          ],
          "histogram2dcontour": [
           {
            "colorbar": {
             "outlinewidth": 0,
             "ticks": ""
            },
            "colorscale": [
             [
              0,
              "#0d0887"
             ],
             [
              0.1111111111111111,
              "#46039f"
             ],
             [
              0.2222222222222222,
              "#7201a8"
             ],
             [
              0.3333333333333333,
              "#9c179e"
             ],
             [
              0.4444444444444444,
              "#bd3786"
             ],
             [
              0.5555555555555556,
              "#d8576b"
             ],
             [
              0.6666666666666666,
              "#ed7953"
             ],
             [
              0.7777777777777778,
              "#fb9f3a"
             ],
             [
              0.8888888888888888,
              "#fdca26"
             ],
             [
              1,
              "#f0f921"
             ]
            ],
            "type": "histogram2dcontour"
           }
          ],
          "mesh3d": [
           {
            "colorbar": {
             "outlinewidth": 0,
             "ticks": ""
            },
            "type": "mesh3d"
           }
          ],
          "parcoords": [
           {
            "line": {
             "colorbar": {
              "outlinewidth": 0,
              "ticks": ""
             }
            },
            "type": "parcoords"
           }
          ],
          "pie": [
           {
            "automargin": true,
            "type": "pie"
           }
          ],
          "scatter": [
           {
            "fillpattern": {
             "fillmode": "overlay",
             "size": 10,
             "solidity": 0.2
            },
            "type": "scatter"
           }
          ],
          "scatter3d": [
           {
            "line": {
             "colorbar": {
              "outlinewidth": 0,
              "ticks": ""
             }
            },
            "marker": {
             "colorbar": {
              "outlinewidth": 0,
              "ticks": ""
             }
            },
            "type": "scatter3d"
           }
          ],
          "scattercarpet": [
           {
            "marker": {
             "colorbar": {
              "outlinewidth": 0,
              "ticks": ""
             }
            },
            "type": "scattercarpet"
           }
          ],
          "scattergeo": [
           {
            "marker": {
             "colorbar": {
              "outlinewidth": 0,
              "ticks": ""
             }
            },
            "type": "scattergeo"
           }
          ],
          "scattergl": [
           {
            "marker": {
             "colorbar": {
              "outlinewidth": 0,
              "ticks": ""
             }
            },
            "type": "scattergl"
           }
          ],
          "scattermapbox": [
           {
            "marker": {
             "colorbar": {
              "outlinewidth": 0,
              "ticks": ""
             }
            },
            "type": "scattermapbox"
           }
          ],
          "scatterpolar": [
           {
            "marker": {
             "colorbar": {
              "outlinewidth": 0,
              "ticks": ""
             }
            },
            "type": "scatterpolar"
           }
          ],
          "scatterpolargl": [
           {
            "marker": {
             "colorbar": {
              "outlinewidth": 0,
              "ticks": ""
             }
            },
            "type": "scatterpolargl"
           }
          ],
          "scatterternary": [
           {
            "marker": {
             "colorbar": {
              "outlinewidth": 0,
              "ticks": ""
             }
            },
            "type": "scatterternary"
           }
          ],
          "surface": [
           {
            "colorbar": {
             "outlinewidth": 0,
             "ticks": ""
            },
            "colorscale": [
             [
              0,
              "#0d0887"
             ],
             [
              0.1111111111111111,
              "#46039f"
             ],
             [
              0.2222222222222222,
              "#7201a8"
             ],
             [
              0.3333333333333333,
              "#9c179e"
             ],
             [
              0.4444444444444444,
              "#bd3786"
             ],
             [
              0.5555555555555556,
              "#d8576b"
             ],
             [
              0.6666666666666666,
              "#ed7953"
             ],
             [
              0.7777777777777778,
              "#fb9f3a"
             ],
             [
              0.8888888888888888,
              "#fdca26"
             ],
             [
              1,
              "#f0f921"
             ]
            ],
            "type": "surface"
           }
          ],
          "table": [
           {
            "cells": {
             "fill": {
              "color": "#EBF0F8"
             },
             "line": {
              "color": "white"
             }
            },
            "header": {
             "fill": {
              "color": "#C8D4E3"
             },
             "line": {
              "color": "white"
             }
            },
            "type": "table"
           }
          ]
         },
         "layout": {
          "annotationdefaults": {
           "arrowcolor": "#2a3f5f",
           "arrowhead": 0,
           "arrowwidth": 1
          },
          "autotypenumbers": "strict",
          "coloraxis": {
           "colorbar": {
            "outlinewidth": 0,
            "ticks": ""
           }
          },
          "colorscale": {
           "diverging": [
            [
             0,
             "#8e0152"
            ],
            [
             0.1,
             "#c51b7d"
            ],
            [
             0.2,
             "#de77ae"
            ],
            [
             0.3,
             "#f1b6da"
            ],
            [
             0.4,
             "#fde0ef"
            ],
            [
             0.5,
             "#f7f7f7"
            ],
            [
             0.6,
             "#e6f5d0"
            ],
            [
             0.7,
             "#b8e186"
            ],
            [
             0.8,
             "#7fbc41"
            ],
            [
             0.9,
             "#4d9221"
            ],
            [
             1,
             "#276419"
            ]
           ],
           "sequential": [
            [
             0,
             "#0d0887"
            ],
            [
             0.1111111111111111,
             "#46039f"
            ],
            [
             0.2222222222222222,
             "#7201a8"
            ],
            [
             0.3333333333333333,
             "#9c179e"
            ],
            [
             0.4444444444444444,
             "#bd3786"
            ],
            [
             0.5555555555555556,
             "#d8576b"
            ],
            [
             0.6666666666666666,
             "#ed7953"
            ],
            [
             0.7777777777777778,
             "#fb9f3a"
            ],
            [
             0.8888888888888888,
             "#fdca26"
            ],
            [
             1,
             "#f0f921"
            ]
           ],
           "sequentialminus": [
            [
             0,
             "#0d0887"
            ],
            [
             0.1111111111111111,
             "#46039f"
            ],
            [
             0.2222222222222222,
             "#7201a8"
            ],
            [
             0.3333333333333333,
             "#9c179e"
            ],
            [
             0.4444444444444444,
             "#bd3786"
            ],
            [
             0.5555555555555556,
             "#d8576b"
            ],
            [
             0.6666666666666666,
             "#ed7953"
            ],
            [
             0.7777777777777778,
             "#fb9f3a"
            ],
            [
             0.8888888888888888,
             "#fdca26"
            ],
            [
             1,
             "#f0f921"
            ]
           ]
          },
          "colorway": [
           "#636efa",
           "#EF553B",
           "#00cc96",
           "#ab63fa",
           "#FFA15A",
           "#19d3f3",
           "#FF6692",
           "#B6E880",
           "#FF97FF",
           "#FECB52"
          ],
          "font": {
           "color": "#2a3f5f"
          },
          "geo": {
           "bgcolor": "white",
           "lakecolor": "white",
           "landcolor": "#E5ECF6",
           "showlakes": true,
           "showland": true,
           "subunitcolor": "white"
          },
          "hoverlabel": {
           "align": "left"
          },
          "hovermode": "closest",
          "mapbox": {
           "style": "light"
          },
          "paper_bgcolor": "white",
          "plot_bgcolor": "#E5ECF6",
          "polar": {
           "angularaxis": {
            "gridcolor": "white",
            "linecolor": "white",
            "ticks": ""
           },
           "bgcolor": "#E5ECF6",
           "radialaxis": {
            "gridcolor": "white",
            "linecolor": "white",
            "ticks": ""
           }
          },
          "scene": {
           "xaxis": {
            "backgroundcolor": "#E5ECF6",
            "gridcolor": "white",
            "gridwidth": 2,
            "linecolor": "white",
            "showbackground": true,
            "ticks": "",
            "zerolinecolor": "white"
           },
           "yaxis": {
            "backgroundcolor": "#E5ECF6",
            "gridcolor": "white",
            "gridwidth": 2,
            "linecolor": "white",
            "showbackground": true,
            "ticks": "",
            "zerolinecolor": "white"
           },
           "zaxis": {
            "backgroundcolor": "#E5ECF6",
            "gridcolor": "white",
            "gridwidth": 2,
            "linecolor": "white",
            "showbackground": true,
            "ticks": "",
            "zerolinecolor": "white"
           }
          },
          "shapedefaults": {
           "line": {
            "color": "#2a3f5f"
           }
          },
          "ternary": {
           "aaxis": {
            "gridcolor": "white",
            "linecolor": "white",
            "ticks": ""
           },
           "baxis": {
            "gridcolor": "white",
            "linecolor": "white",
            "ticks": ""
           },
           "bgcolor": "#E5ECF6",
           "caxis": {
            "gridcolor": "white",
            "linecolor": "white",
            "ticks": ""
           }
          },
          "title": {
           "x": 0.05
          },
          "xaxis": {
           "automargin": true,
           "gridcolor": "white",
           "linecolor": "white",
           "ticks": "",
           "title": {
            "standoff": 15
           },
           "zerolinecolor": "white",
           "zerolinewidth": 2
          },
          "yaxis": {
           "automargin": true,
           "gridcolor": "white",
           "linecolor": "white",
           "ticks": "",
           "title": {
            "standoff": 15
           },
           "zerolinecolor": "white",
           "zerolinewidth": 2
          }
         }
        }
       }
      }
     },
     "metadata": {},
     "output_type": "display_data"
    }
   ],
   "source": [
    "# plot and rename locations\n",
    "plot_locations = px.scatter_mapbox(loc_df, \n",
    "                                lat='lat', \n",
    "                                lon='lon', \n",
    "                                color='location',\n",
    "                                zoom=9, \n",
    "                                mapbox_style='open-street-map')\n",
    "plot_locations.show()"
   ]
  },
  {
   "cell_type": "code",
   "execution_count": 19,
   "id": "515d5d43",
   "metadata": {},
   "outputs": [],
   "source": [
    "# rename the locations\n",
    "sensor_data['location'] = sensor_data['location'].replace([33, 18, 37, 77, 76, 46,35,7, 71, 67, 78, 40, 34, 3579, 3573, 3576, 3580], \n",
    "                                              ['kinoo','haile_sellasie','mukuru','kileleshwa', 'muthangari','roysambu', \n",
    "                                               'riruta', 'ngong_rd', 'lavington', 'syokimau', 'mlolongo', \n",
    "                                               'valley_arcade', 'ruaka', 'new_muthaiga', 'harambee_avenue', 'mathare', 'langata'])"
   ]
  },
  {
   "cell_type": "code",
   "execution_count": 20,
   "id": "72cf0ed9",
   "metadata": {},
   "outputs": [],
   "source": [
    "# add day column\n",
    "sensor_data['day'] = sensor_data['timestamp'].dt.day_name()"
   ]
  },
  {
   "cell_type": "code",
   "execution_count": 21,
   "id": "67b33144",
   "metadata": {},
   "outputs": [],
   "source": [
    "# add time clasification column\n",
    "sensor_data['hour'] = sensor_data['timestamp'].dt.hour\n",
    "def time_class(x):\n",
    "    if (x > 4) and (x <= 8):\n",
    "        return 'Early Morning'\n",
    "    elif (x > 8) and (x <= 12 ):\n",
    "        return 'Morning'\n",
    "    elif (x > 12) and (x <= 16):\n",
    "        return'Noon'\n",
    "    elif (x > 16) and (x <= 20) :\n",
    "        return 'Evening'\n",
    "    elif (x > 20) and (x <= 24):\n",
    "        return'Night'\n",
    "    elif (x <= 4):\n",
    "        return'Late Night'\n",
    "    \n",
    "sensor_data['time'] = sensor_data['hour'].apply(time_class)"
   ]
  },
  {
   "cell_type": "code",
   "execution_count": 33,
   "id": "f4d83629",
   "metadata": {},
   "outputs": [
    {
     "name": "stdout",
     "output_type": "stream",
     "text": [
      "SDS011 sensor ids: \n",
      " 103    123680\n",
      "109        28\n",
      "Name: sensor_id, dtype: int64\n",
      "\n",
      " SDS011 value type: \n",
      " PM10     61854\n",
      "PM2.5    61854\n",
      "Name: value_type, dtype: int64\n",
      "SDS011 locations: \n",
      " ['mukuru' 'lavington' 'ngong_rd']\n"
     ]
    }
   ],
   "source": [
    "# match sensor id to sensor type\n",
    "\n",
    "# loc sds011\n",
    "SDS011= sensor_data.loc[(sensor_data['sensor_type'] == 'SDS011')]\n",
    "\n",
    "# count unique values in the sensor id\n",
    "print('SDS011 sensor ids: \\n', SDS011['sensor_id'].value_counts())\n",
    "\n",
    "#count unique values in value type\n",
    "print('\\n SDS011 value type: \\n', SDS011['value_type'].value_counts())\n",
    "\n",
    "# location for sds011\n",
    "print('SDS011 locations: \\n', SDS011['location'].unique())"
   ]
  },
  {
   "cell_type": "code",
   "execution_count": 34,
   "id": "e319cc7f",
   "metadata": {},
   "outputs": [
    {
     "name": "stdout",
     "output_type": "stream",
     "text": [
      "DHT22 sensor ids: \n",
      " 94      1347724\n",
      "50       714108\n",
      "139      554038\n",
      "177      438724\n",
      "72       373014\n",
      "141      251894\n",
      "845      183020\n",
      "159      162252\n",
      "793      144390\n",
      "104      123680\n",
      "809       52970\n",
      "88        50942\n",
      "173       41288\n",
      "4772      30052\n",
      "175       19750\n",
      "74        16300\n",
      "62         2256\n",
      "223        1430\n",
      "4789        166\n",
      "110          72\n",
      "Name: sensor_id, dtype: int64\n",
      "\n",
      " DHT22 value type: \n",
      " humidity       2254035\n",
      "temperature    2254035\n",
      "Name: value_type, dtype: int64\n",
      "DHT22 locations: \n",
      " ['riruta' 'haile_sellasie' 'kinoo' 'roysambu' 'mukuru' 'kileleshwa'\n",
      " 'muthangari' 'lavington' 'ngong_rd' 'syokimau' 'mlolongo' 'valley_arcade'\n",
      " 'harambee_avenue' 'mathare' 'new_muthaiga' 'langata' 'ruaka']\n"
     ]
    }
   ],
   "source": [
    "# match sensor id to sensor type\n",
    "\n",
    "# loc DHT22\n",
    "DHT22= sensor_data.loc[(sensor_data['sensor_type'] == 'DHT22')]\n",
    "\n",
    "# count unique values in the sensor id\n",
    "print('DHT22 sensor ids: \\n', DHT22['sensor_id'].value_counts())\n",
    "\n",
    "#count unique values in value type\n",
    "print('\\n DHT22 value type: \\n', DHT22['value_type'].value_counts())\n",
    "\n",
    "# location for sds011\n",
    "print('DHT22 locations: \\n', DHT22['location'].unique())"
   ]
  },
  {
   "cell_type": "code",
   "execution_count": 35,
   "id": "6dfa9a24",
   "metadata": {},
   "outputs": [
    {
     "name": "stdout",
     "output_type": "stream",
     "text": [
      "pms5003 sensor ids: \n",
      " 93      2177952\n",
      "49      1070895\n",
      "138      830526\n",
      "178      760875\n",
      "71       591414\n",
      "174      428280\n",
      "140      383268\n",
      "158      288966\n",
      "844      274416\n",
      "792      218778\n",
      "61        88977\n",
      "808       80280\n",
      "87        75387\n",
      "4771      47439\n",
      "176       28944\n",
      "73        23421\n",
      "224        2157\n",
      "4786        166\n",
      "Name: sensor_id, dtype: int64\n",
      "\n",
      " pms5003 value type: \n",
      " PM10     2457408\n",
      "PM2.5    2457408\n",
      "PM1      2457325\n",
      "Name: value_type, dtype: int64\n",
      "pms5003 locations: \n",
      " ['riruta' 'kinoo' 'haile_sellasie' 'roysambu' 'muthangari' 'kileleshwa'\n",
      " 'ngong_rd' 'syokimau' 'mlolongo' 'valley_arcade' 'mukuru'\n",
      " 'harambee_avenue' 'mathare' 'new_muthaiga' 'langata' 'ruaka']\n"
     ]
    }
   ],
   "source": [
    "# match sensor id to sensor type\n",
    "\n",
    "# loc pms5003\n",
    "pms5003= sensor_data.loc[(sensor_data['sensor_type'] == 'pms5003')]\n",
    "\n",
    "# count unique values in the sensor id\n",
    "print('pms5003 sensor ids: \\n', pms5003['sensor_id'].value_counts())\n",
    "\n",
    "#count unique values in value type\n",
    "print('\\n pms5003 value type: \\n', pms5003['value_type'].value_counts())\n",
    "\n",
    "# location for sds011\n",
    "print('pms5003 locations: \\n', pms5003['location'].unique())"
   ]
  },
  {
   "cell_type": "code",
   "execution_count": 39,
   "id": "eea07341",
   "metadata": {},
   "outputs": [
    {
     "data": {
      "text/html": [
       "<div>\n",
       "<style scoped>\n",
       "    .dataframe tbody tr th:only-of-type {\n",
       "        vertical-align: middle;\n",
       "    }\n",
       "\n",
       "    .dataframe tbody tr th {\n",
       "        vertical-align: top;\n",
       "    }\n",
       "\n",
       "    .dataframe thead th {\n",
       "        text-align: right;\n",
       "    }\n",
       "</style>\n",
       "<table border=\"1\" class=\"dataframe\">\n",
       "  <thead>\n",
       "    <tr style=\"text-align: right;\">\n",
       "      <th></th>\n",
       "      <th>sensor_id</th>\n",
       "      <th>sensor_type</th>\n",
       "      <th>location</th>\n",
       "      <th>lat</th>\n",
       "      <th>lon</th>\n",
       "      <th>timestamp</th>\n",
       "      <th>value_type</th>\n",
       "      <th>value</th>\n",
       "      <th>day</th>\n",
       "      <th>hour</th>\n",
       "      <th>time</th>\n",
       "    </tr>\n",
       "  </thead>\n",
       "  <tbody>\n",
       "    <tr>\n",
       "      <th>420851</th>\n",
       "      <td>94</td>\n",
       "      <td>DHT22</td>\n",
       "      <td>haile_sellasie</td>\n",
       "      <td>-1.292</td>\n",
       "      <td>36.821</td>\n",
       "      <td>2022-05-30 20:20:15.810129</td>\n",
       "      <td>temperature</td>\n",
       "      <td>22.7</td>\n",
       "      <td>Monday</td>\n",
       "      <td>20</td>\n",
       "      <td>Evening</td>\n",
       "    </tr>\n",
       "  </tbody>\n",
       "</table>\n",
       "</div>"
      ],
      "text/plain": [
       "        sensor_id sensor_type        location    lat     lon  \\\n",
       "420851         94       DHT22  haile_sellasie -1.292  36.821   \n",
       "\n",
       "                        timestamp   value_type value     day  hour     time  \n",
       "420851 2022-05-30 20:20:15.810129  temperature  22.7  Monday    20  Evening  "
      ]
     },
     "execution_count": 39,
     "metadata": {},
     "output_type": "execute_result"
    }
   ],
   "source": [
    "sensor_data.sample()"
   ]
  },
  {
   "cell_type": "code",
   "execution_count": 22,
   "id": "b954e7de",
   "metadata": {},
   "outputs": [],
   "source": [
    "# selecting rows based on value type \n",
    "data_pm1 = sensor_data.loc[sensor_data['value_type'] == 'PM1']\n",
    "data_pm2_5 = sensor_data.loc[sensor_data['value_type'] == 'PM2.5' ]\n",
    "data_pm10 = sensor_data.loc[sensor_data['value_type'] == 'PM10']\n",
    "data_hum = sensor_data.loc[sensor_data['value_type'] == 'humidity']\n",
    "data_temp = sensor_data.loc[sensor_data['value_type'] == 'temperature']"
   ]
  },
  {
   "cell_type": "code",
   "execution_count": 41,
   "id": "545aca45",
   "metadata": {},
   "outputs": [],
   "source": [
    "# data_pm2_5 = sensor_data.loc[sensor_data['value_type'] == 'PM2.5' ].reset_index()"
   ]
  },
  {
   "cell_type": "code",
   "execution_count": 23,
   "id": "6860dac8",
   "metadata": {},
   "outputs": [
    {
     "data": {
      "text/html": [
       "<div>\n",
       "<style scoped>\n",
       "    .dataframe tbody tr th:only-of-type {\n",
       "        vertical-align: middle;\n",
       "    }\n",
       "\n",
       "    .dataframe tbody tr th {\n",
       "        vertical-align: top;\n",
       "    }\n",
       "\n",
       "    .dataframe thead th {\n",
       "        text-align: right;\n",
       "    }\n",
       "</style>\n",
       "<table border=\"1\" class=\"dataframe\">\n",
       "  <thead>\n",
       "    <tr style=\"text-align: right;\">\n",
       "      <th></th>\n",
       "      <th>sensor_id</th>\n",
       "      <th>sensor_type</th>\n",
       "      <th>location</th>\n",
       "      <th>lat</th>\n",
       "      <th>lon</th>\n",
       "      <th>timestamp</th>\n",
       "      <th>value_type</th>\n",
       "      <th>value</th>\n",
       "      <th>day</th>\n",
       "      <th>hour</th>\n",
       "      <th>time</th>\n",
       "    </tr>\n",
       "  </thead>\n",
       "  <tbody>\n",
       "    <tr>\n",
       "      <th>1</th>\n",
       "      <td>71</td>\n",
       "      <td>pms5003</td>\n",
       "      <td>riruta</td>\n",
       "      <td>-1.297</td>\n",
       "      <td>36.743</td>\n",
       "      <td>2021-11-01 00:00:16.023904</td>\n",
       "      <td>PM2.5</td>\n",
       "      <td>13.6</td>\n",
       "      <td>Monday</td>\n",
       "      <td>0</td>\n",
       "      <td>Late Night</td>\n",
       "    </tr>\n",
       "    <tr>\n",
       "      <th>4</th>\n",
       "      <td>158</td>\n",
       "      <td>pms5003</td>\n",
       "      <td>kinoo</td>\n",
       "      <td>-1.255</td>\n",
       "      <td>36.693</td>\n",
       "      <td>2021-11-01 00:00:16.320020</td>\n",
       "      <td>PM2.5</td>\n",
       "      <td>87.2</td>\n",
       "      <td>Monday</td>\n",
       "      <td>0</td>\n",
       "      <td>Late Night</td>\n",
       "    </tr>\n",
       "    <tr>\n",
       "      <th>9</th>\n",
       "      <td>93</td>\n",
       "      <td>pms5003</td>\n",
       "      <td>haile_sellasie</td>\n",
       "      <td>-1.292</td>\n",
       "      <td>36.821</td>\n",
       "      <td>2021-11-01 00:00:21.263951</td>\n",
       "      <td>PM2.5</td>\n",
       "      <td>9.6</td>\n",
       "      <td>Monday</td>\n",
       "      <td>0</td>\n",
       "      <td>Late Night</td>\n",
       "    </tr>\n",
       "    <tr>\n",
       "      <th>16</th>\n",
       "      <td>844</td>\n",
       "      <td>pms5003</td>\n",
       "      <td>roysambu</td>\n",
       "      <td>-1.218</td>\n",
       "      <td>36.887</td>\n",
       "      <td>2021-11-01 00:00:24.731908</td>\n",
       "      <td>PM2.5</td>\n",
       "      <td>14.0</td>\n",
       "      <td>Monday</td>\n",
       "      <td>0</td>\n",
       "      <td>Late Night</td>\n",
       "    </tr>\n",
       "    <tr>\n",
       "      <th>21</th>\n",
       "      <td>174</td>\n",
       "      <td>pms5003</td>\n",
       "      <td>muthangari</td>\n",
       "      <td>-1.261</td>\n",
       "      <td>36.782</td>\n",
       "      <td>2021-11-01 00:00:26.807988</td>\n",
       "      <td>PM2.5</td>\n",
       "      <td>11.25</td>\n",
       "      <td>Monday</td>\n",
       "      <td>0</td>\n",
       "      <td>Late Night</td>\n",
       "    </tr>\n",
       "  </tbody>\n",
       "</table>\n",
       "</div>"
      ],
      "text/plain": [
       "    sensor_id sensor_type        location    lat     lon  \\\n",
       "1          71     pms5003          riruta -1.297  36.743   \n",
       "4         158     pms5003           kinoo -1.255  36.693   \n",
       "9          93     pms5003  haile_sellasie -1.292  36.821   \n",
       "16        844     pms5003        roysambu -1.218  36.887   \n",
       "21        174     pms5003      muthangari -1.261  36.782   \n",
       "\n",
       "                    timestamp value_type  value     day  hour        time  \n",
       "1  2021-11-01 00:00:16.023904      PM2.5   13.6  Monday     0  Late Night  \n",
       "4  2021-11-01 00:00:16.320020      PM2.5   87.2  Monday     0  Late Night  \n",
       "9  2021-11-01 00:00:21.263951      PM2.5    9.6  Monday     0  Late Night  \n",
       "16 2021-11-01 00:00:24.731908      PM2.5   14.0  Monday     0  Late Night  \n",
       "21 2021-11-01 00:00:26.807988      PM2.5  11.25  Monday     0  Late Night  "
      ]
     },
     "execution_count": 23,
     "metadata": {},
     "output_type": "execute_result"
    }
   ],
   "source": [
    "data_pm2_5.head()"
   ]
  },
  {
   "cell_type": "code",
   "execution_count": 43,
   "id": "fc8d4d46",
   "metadata": {},
   "outputs": [
    {
     "data": {
      "text/html": [
       "<div>\n",
       "<style scoped>\n",
       "    .dataframe tbody tr th:only-of-type {\n",
       "        vertical-align: middle;\n",
       "    }\n",
       "\n",
       "    .dataframe tbody tr th {\n",
       "        vertical-align: top;\n",
       "    }\n",
       "\n",
       "    .dataframe thead th {\n",
       "        text-align: right;\n",
       "    }\n",
       "</style>\n",
       "<table border=\"1\" class=\"dataframe\">\n",
       "  <thead>\n",
       "    <tr style=\"text-align: right;\">\n",
       "      <th></th>\n",
       "      <th>sensor_id</th>\n",
       "      <th>sensor_type</th>\n",
       "      <th>location</th>\n",
       "      <th>lat</th>\n",
       "      <th>lon</th>\n",
       "      <th>timestamp</th>\n",
       "      <th>value_type</th>\n",
       "      <th>value</th>\n",
       "      <th>day</th>\n",
       "      <th>hour</th>\n",
       "      <th>time</th>\n",
       "    </tr>\n",
       "  </thead>\n",
       "  <tbody>\n",
       "    <tr>\n",
       "      <th>0</th>\n",
       "      <td>71</td>\n",
       "      <td>pms5003</td>\n",
       "      <td>riruta</td>\n",
       "      <td>-1.297</td>\n",
       "      <td>36.743</td>\n",
       "      <td>2021-11-01 00:00:16.023904</td>\n",
       "      <td>PM10</td>\n",
       "      <td>13.6</td>\n",
       "      <td>Monday</td>\n",
       "      <td>0</td>\n",
       "      <td>Late Night</td>\n",
       "    </tr>\n",
       "    <tr>\n",
       "      <th>3</th>\n",
       "      <td>158</td>\n",
       "      <td>pms5003</td>\n",
       "      <td>kinoo</td>\n",
       "      <td>-1.255</td>\n",
       "      <td>36.693</td>\n",
       "      <td>2021-11-01 00:00:16.320020</td>\n",
       "      <td>PM10</td>\n",
       "      <td>72.0</td>\n",
       "      <td>Monday</td>\n",
       "      <td>0</td>\n",
       "      <td>Late Night</td>\n",
       "    </tr>\n",
       "    <tr>\n",
       "      <th>8</th>\n",
       "      <td>93</td>\n",
       "      <td>pms5003</td>\n",
       "      <td>haile_sellasie</td>\n",
       "      <td>-1.292</td>\n",
       "      <td>36.821</td>\n",
       "      <td>2021-11-01 00:00:21.263951</td>\n",
       "      <td>PM10</td>\n",
       "      <td>8.6</td>\n",
       "      <td>Monday</td>\n",
       "      <td>0</td>\n",
       "      <td>Late Night</td>\n",
       "    </tr>\n",
       "    <tr>\n",
       "      <th>15</th>\n",
       "      <td>844</td>\n",
       "      <td>pms5003</td>\n",
       "      <td>roysambu</td>\n",
       "      <td>-1.218</td>\n",
       "      <td>36.887</td>\n",
       "      <td>2021-11-01 00:00:24.731908</td>\n",
       "      <td>PM10</td>\n",
       "      <td>13.5</td>\n",
       "      <td>Monday</td>\n",
       "      <td>0</td>\n",
       "      <td>Late Night</td>\n",
       "    </tr>\n",
       "    <tr>\n",
       "      <th>20</th>\n",
       "      <td>174</td>\n",
       "      <td>pms5003</td>\n",
       "      <td>muthangari</td>\n",
       "      <td>-1.261</td>\n",
       "      <td>36.782</td>\n",
       "      <td>2021-11-01 00:00:26.807988</td>\n",
       "      <td>PM10</td>\n",
       "      <td>11.25</td>\n",
       "      <td>Monday</td>\n",
       "      <td>0</td>\n",
       "      <td>Late Night</td>\n",
       "    </tr>\n",
       "  </tbody>\n",
       "</table>\n",
       "</div>"
      ],
      "text/plain": [
       "    sensor_id sensor_type        location    lat     lon  \\\n",
       "0          71     pms5003          riruta -1.297  36.743   \n",
       "3         158     pms5003           kinoo -1.255  36.693   \n",
       "8          93     pms5003  haile_sellasie -1.292  36.821   \n",
       "15        844     pms5003        roysambu -1.218  36.887   \n",
       "20        174     pms5003      muthangari -1.261  36.782   \n",
       "\n",
       "                    timestamp value_type  value     day  hour        time  \n",
       "0  2021-11-01 00:00:16.023904       PM10   13.6  Monday     0  Late Night  \n",
       "3  2021-11-01 00:00:16.320020       PM10   72.0  Monday     0  Late Night  \n",
       "8  2021-11-01 00:00:21.263951       PM10    8.6  Monday     0  Late Night  \n",
       "15 2021-11-01 00:00:24.731908       PM10   13.5  Monday     0  Late Night  \n",
       "20 2021-11-01 00:00:26.807988       PM10  11.25  Monday     0  Late Night  "
      ]
     },
     "execution_count": 43,
     "metadata": {},
     "output_type": "execute_result"
    }
   ],
   "source": [
    "data_pm10.head()"
   ]
  },
  {
   "cell_type": "code",
   "execution_count": 24,
   "id": "37e05992",
   "metadata": {},
   "outputs": [
    {
     "name": "stderr",
     "output_type": "stream",
     "text": [
      "C:\\Users\\a\\AppData\\Local\\Temp\\ipykernel_16244\\2706392488.py:20: SettingWithCopyWarning: \n",
      "A value is trying to be set on a copy of a slice from a DataFrame.\n",
      "Try using .loc[row_indexer,col_indexer] = value instead\n",
      "\n",
      "See the caveats in the documentation: https://pandas.pydata.org/pandas-docs/stable/user_guide/indexing.html#returning-a-view-versus-a-copy\n",
      "  data_pm2_5['quality'] = quality\n",
      "C:\\Users\\a\\AppData\\Local\\Temp\\ipykernel_16244\\2706392488.py:41: SettingWithCopyWarning: \n",
      "A value is trying to be set on a copy of a slice from a DataFrame.\n",
      "Try using .loc[row_indexer,col_indexer] = value instead\n",
      "\n",
      "See the caveats in the documentation: https://pandas.pydata.org/pandas-docs/stable/user_guide/indexing.html#returning-a-view-versus-a-copy\n",
      "  data_pm10['quality'] = quality\n",
      "C:\\Users\\a\\AppData\\Local\\Temp\\ipykernel_16244\\2706392488.py:58: SettingWithCopyWarning: \n",
      "A value is trying to be set on a copy of a slice from a DataFrame.\n",
      "Try using .loc[row_indexer,col_indexer] = value instead\n",
      "\n",
      "See the caveats in the documentation: https://pandas.pydata.org/pandas-docs/stable/user_guide/indexing.html#returning-a-view-versus-a-copy\n",
      "  data_hum['quality'] = quality\n"
     ]
    },
    {
     "data": {
      "text/plain": [
       "'not rated'"
      ]
     },
     "execution_count": 24,
     "metadata": {},
     "output_type": "execute_result"
    }
   ],
   "source": [
    "# add classification column\n",
    "\n",
    "def pm2_class(pm25):\n",
    "    quality = []\n",
    "    \n",
    "    for pm25 in data_pm2_5['value']:\n",
    "        if float(pm25) < 12:\n",
    "            quality.append('good') #green\n",
    "        elif float(pm25) < 35.4:\n",
    "            quality.append('moderate') #yellow\n",
    "        elif float(pm25) < 55.4:\n",
    "            quality.append('unhealthy for sensitive group') #orange\n",
    "        elif float(pm25) < 150.4:\n",
    "            quality.append('unhealthy') #red\n",
    "        elif float(pm25) > 150.5:\n",
    "            quality.append('very unhealthy') #purple\n",
    "        else:\n",
    "            quality.append('not rated')\n",
    "\n",
    "    data_pm2_5['quality'] = quality        \n",
    "pm2_class(data_pm2_5)\n",
    "\n",
    "#pm10 classification\n",
    "def pm10_class(pm10):\n",
    "    quality = []\n",
    "    \n",
    "    for pm10 in data_pm10['value']:\n",
    "        if float(pm10) < 54:\n",
    "            quality.append('good')\n",
    "        elif float(pm10) < 154:\n",
    "            quality.append('moderate')\n",
    "        elif float(pm10) < 254:\n",
    "            quality.append('unhealthy for sensitive group')\n",
    "        elif float(pm10) < 354:\n",
    "            quality.append('unhealthy')\n",
    "        elif float(pm10) >= 355:\n",
    "            quality.append('very unhealthy')\n",
    "        else:\n",
    "            quality.append('not rated')\n",
    "\n",
    "    data_pm10['quality'] = quality        \n",
    "pm10_class(data_pm10)\n",
    "\n",
    "# humidity classification\n",
    "def hum_class(hum):\n",
    "    quality = []\n",
    "    \n",
    "    for hum in data_hum['value']:\n",
    "        if float(hum) < 50:\n",
    "            quality.append('low')\n",
    "        elif float(hum) < 80:\n",
    "            quality.append('high')\n",
    "        elif float(hum) < 80:\n",
    "            quality.append('very high')\n",
    "        else:\n",
    "            quality.append('not rated')\n",
    "\n",
    "    data_hum['quality'] = quality        \n",
    "hum_class(data_hum)    \n",
    "\n",
    "# temperature classification\n",
    "def temp_class(temp):\n",
    "    quality = []    \n",
    "\n",
    "    for temp in data_temp['value']:\n",
    "        if float(temp) < 10:\n",
    "            quality.append('very cold')\n",
    "        elif float(temp) < 20:\n",
    "            quality.append('cold')\n",
    "        elif float(temp) < 27:\n",
    "            quality.append('good')\n",
    "        elif float(temp) < 35:\n",
    "            quality.append('hot')\n",
    "        elif float(temp) > 35:\n",
    "            quality.append('very hot')\n",
    "        else:\n",
    "            return'not rated'\n",
    "        \n",
    "    data_temp['quality'] = quality        \n",
    "temp_class(data_temp)"
   ]
  },
  {
   "cell_type": "code",
   "execution_count": 25,
   "id": "fc216db7",
   "metadata": {},
   "outputs": [
    {
     "data": {
      "text/html": [
       "<div>\n",
       "<style scoped>\n",
       "    .dataframe tbody tr th:only-of-type {\n",
       "        vertical-align: middle;\n",
       "    }\n",
       "\n",
       "    .dataframe tbody tr th {\n",
       "        vertical-align: top;\n",
       "    }\n",
       "\n",
       "    .dataframe thead th {\n",
       "        text-align: right;\n",
       "    }\n",
       "</style>\n",
       "<table border=\"1\" class=\"dataframe\">\n",
       "  <thead>\n",
       "    <tr style=\"text-align: right;\">\n",
       "      <th></th>\n",
       "      <th>sensor_id</th>\n",
       "      <th>sensor_type</th>\n",
       "      <th>location</th>\n",
       "      <th>lat</th>\n",
       "      <th>lon</th>\n",
       "      <th>timestamp</th>\n",
       "      <th>value_type</th>\n",
       "      <th>value</th>\n",
       "      <th>day</th>\n",
       "      <th>hour</th>\n",
       "      <th>time</th>\n",
       "      <th>quality</th>\n",
       "    </tr>\n",
       "  </thead>\n",
       "  <tbody>\n",
       "    <tr>\n",
       "      <th>1</th>\n",
       "      <td>71</td>\n",
       "      <td>pms5003</td>\n",
       "      <td>riruta</td>\n",
       "      <td>-1.297</td>\n",
       "      <td>36.743</td>\n",
       "      <td>2021-11-01 00:00:16.023904</td>\n",
       "      <td>PM2.5</td>\n",
       "      <td>13.6</td>\n",
       "      <td>Monday</td>\n",
       "      <td>0</td>\n",
       "      <td>Late Night</td>\n",
       "      <td>moderate</td>\n",
       "    </tr>\n",
       "    <tr>\n",
       "      <th>4</th>\n",
       "      <td>158</td>\n",
       "      <td>pms5003</td>\n",
       "      <td>kinoo</td>\n",
       "      <td>-1.255</td>\n",
       "      <td>36.693</td>\n",
       "      <td>2021-11-01 00:00:16.320020</td>\n",
       "      <td>PM2.5</td>\n",
       "      <td>87.2</td>\n",
       "      <td>Monday</td>\n",
       "      <td>0</td>\n",
       "      <td>Late Night</td>\n",
       "      <td>unhealthy</td>\n",
       "    </tr>\n",
       "    <tr>\n",
       "      <th>9</th>\n",
       "      <td>93</td>\n",
       "      <td>pms5003</td>\n",
       "      <td>haile_sellasie</td>\n",
       "      <td>-1.292</td>\n",
       "      <td>36.821</td>\n",
       "      <td>2021-11-01 00:00:21.263951</td>\n",
       "      <td>PM2.5</td>\n",
       "      <td>9.6</td>\n",
       "      <td>Monday</td>\n",
       "      <td>0</td>\n",
       "      <td>Late Night</td>\n",
       "      <td>good</td>\n",
       "    </tr>\n",
       "    <tr>\n",
       "      <th>16</th>\n",
       "      <td>844</td>\n",
       "      <td>pms5003</td>\n",
       "      <td>roysambu</td>\n",
       "      <td>-1.218</td>\n",
       "      <td>36.887</td>\n",
       "      <td>2021-11-01 00:00:24.731908</td>\n",
       "      <td>PM2.5</td>\n",
       "      <td>14.0</td>\n",
       "      <td>Monday</td>\n",
       "      <td>0</td>\n",
       "      <td>Late Night</td>\n",
       "      <td>moderate</td>\n",
       "    </tr>\n",
       "    <tr>\n",
       "      <th>21</th>\n",
       "      <td>174</td>\n",
       "      <td>pms5003</td>\n",
       "      <td>muthangari</td>\n",
       "      <td>-1.261</td>\n",
       "      <td>36.782</td>\n",
       "      <td>2021-11-01 00:00:26.807988</td>\n",
       "      <td>PM2.5</td>\n",
       "      <td>11.25</td>\n",
       "      <td>Monday</td>\n",
       "      <td>0</td>\n",
       "      <td>Late Night</td>\n",
       "      <td>good</td>\n",
       "    </tr>\n",
       "  </tbody>\n",
       "</table>\n",
       "</div>"
      ],
      "text/plain": [
       "    sensor_id sensor_type        location    lat     lon  \\\n",
       "1          71     pms5003          riruta -1.297  36.743   \n",
       "4         158     pms5003           kinoo -1.255  36.693   \n",
       "9          93     pms5003  haile_sellasie -1.292  36.821   \n",
       "16        844     pms5003        roysambu -1.218  36.887   \n",
       "21        174     pms5003      muthangari -1.261  36.782   \n",
       "\n",
       "                    timestamp value_type  value     day  hour        time  \\\n",
       "1  2021-11-01 00:00:16.023904      PM2.5   13.6  Monday     0  Late Night   \n",
       "4  2021-11-01 00:00:16.320020      PM2.5   87.2  Monday     0  Late Night   \n",
       "9  2021-11-01 00:00:21.263951      PM2.5    9.6  Monday     0  Late Night   \n",
       "16 2021-11-01 00:00:24.731908      PM2.5   14.0  Monday     0  Late Night   \n",
       "21 2021-11-01 00:00:26.807988      PM2.5  11.25  Monday     0  Late Night   \n",
       "\n",
       "      quality  \n",
       "1    moderate  \n",
       "4   unhealthy  \n",
       "9        good  \n",
       "16   moderate  \n",
       "21       good  "
      ]
     },
     "execution_count": 25,
     "metadata": {},
     "output_type": "execute_result"
    }
   ],
   "source": [
    "data_pm2_5.head()"
   ]
  },
  {
   "cell_type": "code",
   "execution_count": 27,
   "id": "9a6b759b",
   "metadata": {},
   "outputs": [
    {
     "name": "stdout",
     "output_type": "stream",
     "text": [
      "<class 'pandas.core.frame.DataFrame'>\n",
      "Int64Index: 12003919 entries, 6 to 719589\n",
      "Data columns (total 12 columns):\n",
      " #   Column       Dtype         \n",
      "---  ------       -----         \n",
      " 0   sensor_id    int64         \n",
      " 1   sensor_type  object        \n",
      " 2   location     object        \n",
      " 3   lat          float64       \n",
      " 4   lon          float64       \n",
      " 5   timestamp    datetime64[ns]\n",
      " 6   value_type   object        \n",
      " 7   value        object        \n",
      " 8   day          object        \n",
      " 9   hour         int64         \n",
      " 10  time         object        \n",
      " 11  quality      object        \n",
      "dtypes: datetime64[ns](1), float64(2), int64(2), object(7)\n",
      "memory usage: 1.2+ GB\n"
     ]
    }
   ],
   "source": [
    "sensor_data = pd.concat([data_hum,data_pm1,data_pm10,data_pm2_5,data_temp])\n",
    "sensor_data.info()"
   ]
  },
  {
   "cell_type": "code",
   "execution_count": 28,
   "id": "9b5ed957",
   "metadata": {},
   "outputs": [
    {
     "name": "stdout",
     "output_type": "stream",
     "text": [
      "Stored 'data_hum' (DataFrame)\n",
      "Stored 'data_pm10' (DataFrame)\n",
      "Stored 'data_pm2_5' (DataFrame)\n",
      "Stored 'data_temp' (DataFrame)\n",
      "Stored 'sensor_data' (DataFrame)\n"
     ]
    }
   ],
   "source": [
    "# store the datasets\n",
    "%store data_hum\n",
    "%store data_pm10\n",
    "%store data_pm2_5\n",
    "%store data_temp\n",
    "%store sensor_data"
   ]
  },
  {
   "cell_type": "code",
   "execution_count": null,
   "id": "4d084f2d",
   "metadata": {},
   "outputs": [],
   "source": [
    "# findcorrelation of pm2.5, humidity, temp df.corr"
   ]
  },
  {
   "cell_type": "code",
   "execution_count": 1,
   "id": "849e6a1d",
   "metadata": {},
   "outputs": [],
   "source": [
    "import pandas as pd\n",
    "import numpy as np"
   ]
  },
  {
   "cell_type": "code",
   "execution_count": 3,
   "id": "c38592fd",
   "metadata": {},
   "outputs": [
    {
     "name": "stderr",
     "output_type": "stream",
     "text": [
      "C:\\Users\\a\\AppData\\Local\\Temp\\ipykernel_20188\\3199284805.py:1: DtypeWarning: Columns (8,12) have mixed types. Specify dtype option on import or set low_memory=False.\n",
      "  sen_data = pd.read_csv(r'E:\\Users\\admin\\air-quality-project\\sensor_data.csv')\n"
     ]
    }
   ],
   "source": [
    "sen_data = pd.read_csv(r'E:\\Users\\admin\\air-quality-project\\sensor_data.csv')"
   ]
  },
  {
   "cell_type": "code",
   "execution_count": 5,
   "id": "128d5c2e",
   "metadata": {},
   "outputs": [
    {
     "name": "stdout",
     "output_type": "stream",
     "text": [
      "['humidity' 'PM1' 'PM10' 'PM2.5' 'temperature']\n"
     ]
    }
   ],
   "source": [
    "print(sen_data['value_type'].unique())"
   ]
  },
  {
   "cell_type": "code",
   "execution_count": 6,
   "id": "3c38e830",
   "metadata": {},
   "outputs": [
    {
     "data": {
      "text/html": [
       "<div>\n",
       "<style scoped>\n",
       "    .dataframe tbody tr th:only-of-type {\n",
       "        vertical-align: middle;\n",
       "    }\n",
       "\n",
       "    .dataframe tbody tr th {\n",
       "        vertical-align: top;\n",
       "    }\n",
       "\n",
       "    .dataframe thead th {\n",
       "        text-align: right;\n",
       "    }\n",
       "</style>\n",
       "<table border=\"1\" class=\"dataframe\">\n",
       "  <thead>\n",
       "    <tr style=\"text-align: right;\">\n",
       "      <th></th>\n",
       "      <th>Unnamed: 0</th>\n",
       "      <th>sensor_id</th>\n",
       "      <th>sensor_type</th>\n",
       "      <th>location</th>\n",
       "      <th>lat</th>\n",
       "      <th>lon</th>\n",
       "      <th>timestamp</th>\n",
       "      <th>value_type</th>\n",
       "      <th>value</th>\n",
       "      <th>day</th>\n",
       "      <th>hour</th>\n",
       "      <th>time</th>\n",
       "      <th>quality</th>\n",
       "    </tr>\n",
       "  </thead>\n",
       "  <tbody>\n",
       "    <tr>\n",
       "      <th>0</th>\n",
       "      <td>6</td>\n",
       "      <td>72</td>\n",
       "      <td>DHT22</td>\n",
       "      <td>riruta</td>\n",
       "      <td>-1.297</td>\n",
       "      <td>36.743</td>\n",
       "      <td>2021-11-01 00:00:17.683922</td>\n",
       "      <td>humidity</td>\n",
       "      <td>99.9</td>\n",
       "      <td>Monday</td>\n",
       "      <td>0</td>\n",
       "      <td>Late Night</td>\n",
       "      <td>not rated</td>\n",
       "    </tr>\n",
       "    <tr>\n",
       "      <th>1</th>\n",
       "      <td>11</td>\n",
       "      <td>94</td>\n",
       "      <td>DHT22</td>\n",
       "      <td>haile_sellasie</td>\n",
       "      <td>-1.292</td>\n",
       "      <td>36.821</td>\n",
       "      <td>2021-11-01 00:00:22.075974</td>\n",
       "      <td>humidity</td>\n",
       "      <td>82.8</td>\n",
       "      <td>Monday</td>\n",
       "      <td>0</td>\n",
       "      <td>Late Night</td>\n",
       "      <td>not rated</td>\n",
       "    </tr>\n",
       "    <tr>\n",
       "      <th>2</th>\n",
       "      <td>13</td>\n",
       "      <td>159</td>\n",
       "      <td>DHT22</td>\n",
       "      <td>kinoo</td>\n",
       "      <td>-1.255</td>\n",
       "      <td>36.693</td>\n",
       "      <td>2021-11-01 00:00:22.119959</td>\n",
       "      <td>humidity</td>\n",
       "      <td>93.2</td>\n",
       "      <td>Monday</td>\n",
       "      <td>0</td>\n",
       "      <td>Late Night</td>\n",
       "      <td>not rated</td>\n",
       "    </tr>\n",
       "    <tr>\n",
       "      <th>3</th>\n",
       "      <td>18</td>\n",
       "      <td>845</td>\n",
       "      <td>DHT22</td>\n",
       "      <td>roysambu</td>\n",
       "      <td>-1.218</td>\n",
       "      <td>36.887</td>\n",
       "      <td>2021-11-01 00:00:25.563912</td>\n",
       "      <td>humidity</td>\n",
       "      <td>78.5</td>\n",
       "      <td>Monday</td>\n",
       "      <td>0</td>\n",
       "      <td>Late Night</td>\n",
       "      <td>high</td>\n",
       "    </tr>\n",
       "    <tr>\n",
       "      <th>4</th>\n",
       "      <td>26</td>\n",
       "      <td>94</td>\n",
       "      <td>DHT22</td>\n",
       "      <td>haile_sellasie</td>\n",
       "      <td>-1.292</td>\n",
       "      <td>36.821</td>\n",
       "      <td>2021-11-01 00:00:54.272041</td>\n",
       "      <td>humidity</td>\n",
       "      <td>82.8</td>\n",
       "      <td>Monday</td>\n",
       "      <td>0</td>\n",
       "      <td>Late Night</td>\n",
       "      <td>not rated</td>\n",
       "    </tr>\n",
       "  </tbody>\n",
       "</table>\n",
       "</div>"
      ],
      "text/plain": [
       "   Unnamed: 0  sensor_id sensor_type        location    lat     lon  \\\n",
       "0           6         72       DHT22          riruta -1.297  36.743   \n",
       "1          11         94       DHT22  haile_sellasie -1.292  36.821   \n",
       "2          13        159       DHT22           kinoo -1.255  36.693   \n",
       "3          18        845       DHT22        roysambu -1.218  36.887   \n",
       "4          26         94       DHT22  haile_sellasie -1.292  36.821   \n",
       "\n",
       "                    timestamp value_type value     day  hour        time  \\\n",
       "0  2021-11-01 00:00:17.683922   humidity  99.9  Monday     0  Late Night   \n",
       "1  2021-11-01 00:00:22.075974   humidity  82.8  Monday     0  Late Night   \n",
       "2  2021-11-01 00:00:22.119959   humidity  93.2  Monday     0  Late Night   \n",
       "3  2021-11-01 00:00:25.563912   humidity  78.5  Monday     0  Late Night   \n",
       "4  2021-11-01 00:00:54.272041   humidity  82.8  Monday     0  Late Night   \n",
       "\n",
       "     quality  \n",
       "0  not rated  \n",
       "1  not rated  \n",
       "2  not rated  \n",
       "3       high  \n",
       "4  not rated  "
      ]
     },
     "execution_count": 6,
     "metadata": {},
     "output_type": "execute_result"
    }
   ],
   "source": [
    "sen_data.head()"
   ]
  },
  {
   "cell_type": "code",
   "execution_count": 7,
   "id": "c88d40d5",
   "metadata": {},
   "outputs": [
    {
     "name": "stdout",
     "output_type": "stream",
     "text": [
      "<class 'pandas.core.frame.DataFrame'>\n",
      "RangeIndex: 12003919 entries, 0 to 12003918\n",
      "Data columns (total 13 columns):\n",
      " #   Column       Dtype  \n",
      "---  ------       -----  \n",
      " 0   Unnamed: 0   int64  \n",
      " 1   sensor_id    int64  \n",
      " 2   sensor_type  object \n",
      " 3   location     object \n",
      " 4   lat          float64\n",
      " 5   lon          float64\n",
      " 6   timestamp    object \n",
      " 7   value_type   object \n",
      " 8   value        object \n",
      " 9   day          object \n",
      " 10  hour         int64  \n",
      " 11  time         object \n",
      " 12  quality      object \n",
      "dtypes: float64(2), int64(3), object(8)\n",
      "memory usage: 1.2+ GB\n"
     ]
    }
   ],
   "source": [
    "sen_data.info()"
   ]
  },
  {
   "cell_type": "code",
   "execution_count": 8,
   "id": "2924c980",
   "metadata": {},
   "outputs": [
    {
     "data": {
      "text/plain": [
       "0          2021-11-01 00:00:17.683922\n",
       "1          2021-11-01 00:00:22.075974\n",
       "2          2021-11-01 00:00:22.119959\n",
       "3          2021-11-01 00:00:25.563912\n",
       "4          2021-11-01 00:00:54.272041\n",
       "                      ...            \n",
       "12003914   2022-11-26 10:42:12.512925\n",
       "12003915   2022-11-26 10:42:34.007930\n",
       "12003916   2022-11-26 10:42:44.730068\n",
       "12003917   2022-11-26 10:43:00.591119\n",
       "12003918   2022-11-26 10:43:06.318802\n",
       "Name: timestamp, Length: 12003919, dtype: datetime64[ns]"
      ]
     },
     "execution_count": 8,
     "metadata": {},
     "output_type": "execute_result"
    }
   ],
   "source": [
    "pd.to_datetime(sen_data['timestamp'])"
   ]
  },
  {
   "cell_type": "code",
   "execution_count": null,
   "id": "c41dc59c",
   "metadata": {},
   "outputs": [],
   "source": [
    "sen_data['timestamp']"
   ]
  },
  {
   "cell_type": "code",
   "execution_count": null,
   "id": "d2be7ddc",
   "metadata": {},
   "outputs": [],
   "source": [
    "# mean of each day\n",
    "# air_quality.groupby(\n",
    "   # ....:     [air_quality[\"datetime\"].dt.weekday, \"location\"])[\"value\"].mean()"
   ]
  }
 ],
 "metadata": {
  "celltoolbar": "Raw Cell Format",
  "kernelspec": {
   "display_name": "Python 3 (ipykernel)",
   "language": "python",
   "name": "python3"
  },
  "language_info": {
   "codemirror_mode": {
    "name": "ipython",
    "version": 3
   },
   "file_extension": ".py",
   "mimetype": "text/x-python",
   "name": "python",
   "nbconvert_exporter": "python",
   "pygments_lexer": "ipython3",
   "version": "3.10.9"
  }
 },
 "nbformat": 4,
 "nbformat_minor": 5
}
